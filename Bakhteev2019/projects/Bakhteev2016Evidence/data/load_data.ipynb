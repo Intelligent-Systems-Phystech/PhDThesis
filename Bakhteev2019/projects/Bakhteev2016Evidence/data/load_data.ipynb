{
 "cells": [
  {
   "cell_type": "markdown",
   "metadata": {},
   "source": [
    "boston"
   ]
  },
  {
   "cell_type": "code",
   "execution_count": 2,
   "metadata": {
    "collapsed": false
   },
   "outputs": [
    {
     "name": "stdout",
     "output_type": "stream",
     "text": [
      "[ 1.  1.  1.  1.  1.  1.  1.  1.  1.  1.  1.  1.  1.]\n",
      "[-1. -1. -1. -1. -1. -1. -1. -1. -1. -1. -1. -1. -1.]\n",
      "50.0\n",
      "5.0\n"
     ]
    }
   ],
   "source": [
    "import os\n",
    "import numpy as np\n",
    "from sklearn.datasets import load_boston\n",
    "try:\n",
    "    os.mkdir('boston')\n",
    "except:\n",
    "    pass \n",
    "x,y = load_boston(return_X_y=True)\n",
    "x = 2*(x - np.min(x,axis=0))/(np.max(x, axis=0) - np.min(x,axis=0))-1.0\n",
    "print np.max(x, axis=0)\n",
    "print np.min(x, axis=0)\n",
    "print np.max(y)\n",
    "print np.min(y)\n",
    "\n",
    "np.save('./boston/train_x',x[:455])\n",
    "np.save('./boston/train_y',y[:455])\n",
    "np.save('./boston/test_x',x[455:])\n",
    "np.save('./boston/test_y',y[455:])\n"
   ]
  },
  {
   "cell_type": "code",
   "execution_count": 4,
   "metadata": {
    "collapsed": false
   },
   "outputs": [
    {
     "data": {
      "text/plain": [
       "455.40000000000003"
      ]
     },
     "execution_count": 4,
     "metadata": {},
     "output_type": "execute_result"
    }
   ],
   "source": []
  },
  {
   "cell_type": "code",
   "execution_count": 6,
   "metadata": {
    "collapsed": false
   },
   "outputs": [
    {
     "name": "stdout",
     "output_type": "stream",
     "text": [
      "[  6.32000000e-03   0.00000000e+00   4.60000000e-01   0.00000000e+00\n",
      "   3.85000000e-01   3.56100000e+00   2.90000000e+00   1.12960000e+00\n",
      "   1.00000000e+00   1.87000000e+02   1.26000000e+01   3.20000000e-01\n",
      "   1.73000000e+00]\n",
      "[  88.9762  100.       27.74      1.        0.871     8.78    100.\n",
      "   12.1265   24.      711.       22.      396.9      37.97  ]\n"
     ]
    }
   ],
   "source": [
    "print np.min(x, axis=0)\n",
    "print np.max(x, axis=0)"
   ]
  },
  {
   "cell_type": "markdown",
   "metadata": {},
   "source": [
    "bread"
   ]
  },
  {
   "cell_type": "code",
   "execution_count": 4,
   "metadata": {
    "collapsed": false
   },
   "outputs": [],
   "source": [
    "import os\n",
    "import numpy as np\n",
    "data = np.loadtxt('./bread/bread_narez_norm.csv', delimiter=',')\n"
   ]
  },
  {
   "cell_type": "markdown",
   "metadata": {},
   "source": [
    "protein\n",
    "https://archive.ics.uci.edu/ml/machine-learning-databases/00265/"
   ]
  },
  {
   "cell_type": "code",
   "execution_count": 2,
   "metadata": {
    "collapsed": true
   },
   "outputs": [],
   "source": [
    "path = u'/home/legin/Загрузки/CASP.csv'\n",
    "import numpy as np\n"
   ]
  },
  {
   "cell_type": "code",
   "execution_count": 5,
   "metadata": {
    "collapsed": false
   },
   "outputs": [
    {
     "name": "stdout",
     "output_type": "stream",
     "text": [
      "\"RMSD\",\"F1\",\"F2\",\"F3\",\"F4\",\"F5\",\"F6\",\"F7\",\"F8\",\"F9\"\r\n",
      "17.284,13558.3,4305.35,0.31754,162.173,1872790.507,215.359,4287.87,102,27.0302\r\n",
      "6.021,6191.96,1623.16,0.26213,53.3894,803446.6966,87.2024,3328.91,39,38.5468\r\n"
     ]
    }
   ],
   "source": [
    "!head -n 3 '/home/legin/Загрузки/CASP.csv'"
   ]
  },
  {
   "cell_type": "code",
   "execution_count": 3,
   "metadata": {
    "collapsed": false
   },
   "outputs": [],
   "source": [
    "data = np.loadtxt(path,delimiter=',',skiprows=1)"
   ]
  },
  {
   "cell_type": "code",
   "execution_count": 4,
   "metadata": {
    "collapsed": false
   },
   "outputs": [
    {
     "name": "stdout",
     "output_type": "stream",
     "text": [
      "-1.0 1.0\n",
      "20.999\n",
      "0.0\n"
     ]
    }
   ],
   "source": [
    "y = data[:,0]\n",
    "x = data[:,1:]\n",
    "x = 2*(x - np.min(x,axis=0))/(np.max(x, axis=0) - np.min(x,axis=0))-1.0\n",
    "print np.min(x), np.max(x)\n",
    "\n",
    "print np.max(y)\n",
    "print np.min(y)"
   ]
  },
  {
   "cell_type": "code",
   "execution_count": 4,
   "metadata": {
    "collapsed": false
   },
   "outputs": [
    {
     "name": "stdout",
     "output_type": "stream",
     "text": [
      "41157\n"
     ]
    }
   ],
   "source": [
    "part = int(y.shape[0]*0.9)\n",
    "print part\n",
    "train_x,train_y = x[:part], y[:part]\n",
    "test_x,test_y = x[part:],y[:part]"
   ]
  },
  {
   "cell_type": "code",
   "execution_count": null,
   "metadata": {
    "collapsed": true
   },
   "outputs": [],
   "source": [
    "import os\n",
    "try:\n",
    "    os.mkdir('protein')\n",
    "except:\n",
    "    pass\n",
    "part = int(y.shape[0]*0.9)\n",
    "np.save('./protein/train_x',x[:part])\n",
    "np.save('./protein/train_y',y[:part])\n",
    "np.save('./protein/test_x',x[part:])\n",
    "np.save('./protein/test_y',y[part:])"
   ]
  },
  {
   "cell_type": "code",
   "execution_count": 3,
   "metadata": {
    "collapsed": false
   },
   "outputs": [],
   "source": [
    "data = np.loadtxt('/home/legin/Загрузки/YearPredictionMSD.txt',delimiter=',')\n",
    "x = data[:,1:]\n",
    "y = data[:,0]\n",
    "x = 2*(x - np.min(x,axis=0))/(np.max(x, axis=0) - np.min(x,axis=0))-1.0"
   ]
  },
  {
   "cell_type": "code",
   "execution_count": 4,
   "metadata": {
    "collapsed": false
   },
   "outputs": [],
   "source": [
    "train_x, test_x = x[:5000], x[:-51630]\n",
    "train_y, test_y = y[:5000], y[:-51630]"
   ]
  },
  {
   "cell_type": "code",
   "execution_count": 5,
   "metadata": {
    "collapsed": false
   },
   "outputs": [
    {
     "ename": "IOError",
     "evalue": "[Errno 2] No such file or directory: './smd/test_y.npy'",
     "output_type": "error",
     "traceback": [
      "\u001b[1;31m---------------------------------------------------------------------------\u001b[0m",
      "\u001b[1;31mIOError\u001b[0m                                   Traceback (most recent call last)",
      "\u001b[1;32m<ipython-input-5-8836dd45195a>\u001b[0m in \u001b[0;36m<module>\u001b[1;34m()\u001b[0m\n\u001b[0;32m      3\u001b[0m \u001b[0mnp\u001b[0m\u001b[1;33m.\u001b[0m\u001b[0msave\u001b[0m\u001b[1;33m(\u001b[0m\u001b[1;34m'./msd/train_y'\u001b[0m\u001b[1;33m,\u001b[0m\u001b[0mtrain_y\u001b[0m\u001b[1;33m)\u001b[0m\u001b[1;33m\u001b[0m\u001b[0m\n\u001b[0;32m      4\u001b[0m \u001b[0mnp\u001b[0m\u001b[1;33m.\u001b[0m\u001b[0msave\u001b[0m\u001b[1;33m(\u001b[0m\u001b[1;34m'./msd/test_x'\u001b[0m\u001b[1;33m,\u001b[0m\u001b[0mtest_x\u001b[0m\u001b[1;33m)\u001b[0m\u001b[1;33m\u001b[0m\u001b[0m\n\u001b[1;32m----> 5\u001b[1;33m \u001b[0mnp\u001b[0m\u001b[1;33m.\u001b[0m\u001b[0msave\u001b[0m\u001b[1;33m(\u001b[0m\u001b[1;34m'./smd/test_y'\u001b[0m\u001b[1;33m,\u001b[0m\u001b[0mtest_y\u001b[0m\u001b[1;33m)\u001b[0m\u001b[1;33m\u001b[0m\u001b[0m\n\u001b[0m",
      "\u001b[1;32m/usr/local/lib/python2.7/dist-packages/numpy/lib/npyio.pyc\u001b[0m in \u001b[0;36msave\u001b[1;34m(file, arr, allow_pickle, fix_imports)\u001b[0m\n\u001b[0;32m    475\u001b[0m         \u001b[1;32mif\u001b[0m \u001b[1;32mnot\u001b[0m \u001b[0mfile\u001b[0m\u001b[1;33m.\u001b[0m\u001b[0mendswith\u001b[0m\u001b[1;33m(\u001b[0m\u001b[1;34m'.npy'\u001b[0m\u001b[1;33m)\u001b[0m\u001b[1;33m:\u001b[0m\u001b[1;33m\u001b[0m\u001b[0m\n\u001b[0;32m    476\u001b[0m             \u001b[0mfile\u001b[0m \u001b[1;33m=\u001b[0m \u001b[0mfile\u001b[0m \u001b[1;33m+\u001b[0m \u001b[1;34m'.npy'\u001b[0m\u001b[1;33m\u001b[0m\u001b[0m\n\u001b[1;32m--> 477\u001b[1;33m         \u001b[0mfid\u001b[0m \u001b[1;33m=\u001b[0m \u001b[0mopen\u001b[0m\u001b[1;33m(\u001b[0m\u001b[0mfile\u001b[0m\u001b[1;33m,\u001b[0m \u001b[1;34m\"wb\"\u001b[0m\u001b[1;33m)\u001b[0m\u001b[1;33m\u001b[0m\u001b[0m\n\u001b[0m\u001b[0;32m    478\u001b[0m         \u001b[0mown_fid\u001b[0m \u001b[1;33m=\u001b[0m \u001b[0mTrue\u001b[0m\u001b[1;33m\u001b[0m\u001b[0m\n\u001b[0;32m    479\u001b[0m     \u001b[1;32melse\u001b[0m\u001b[1;33m:\u001b[0m\u001b[1;33m\u001b[0m\u001b[0m\n",
      "\u001b[1;31mIOError\u001b[0m: [Errno 2] No such file or directory: './smd/test_y.npy'"
     ]
    }
   ],
   "source": [
    "#os.mkdir('msd')\n",
    "np.save('./msd/train_x',train_x)\n",
    "np.save('./msd/train_y',train_y)\n",
    "np.save('./msd/test_x',test_x)\n",
    "np.save('./msd/test_y',test_y)"
   ]
  }
 ],
 "metadata": {
  "kernelspec": {
   "display_name": "Python 2",
   "language": "python",
   "name": "python2"
  },
  "language_info": {
   "codemirror_mode": {
    "name": "ipython",
    "version": 2
   },
   "file_extension": ".py",
   "mimetype": "text/x-python",
   "name": "python",
   "nbconvert_exporter": "python",
   "pygments_lexer": "ipython2",
   "version": "2.7.6"
  }
 },
 "nbformat": 4,
 "nbformat_minor": 0
}
