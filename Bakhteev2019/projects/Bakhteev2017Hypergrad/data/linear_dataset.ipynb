{
 "cells": [
  {
   "cell_type": "code",
   "execution_count": 29,
   "metadata": {
    "collapsed": true
   },
   "outputs": [],
   "source": [
    "import numpy as np\n",
    "import pylab as plt\n",
    "%matplotlib inline"
   ]
  },
  {
   "cell_type": "raw",
   "metadata": {},
   "source": [
    "y = 2*x1+ 10*x2 + eps"
   ]
  },
  {
   "cell_type": "code",
   "execution_count": 23,
   "metadata": {
    "collapsed": false
   },
   "outputs": [],
   "source": [
    "!mv  linearx.npy ./linearx.npy_old\n",
    "!mv lineary.npy ./lineary.npnpy_oldy "
   ]
  },
  {
   "cell_type": "code",
   "execution_count": 2,
   "metadata": {
    "collapsed": false
   },
   "outputs": [
    {
     "ename": "NameError",
     "evalue": "name 'x' is not defined",
     "output_type": "error",
     "traceback": [
      "\u001b[1;31m---------------------------------------------------------------------------\u001b[0m",
      "\u001b[1;31mNameError\u001b[0m                                 Traceback (most recent call last)",
      "\u001b[1;32m<ipython-input-2-5bd9f6ab7bf5>\u001b[0m in \u001b[0;36m<module>\u001b[1;34m()\u001b[0m\n\u001b[1;32m----> 1\u001b[1;33m \u001b[0mplt\u001b[0m\u001b[1;33m.\u001b[0m\u001b[0mscatter\u001b[0m\u001b[1;33m(\u001b[0m\u001b[0mx\u001b[0m\u001b[1;33m[\u001b[0m\u001b[1;33m:\u001b[0m\u001b[1;33m,\u001b[0m\u001b[1;36m0\u001b[0m\u001b[1;33m]\u001b[0m\u001b[1;33m,\u001b[0m\u001b[0my\u001b[0m \u001b[1;33m)\u001b[0m\u001b[1;33m\u001b[0m\u001b[0m\n\u001b[0m\u001b[0;32m      2\u001b[0m \u001b[0mplt\u001b[0m\u001b[1;33m.\u001b[0m\u001b[0mshow\u001b[0m\u001b[1;33m(\u001b[0m\u001b[1;33m)\u001b[0m\u001b[1;33m\u001b[0m\u001b[0m\n",
      "\u001b[1;31mNameError\u001b[0m: name 'x' is not defined"
     ]
    }
   ],
   "source": [
    "plt.scatter(x[:,0],y )\n",
    "plt.show()"
   ]
  },
  {
   "cell_type": "raw",
   "metadata": {},
   "source": [
    "see Kuznetsov, Tokmakova, Strijov article"
   ]
  },
  {
   "cell_type": "code",
   "execution_count": null,
   "metadata": {
    "collapsed": false
   },
   "outputs": [],
   "source": []
  },
  {
   "cell_type": "code",
   "execution_count": 32,
   "metadata": {
    "collapsed": false
   },
   "outputs": [],
   "source": [
    "np.save('./linearx.npy', x)\n",
    "np.save('./lineary.npy', y)\n",
    "#x = np.load('./linearx.npy')\n",
    "#y = np.load('./lineary.npy')"
   ]
  },
  {
   "cell_type": "code",
   "execution_count": 31,
   "metadata": {
    "collapsed": false,
    "scrolled": false
   },
   "outputs": [
    {
     "name": "stdout",
     "output_type": "stream",
     "text": [
      "(630.957344480193, 25.118864315095795, 2, 16, array([-6.44723826, -3.22361913]))\n",
      "-19.0762594152 -8.30161035266\n"
     ]
    },
    {
     "data": {
      "image/png": "[encoded data removed]",
      "text/plain": [
       "<matplotlib.figure.Figure at 0x7fc1e3ce6050>"
      ]
     },
     "metadata": {},
     "output_type": "display_data"
    }
   ],
   "source": [
    "x = np.random.randn(200,2)\n",
    "\n",
    "#x = np.zeros(200), x[:,0]*x[:,1]#np.array([x[:,0], x[:,0]**2]).T\n",
    "\n",
    "\n",
    "y = x[:,0]*2 + x[:,1]*5+np.random.randn(200)*0.01\n",
    "# = x[:,0] + x[:,1]*1000+np.random.randn(200)*0.1 \n",
    "#np.random.randn(200)#np.sin(x[:,0]) + np.cos(x[:,1])#\n",
    "matrix = np.zeros((100, 100))\n",
    "best = -999999999\n",
    "bestij = None\n",
    "for a1_ in xrange( 0, 100):\n",
    "    for a2_ in xrange(0, 100):\n",
    "        a1 =10**(-a1_*0.1 + 3)\n",
    "        a2 =10**(-a2_*0.1 + 3)\n",
    "        A = np.eye(2)#*[a1,a2]\n",
    "        A[0,0] = a1\n",
    "        A[1,1] = a2\n",
    "        H = A + np.dot(x.T, x)\n",
    "      \n",
    "        w = np.dot(np.dot(np.linalg.inv(H),x.T), y)\n",
    "       \n",
    "        \n",
    "        \n",
    "        pred = np.dot(x,w)\n",
    "        err = np.dot((pred-y).T, (pred-y)) + np.dot(np.dot(w.T, A), w)\n",
    "       \n",
    "        det_h = np.linalg.det(H)# (np.linalg.det(np.linalg.inv(H)))\n",
    "        total =  np.log(np.linalg.det(A))*0.5 -np.log(err) + np.log(det_h) * (-0.5)\n",
    "        #print np.linalg.det(A)**(0.5), err, det_h_inv\n",
    "        matrix[a1_ , a2_ ] = total\n",
    "        best = max(best, total)\n",
    "        if best == total:\n",
    "            bestij = a1, a2, a1_, a2_, -np.log([a1,a2])\n",
    "        \n",
    "        #print a1, a2, total, np.log(err), np.log(det_h)#, H \n",
    "#print best\n",
    "print bestij\n",
    "plt.matshow(matrix.T)\n",
    "\n",
    "print matrix.min(), matrix.max()"
   ]
  },
  {
   "cell_type": "code",
   "execution_count": 11,
   "metadata": {
    "collapsed": false
   },
   "outputs": [],
   "source": [
    "np.save('matrix.npy', matrix)"
   ]
  },
  {
   "cell_type": "code",
   "execution_count": 108,
   "metadata": {
    "collapsed": false
   },
   "outputs": [],
   "source": [
    "np.save('matrix', matrix)"
   ]
  }
 ],
 "metadata": {
  "kernelspec": {
   "display_name": "Python 2",
   "language": "python",
   "name": "python2"
  },
  "language_info": {
   "codemirror_mode": {
    "name": "ipython",
    "version": 2
   },
   "file_extension": ".py",
   "mimetype": "text/x-python",
   "name": "python",
   "nbconvert_exporter": "python",
   "pygments_lexer": "ipython2",
   "version": "2.7.6"
  }
 },
 "nbformat": 4,
 "nbformat_minor": 0
}
