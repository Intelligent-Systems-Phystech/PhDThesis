{
 "cells": [
  {
   "cell_type": "code",
   "execution_count": 1,
   "metadata": {
    "collapsed": false
   },
   "outputs": [],
   "source": [
    "import matplotlib.pylab as plt\n",
    "%matplotlib inline\n",
    "import numpy as np\n",
    "\n",
    "import theano\n",
    "import theano.tensor as T\n"
   ]
  },
  {
   "cell_type": "code",
   "execution_count": 4,
   "metadata": {
    "collapsed": false
   },
   "outputs": [
    {
     "data": {
      "text/plain": [
       "array([ 1.,  0.,  1.,  1.,  1.,  1.,  1.,  1.,  1.,  1.,  1.,  1.])"
      ]
     },
     "execution_count": 4,
     "metadata": {},
     "output_type": "execute_result"
    }
   ],
   "source": [
    "np.std(XX, axis=0)"
   ]
  },
  {
   "cell_type": "code",
   "execution_count": 702,
   "metadata": {
    "collapsed": false
   },
   "outputs": [
    {
     "data": {
      "text/plain": [
       "array([ 0.        ,  0.85365791,  0.08259856,  0.61032597,  0.05576471,\n",
       "        0.46899259,  0.02823782,  0.38502012,  0.        ,  0.46012429,\n",
       "        1.14564584,  0.79974084,  0.        ,  0.        ,  0.0354692 ])"
      ]
     },
     "execution_count": 702,
     "metadata": {},
     "output_type": "execute_result"
    }
   ],
   "source": []
  },
  {
   "cell_type": "code",
   "execution_count": 2,
   "metadata": {
    "collapsed": false
   },
   "outputs": [
    {
     "name": "stdout",
     "output_type": "stream",
     "text": [
      "(40, 12)\n"
     ]
    },
    {
     "data": {
      "text/plain": [
       "<matplotlib.collections.PathCollection at 0x7fd1d1075290>"
      ]
     },
     "execution_count": 2,
     "metadata": {},
     "output_type": "execute_result"
    },
    {
     "data": {
      "image/png": "[encoded data removed]",
      "text/plain": [
       "<matplotlib.figure.Figure at 0x7fd1d1143e10>"
      ]
     },
     "metadata": {},
     "output_type": "display_data"
    }
   ],
   "source": [
    "sz = 40\n",
    "rs = np.random.RandomState(42)\n",
    "X = rs.randn(sz)\n",
    "#X = np.hstack([X_[np.where(X_>0)], X_[np.where(X_<0)]])\n",
    "\n",
    "\n",
    "\n",
    "XX = np.vstack([ X,np.ones(sz), X**2, X**3, X**4, X**5, X**6, X**7, X**8, X**9,  np.cos(X), np.sin(X)])\n",
    "XX = XX.T\n",
    "\n",
    "bias =  np.mean(XX, axis=0)\n",
    "var = (np.std(XX, axis=0))\n",
    "XX = (XX-bias)/var\n",
    "XX[:,1] =  np.ones(sz)\n",
    "print XX.shape\n",
    "dim = XX.shape[1]\n",
    "\n",
    "\n",
    "Y = XX[:,0]  + rs.randn(sz)*1.0\n",
    "plt.scatter(XX[:,0], Y)"
   ]
  },
  {
   "cell_type": "code",
   "execution_count": 95,
   "metadata": {
    "collapsed": false
   },
   "outputs": [],
   "source": [
    "W = theano.shared(np.zeros((1,1)))\n",
    "X_t = T.matrix()\n",
    "Y_t = T.vector()\n",
    "\n",
    "cost = T.mean((T.dot(   X_t, W).T - Y_t )**2)\n",
    "grad = T.grad(cost, W)\n",
    "up = [(W, W -  10**(-1)*grad)]\n",
    "f = theano.function([X_t, Y_t], cost, updates= up, on_unused_input='warn')\n",
    "m = theano.function([X_t, Y_t], cost, on_unused_input='warn')\n",
    "\n"
   ]
  },
  {
   "cell_type": "code",
   "execution_count": 96,
   "metadata": {
    "collapsed": false
   },
   "outputs": [
    {
     "name": "stdout",
     "output_type": "stream",
     "text": [
      "1.06290580403 1.81706337865\n",
      "0.882844363244 1.64725827475\n",
      "0.767126997032 1.52983963278\n",
      "0.692760665269 1.44773217346\n",
      "0.644968778182 1.38963615804\n",
      "0.614255088034 1.34802823181\n",
      "0.594516784734 1.31786382268\n",
      "0.581831867512 1.29573294312\n",
      "0.573679843374 1.27930941449\n",
      "0.568440905162 1.26699029662\n",
      "0.565074075879 1.25765886502\n",
      "0.562910366562 1.25052803801\n",
      "0.561519848179 1.24503634808\n",
      "0.560626224734 1.24077835663\n",
      "0.560051933254 1.23745774561\n",
      "0.559682862023 1.23485541676\n",
      "0.55944567659 1.23280758355\n",
      "0.559293248211 1.23119056414\n",
      "0.559195289367 1.22991010432\n",
      "0.559132335637 1.2288937911\n",
      "0.559091878114 1.22808559627\n",
      "0.559065877888 1.22744190395\n",
      "0.559049168716 1.22692858433\n",
      "0.559038430485 1.2265188137\n",
      "0.559031529509 1.22619143358\n",
      "0.559027094562 1.22592970378\n",
      "0.559024244422 1.22572034685\n",
      "0.559022412765 1.22555281039\n",
      "0.559021235642 1.2254186938\n",
      "0.559020479159 1.22531130052\n",
      "0.559019993001 1.22522528647\n",
      "0.559019680569 1.22515638316\n",
      "0.559019479783 1.22510117876\n",
      "0.559019350747 1.22505694459\n",
      "0.559019267821 1.22502149734\n",
      "0.559019214529 1.2249930894\n",
      "0.55901918028 1.22497032149\n",
      "0.55901915827 1.22495207299\n",
      "0.559019144125 1.22493744622\n",
      "0.559019135035 1.22492572203\n",
      "0.559019129193 1.22491632419\n",
      "0.559019125438 1.22490879095\n",
      "0.559019123026 1.22490275225\n",
      "0.559019121475 1.22489791154\n",
      "0.559019120479 1.22489403111\n",
      "0.559019119838 1.22489092043\n",
      "0.559019119427 1.2248884268\n",
      "0.559019119162 1.22488642781\n",
      "0.559019118992 1.22488482533\n",
      "0.559019118883 1.2248835407\n",
      "0.559019118813 1.22488251089\n",
      "0.559019118768 1.22488168533\n",
      "0.559019118739 1.22488102353\n",
      "0.55901911872 1.22488049299\n",
      "0.559019118708 1.22488006768\n",
      "0.5590191187 1.22487972673\n",
      "0.559019118695 1.2248794534\n",
      "0.559019118692 1.22487923429\n",
      "0.55901911869 1.22487905864\n",
      "0.559019118689 1.22487891783\n",
      "0.559019118688 1.22487880494\n",
      "0.559019118687 1.22487871445\n",
      "0.559019118687 1.2248786419\n",
      "0.559019118687 1.22487858375\n",
      "0.559019118687 1.22487853712\n",
      "0.559019118687 1.22487849975\n",
      "0.559019118687 1.22487846979\n",
      "0.559019118687 1.22487844577\n",
      "0.559019118686 1.22487842651\n",
      "0.559019118686 1.22487841108\n",
      "0.559019118686 1.2248783987\n",
      "0.559019118686 1.22487838878\n",
      "0.559019118686 1.22487838083\n",
      "0.559019118686 1.22487837446\n",
      "0.559019118686 1.22487836935\n",
      "0.559019118686 1.22487836525\n",
      "0.559019118686 1.22487836197\n",
      "0.559019118686 1.22487835933\n",
      "0.559019118686 1.22487835722\n",
      "0.559019118686 1.22487835553\n",
      "0.559019118686 1.22487835417\n",
      "0.559019118686 1.22487835309\n",
      "0.559019118686 1.22487835221\n",
      "0.559019118686 1.22487835151\n",
      "0.559019118686 1.22487835095\n",
      "0.559019118686 1.22487835051\n",
      "0.559019118686 1.22487835015\n",
      "0.559019118686 1.22487834986\n",
      "0.559019118686 1.22487834963\n",
      "0.559019118686 1.22487834944\n",
      "0.559019118686 1.22487834929\n",
      "0.559019118686 1.22487834917\n",
      "0.559019118686 1.22487834908\n",
      "0.559019118686 1.224878349\n",
      "0.559019118686 1.22487834894\n",
      "0.559019118686 1.22487834889\n",
      "0.559019118686 1.22487834885\n",
      "0.559019118686 1.22487834882\n",
      "0.559019118686 1.22487834879\n",
      "0.559019118686 1.22487834877\n",
      "[[ 0.71280978]]\n"
     ]
    }
   ],
   "source": [
    "for _ in xrange(100):\n",
    "    \n",
    "    print f(XX[:sz/2,:1], Y[:sz/2]), m(XX[sz/2:,:1], Y[sz/2:])\n",
    "print W.eval()"
   ]
  },
  {
   "cell_type": "code",
   "execution_count": null,
   "metadata": {
    "collapsed": false
   },
   "outputs": [],
   "source": []
  },
  {
   "cell_type": "code",
   "execution_count": 3,
   "metadata": {
    "collapsed": false
   },
   "outputs": [
    {
     "ename": "NameError",
     "evalue": "name 'W' is not defined",
     "output_type": "error",
     "traceback": [
      "\u001b[1;31m---------------------------------------------------------------------------\u001b[0m",
      "\u001b[1;31mNameError\u001b[0m                                 Traceback (most recent call last)",
      "\u001b[1;32m<ipython-input-3-0d31fa1a5153>\u001b[0m in \u001b[0;36m<module>\u001b[1;34m()\u001b[0m\n\u001b[0;32m      1\u001b[0m \u001b[0mplt\u001b[0m\u001b[1;33m.\u001b[0m\u001b[0mscatter\u001b[0m\u001b[1;33m(\u001b[0m\u001b[0mXX\u001b[0m\u001b[1;33m[\u001b[0m\u001b[1;33m:\u001b[0m\u001b[0msz\u001b[0m\u001b[1;33m/\u001b[0m\u001b[1;36m2\u001b[0m\u001b[1;33m,\u001b[0m\u001b[1;36m0\u001b[0m \u001b[1;33m]\u001b[0m\u001b[1;33m,\u001b[0m \u001b[0mY\u001b[0m\u001b[1;33m[\u001b[0m\u001b[1;33m:\u001b[0m\u001b[0msz\u001b[0m\u001b[1;33m/\u001b[0m\u001b[1;36m2\u001b[0m\u001b[1;33m]\u001b[0m\u001b[1;33m)\u001b[0m\u001b[1;33m\u001b[0m\u001b[0m\n\u001b[1;32m----> 2\u001b[1;33m \u001b[0mplt\u001b[0m\u001b[1;33m.\u001b[0m\u001b[0mscatter\u001b[0m\u001b[1;33m(\u001b[0m\u001b[0mXX\u001b[0m\u001b[1;33m[\u001b[0m\u001b[1;33m:\u001b[0m\u001b[0msz\u001b[0m\u001b[1;33m/\u001b[0m\u001b[1;36m2\u001b[0m\u001b[1;33m,\u001b[0m \u001b[1;36m0\u001b[0m\u001b[1;33m]\u001b[0m\u001b[1;33m,\u001b[0m \u001b[0mnp\u001b[0m\u001b[1;33m.\u001b[0m\u001b[0mdot\u001b[0m\u001b[1;33m(\u001b[0m\u001b[0mXX\u001b[0m\u001b[1;33m[\u001b[0m\u001b[1;33m:\u001b[0m\u001b[0msz\u001b[0m\u001b[1;33m/\u001b[0m\u001b[1;36m2\u001b[0m\u001b[1;33m,\u001b[0m \u001b[1;33m:\u001b[0m\u001b[1;36m1\u001b[0m\u001b[1;33m]\u001b[0m \u001b[1;33m,\u001b[0m \u001b[0mW\u001b[0m\u001b[1;33m.\u001b[0m\u001b[0meval\u001b[0m\u001b[1;33m(\u001b[0m\u001b[1;33m)\u001b[0m\u001b[1;33m)\u001b[0m\u001b[1;33m,\u001b[0m \u001b[0mc\u001b[0m\u001b[1;33m=\u001b[0m\u001b[1;34m'r'\u001b[0m\u001b[1;33m)\u001b[0m\u001b[1;33m\u001b[0m\u001b[0m\n\u001b[0m\u001b[0;32m      3\u001b[0m \u001b[1;32mprint\u001b[0m \u001b[0mXX\u001b[0m\u001b[1;33m[\u001b[0m\u001b[0msz\u001b[0m\u001b[1;33m/\u001b[0m\u001b[1;36m2\u001b[0m\u001b[1;33m:\u001b[0m\u001b[1;33m,\u001b[0m\u001b[1;36m0\u001b[0m\u001b[1;33m]\u001b[0m\u001b[1;33m\u001b[0m\u001b[0m\n\u001b[0;32m      4\u001b[0m \u001b[1;32mprint\u001b[0m \u001b[0mY\u001b[0m\u001b[1;33m[\u001b[0m\u001b[0msz\u001b[0m\u001b[1;33m/\u001b[0m\u001b[1;36m2\u001b[0m\u001b[1;33m:\u001b[0m\u001b[1;33m]\u001b[0m\u001b[1;33m\u001b[0m\u001b[0m\n",
      "\u001b[1;31mNameError\u001b[0m: name 'W' is not defined"
     ]
    },
    {
     "data": {
      "image/png": "[encoded data removed]",
      "text/plain": [
       "<matplotlib.figure.Figure at 0x7fe9376a7610>"
      ]
     },
     "metadata": {},
     "output_type": "display_data"
    }
   ],
   "source": [
    "plt.scatter(XX[:sz/2,0 ], Y[:sz/2])\n",
    "plt.scatter(XX[:sz/2, 0], np.dot(XX[:sz/2, :1] , W.eval()), c='r')\n",
    "print XX[sz/2:,0]\n",
    "print Y[sz/2:]"
   ]
  },
  {
   "cell_type": "code",
   "execution_count": 309,
   "metadata": {
    "collapsed": false
   },
   "outputs": [
    {
     "data": {
      "text/plain": [
       "<matplotlib.collections.PathCollection at 0x7f7c2cce1450>"
      ]
     },
     "execution_count": 309,
     "metadata": {},
     "output_type": "execute_result"
    },
    {
     "data": {
      "image/png": "[encoded data removed]",
      "text/plain": [
       "<matplotlib.figure.Figure at 0x7f7c2c09f810>"
      ]
     },
     "metadata": {},
     "output_type": "display_data"
    }
   ],
   "source": [
    "plt.scatter(XX[sz/2:,0 ], Y[:sz/2])\n",
    "plt.scatter(XX[sz/2:, 0], np.dot(XX[sz/2:, :1] , W.eval()), c='r')\n"
   ]
  },
  {
   "cell_type": "code",
   "execution_count": 13,
   "metadata": {
    "collapsed": false
   },
   "outputs": [],
   "source": [
    "W = theano.shared(np.zeros((dim,1)))\n",
    "X_t = T.matrix()\n",
    "Y_t = T.vector()\n",
    "\n",
    "cost = T.mean((T.dot(   X_t, W).T - Y_t )**2)\n",
    "grad = T.grad(cost, W)\n",
    "up = [(W, W -  10**(-1)*grad)]\n",
    "f = theano.function([X_t, Y_t], cost, updates= up, on_unused_input='warn')\n",
    "m = theano.function([X_t, Y_t], cost, on_unused_input='warn')"
   ]
  },
  {
   "cell_type": "code",
   "execution_count": 14,
   "metadata": {
    "collapsed": false
   },
   "outputs": [
    {
     "data": {
      "text/plain": [
       "array([ 0.49877885,  1.        ,  0.24324924,  0.60018847,  0.15107578,\n",
       "        0.68091694,  0.11552996,  0.74722758,  0.09554852,  0.79993538,\n",
       "        0.24235626,  0.45535949,  0.24398298,  0.56273553,  0.44170923])"
      ]
     },
     "execution_count": 14,
     "metadata": {},
     "output_type": "execute_result"
    }
   ],
   "source": [
    "np.mean((np.dot(XX, W.eval()).T -  Y)**2)\n",
    "XX.mean(axis=0)"
   ]
  },
  {
   "cell_type": "code",
   "execution_count": 15,
   "metadata": {
    "collapsed": false
   },
   "outputs": [
    {
     "name": "stdout",
     "output_type": "stream",
     "text": [
      "0 (array(0.7450836649698513), array(1.219452150177001))\n",
      "100 (array(0.29222812421533473), array(1.6303776331028317))\n",
      "200 (array(0.2385420073549362), array(2.3122377874437547))\n",
      "300 (array(0.2214919729753518), array(2.9120766571025163))\n",
      "400 (array(0.21457777250230894), array(3.382671181881695))\n",
      "500 (array(0.2112944032588929), array(3.73954399759049))\n",
      "600 (array(0.20949019463767798), array(4.009057433993894))\n",
      "700 (array(0.20832519364206745), array(4.215178402999912))\n",
      "800 (array(0.20744920765403232), array(4.37660993674535))\n",
      "900 (array(0.20671266036963004), array(4.507001946209097))\n"
     ]
    },
    {
     "data": {
      "text/plain": [
       "array([[ 1.01523631],\n",
       "       [ 0.18206664],\n",
       "       [-1.34188633],\n",
       "       [-0.53130647],\n",
       "       [-0.89752512],\n",
       "       [-0.3537973 ],\n",
       "       [-0.50551869],\n",
       "       [-0.14987307],\n",
       "       [-0.26950336],\n",
       "       [-0.00888194],\n",
       "       [-0.20362479],\n",
       "       [-0.83426943],\n",
       "       [-0.56525604],\n",
       "       [-0.31229388],\n",
       "       [ 2.22423535]])"
      ]
     },
     "execution_count": 15,
     "metadata": {},
     "output_type": "execute_result"
    }
   ],
   "source": [
    "for i in xrange(1000):\n",
    "      \n",
    "    res=  f(XX[:sz/2], Y[:sz/2]), m(XX[sz/2:], Y[sz/2:])\n",
    "    if i%100 == 0:\n",
    "        print i, res\n",
    "W.eval()"
   ]
  },
  {
   "cell_type": "code",
   "execution_count": 18,
   "metadata": {
    "collapsed": false
   },
   "outputs": [
    {
     "name": "stdout",
     "output_type": "stream",
     "text": [
      "[[ 1.01523631]\n",
      " [ 0.18206664]\n",
      " [-1.34188633]\n",
      " [-0.53130647]\n",
      " [-0.89752512]\n",
      " [-0.3537973 ]\n",
      " [-0.50551869]\n",
      " [-0.14987307]\n",
      " [-0.26950336]\n",
      " [-0.00888194]\n",
      " [-0.20362479]\n",
      " [-0.83426943]\n",
      " [-0.56525604]\n",
      " [-0.31229388]\n",
      " [ 2.22423535]]\n"
     ]
    },
    {
     "data": {
      "text/plain": [
       "<matplotlib.collections.PathCollection at 0x7fe9221fa950>"
      ]
     },
     "execution_count": 18,
     "metadata": {},
     "output_type": "execute_result"
    },
    {
     "data": {
      "image/png": "[encoded data removed]",
      "text/plain": [
       "<matplotlib.figure.Figure at 0x7fe92223a610>"
      ]
     },
     "metadata": {},
     "output_type": "display_data"
    }
   ],
   "source": [
    "print W.eval()\n",
    "plt.scatter(XX[:,0], Y)\n",
    "plt.scatter(XX[:,0], np.dot(XX, W.eval()), c='r')\n"
   ]
  },
  {
   "cell_type": "code",
   "execution_count": 23,
   "metadata": {
    "collapsed": false
   },
   "outputs": [
    {
     "name": "stdout",
     "output_type": "stream",
     "text": [
      "[[1.015236310488183], [0.18206663557502625], [-1.3418863286669727], [-0.531306471849201], [-0.8975251191907162], [-0.35379730196526593], [-0.5055186935905474], [-0.14987306958541574], [-0.2695033632075346], [-0.008881940276900693], [-0.20362478805713358], [-0.8342694303107847], [-0.5652560379070967], [-0.312293878403576], [2.2242353537882873]]\n"
     ]
    },
    {
     "data": {
      "text/plain": [
       "(-2, 2)"
      ]
     },
     "execution_count": 23,
     "metadata": {},
     "output_type": "execute_result"
    },
    {
     "data": {
      "image/png": "[encoded data removed]",
      "text/plain": [
       "<matplotlib.figure.Figure at 0x7fe922247890>"
      ]
     },
     "metadata": {},
     "output_type": "display_data"
    }
   ],
   "source": [
    "print W.eval().tolist()\n",
    "plt.scatter(XX[:sz/2,0], Y[:sz/2])\n",
    "plt.scatter(XX[:sz/2, 0], np.dot(XX[:sz/2], W.eval()), c='r')\n",
    "plt.ylim((-2,2))"
   ]
  },
  {
   "cell_type": "code",
   "execution_count": 292,
   "metadata": {
    "collapsed": false
   },
   "outputs": [
    {
     "name": "stdout",
     "output_type": "stream",
     "text": [
      "[[ 1.01523631]\n",
      " [ 0.18206664]\n",
      " [-1.34188633]\n",
      " [-0.53130647]\n",
      " [-0.89752512]\n",
      " [-0.3537973 ]\n",
      " [-0.50551869]\n",
      " [-0.14987307]\n",
      " [-0.26950336]\n",
      " [-0.00888194]\n",
      " [-0.20362479]\n",
      " [-0.83426943]\n",
      " [-0.56525604]\n",
      " [-0.31229388]\n",
      " [ 2.22423535]]\n"
     ]
    },
    {
     "data": {
      "text/plain": [
       "<matplotlib.collections.PathCollection at 0x7f7c2f8a2e10>"
      ]
     },
     "execution_count": 292,
     "metadata": {},
     "output_type": "execute_result"
    },
    {
     "data": {
      "image/png": "[encoded data removed]",
      "text/plain": [
       "<matplotlib.figure.Figure at 0x7f7c2c5fcd90>"
      ]
     },
     "metadata": {},
     "output_type": "display_data"
    }
   ],
   "source": [
    "print W.eval()\n",
    "plt.scatter(X[sz/2:], Y[sz/2:])\n",
    "plt.scatter(X[sz/2:], np.dot(XX[sz/2:], W.eval()), c='r')\n"
   ]
  },
  {
   "cell_type": "code",
   "execution_count": 92,
   "metadata": {
    "collapsed": false
   },
   "outputs": [],
   "source": [
    "np.save('linear2_x', XX)\n",
    "np.save('linear2_y', Y)\n",
    "np.save('linear2_bias_var', [bias, var])"
   ]
  },
  {
   "cell_type": "code",
   "execution_count": 93,
   "metadata": {
    "collapsed": false
   },
   "outputs": [
    {
     "name": "stdout",
     "output_type": "stream",
     "text": [
      "[-111473033.36722681, -3.822011359035969, 7048428.999576522, 47842369.20789098, -1992383.070291426, -7735654.807677854, 233418.8139658682, 638894.238774661, -14136.439025238156, -29842.29005979374, 5363581.321789765, 76455949.83176447]\n"
     ]
    }
   ],
   "source": [
    "print np.linalg.lstsq(XX[:sz/2],Y[:sz/2])[0].tolist(), \n"
   ]
  },
  {
   "cell_type": "code",
   "execution_count": 47,
   "metadata": {
    "collapsed": false
   },
   "outputs": [
    {
     "data": {
      "text/plain": [
       "<matplotlib.collections.PathCollection at 0x7fe921f8a250>"
      ]
     },
     "execution_count": 47,
     "metadata": {},
     "output_type": "execute_result"
    },
    {
     "data": {
      "image/png": "[encoded data removed]",
      "text/plain": [
       "<matplotlib.figure.Figure at 0x7fe92203db90>"
      ]
     },
     "metadata": {},
     "output_type": "display_data"
    }
   ],
   "source": [
    "plt.scatter(XX[:sz/2,0], np.dot(XX[:sz/2] , np.linalg.lstsq(XX[:sz/2],Y[:sz/2])[0]))\n",
    "plt.scatter(XX[:sz/2,0], Y[:sz/2], c='r')"
   ]
  },
  {
   "cell_type": "code",
   "execution_count": 77,
   "metadata": {
    "collapsed": false
   },
   "outputs": [
    {
     "data": {
      "text/plain": [
       "array([ 0.44187494,  0.08314906,  0.64770096,  2.42132856, -0.56549411,\n",
       "       -0.565435  ,  3.05634838,  0.61452143, -0.83138291,  0.52804205,\n",
       "       -0.83124298, -0.83131604,  0.01244401, -0.6208827 , -1.51998563,\n",
       "       -0.8140806 , -0.36639417,  0.05802462, -0.45800394, -1.5931245 ,\n",
       "        1.76176201, -0.53377007,  1.51441676, -1.66041525, -0.8201958 ,\n",
       "        0.71737819, -0.46391361,  0.17334739, -0.7963902 , -0.71480608,\n",
       "       -0.79580583,  2.24636424, -0.9597861 , -0.36311122,  0.53773556,\n",
       "       -0.6539337 ,  0.05526991, -1.75080725, -1.1314763 ,  0.08603519,\n",
       "        0.63996559,  0.18680287,  0.38129912, -0.73070147, -1.92485895,\n",
       "       -0.69942063, -0.83112268,  0.02305205,  0.10802056, -1.16144012])"
      ]
     },
     "execution_count": 77,
     "metadata": {},
     "output_type": "execute_result"
    }
   ],
   "source": [
    "np.dot(XX[:sz/2] , np.linalg.lstsq(XX[:sz/2],Y[:sz/2])[0])"
   ]
  },
  {
   "cell_type": "code",
   "execution_count": 105,
   "metadata": {
    "collapsed": false
   },
   "outputs": [
    {
     "ename": "ValueError",
     "evalue": "operands could not be broadcast together with shapes (40,15) (12,) ",
     "output_type": "error",
     "traceback": [
      "\u001b[1;31m---------------------------------------------------------------------------\u001b[0m",
      "\u001b[1;31mValueError\u001b[0m                                Traceback (most recent call last)",
      "\u001b[1;32m<ipython-input-105-5d7726306f56>\u001b[0m in \u001b[0;36m<module>\u001b[1;34m()\u001b[0m\n\u001b[0;32m      2\u001b[0m \u001b[0mXX2\u001b[0m \u001b[1;33m=\u001b[0m \u001b[0mnp\u001b[0m\u001b[1;33m.\u001b[0m\u001b[0mvstack\u001b[0m\u001b[1;33m(\u001b[0m\u001b[1;33m[\u001b[0m \u001b[0mX\u001b[0m\u001b[1;33m,\u001b[0m\u001b[0mnp\u001b[0m\u001b[1;33m.\u001b[0m\u001b[0mones\u001b[0m\u001b[1;33m(\u001b[0m\u001b[0mX\u001b[0m\u001b[1;33m.\u001b[0m\u001b[0mshape\u001b[0m\u001b[1;33m[\u001b[0m\u001b[1;36m0\u001b[0m\u001b[1;33m]\u001b[0m\u001b[1;33m)\u001b[0m\u001b[1;33m,\u001b[0m \u001b[0mX\u001b[0m\u001b[1;33m**\u001b[0m\u001b[1;36m2\u001b[0m\u001b[1;33m,\u001b[0m \u001b[0mX\u001b[0m\u001b[1;33m**\u001b[0m\u001b[1;36m3\u001b[0m\u001b[1;33m,\u001b[0m \u001b[0mX\u001b[0m\u001b[1;33m**\u001b[0m\u001b[1;36m4\u001b[0m\u001b[1;33m,\u001b[0m \u001b[0mX\u001b[0m\u001b[1;33m**\u001b[0m\u001b[1;36m5\u001b[0m\u001b[1;33m,\u001b[0m \u001b[0mX\u001b[0m\u001b[1;33m**\u001b[0m\u001b[1;36m6\u001b[0m\u001b[1;33m,\u001b[0m \u001b[0mX\u001b[0m\u001b[1;33m**\u001b[0m\u001b[1;36m7\u001b[0m\u001b[1;33m,\u001b[0m \u001b[0mX\u001b[0m\u001b[1;33m**\u001b[0m\u001b[1;36m8\u001b[0m\u001b[1;33m,\u001b[0m \u001b[0mX\u001b[0m\u001b[1;33m**\u001b[0m\u001b[1;36m9\u001b[0m\u001b[1;33m,\u001b[0m  \u001b[0mnp\u001b[0m\u001b[1;33m.\u001b[0m\u001b[0mexp\u001b[0m\u001b[1;33m(\u001b[0m\u001b[0mX\u001b[0m\u001b[1;33m)\u001b[0m\u001b[1;33m,\u001b[0m \u001b[0mabs\u001b[0m\u001b[1;33m(\u001b[0m\u001b[0mX\u001b[0m\u001b[1;33m)\u001b[0m\u001b[1;33m**\u001b[0m\u001b[1;33m(\u001b[0m\u001b[1;36m0.5\u001b[0m\u001b[1;33m)\u001b[0m\u001b[1;33m,\u001b[0m \u001b[0mabs\u001b[0m\u001b[1;33m(\u001b[0m\u001b[0mX\u001b[0m\u001b[1;33m)\u001b[0m\u001b[1;33m**\u001b[0m\u001b[1;33m(\u001b[0m\u001b[1;33m-\u001b[0m\u001b[1;36m1\u001b[0m\u001b[1;33m)\u001b[0m\u001b[1;33m,\u001b[0m \u001b[0mnp\u001b[0m\u001b[1;33m.\u001b[0m\u001b[0mlog\u001b[0m\u001b[1;33m(\u001b[0m\u001b[0mabs\u001b[0m\u001b[1;33m(\u001b[0m\u001b[0mX\u001b[0m\u001b[1;33m)\u001b[0m\u001b[1;33m)\u001b[0m\u001b[1;33m,\u001b[0m \u001b[0mnp\u001b[0m\u001b[1;33m.\u001b[0m\u001b[0msin\u001b[0m\u001b[1;33m(\u001b[0m\u001b[0mX\u001b[0m\u001b[1;33m)\u001b[0m\u001b[1;33m]\u001b[0m\u001b[1;33m)\u001b[0m\u001b[1;33m\u001b[0m\u001b[0m\n\u001b[0;32m      3\u001b[0m \u001b[0mXX2\u001b[0m \u001b[1;33m=\u001b[0m \u001b[0mXX2\u001b[0m\u001b[1;33m.\u001b[0m\u001b[0mT\u001b[0m\u001b[1;33m\u001b[0m\u001b[0m\n\u001b[1;32m----> 4\u001b[1;33m \u001b[0mXX2\u001b[0m \u001b[1;33m=\u001b[0m \u001b[1;33m(\u001b[0m\u001b[0mXX2\u001b[0m\u001b[1;33m-\u001b[0m\u001b[0mbias\u001b[0m\u001b[1;33m)\u001b[0m\u001b[1;33m/\u001b[0m\u001b[0mvar\u001b[0m\u001b[1;33m\u001b[0m\u001b[0m\n\u001b[0m\u001b[0;32m      5\u001b[0m \u001b[0mXX2\u001b[0m\u001b[1;33m[\u001b[0m\u001b[1;33m:\u001b[0m\u001b[1;33m,\u001b[0m\u001b[1;36m1\u001b[0m\u001b[1;33m]\u001b[0m \u001b[1;33m=\u001b[0m  \u001b[0mnp\u001b[0m\u001b[1;33m.\u001b[0m\u001b[0mones\u001b[0m\u001b[1;33m(\u001b[0m\u001b[0mX\u001b[0m\u001b[1;33m.\u001b[0m\u001b[0mshape\u001b[0m\u001b[1;33m[\u001b[0m\u001b[1;36m0\u001b[0m\u001b[1;33m]\u001b[0m\u001b[1;33m)\u001b[0m\u001b[1;33m\u001b[0m\u001b[0m\n",
      "\u001b[1;31mValueError\u001b[0m: operands could not be broadcast together with shapes (40,15) (12,) "
     ]
    }
   ],
   "source": [
    "X = np.arange(-2, 2, 0.1)\n",
    "XX2 = np.vstack([ X,np.ones(X.shape[0]), X**2, X**3, X**4, X**5, X**6, X**7, X**8, X**9,  np.exp(X), abs(X)**(0.5), abs(X)**(-1), np.log(abs(X)), np.sin(X)])\n",
    "XX2 = XX2.T\n",
    "XX2 = (XX2-bias)/var\n",
    "XX2[:,1] =  np.ones(X.shape[0])\n"
   ]
  },
  {
   "cell_type": "code",
   "execution_count": 62,
   "metadata": {
    "collapsed": false
   },
   "outputs": [
    {
     "name": "stdout",
     "output_type": "stream",
     "text": [
      "[  6.90049874e-01   1.00000000e+00   6.25034781e-02   6.51272179e-01\n",
      "   4.51552687e-03   7.23867027e-01   3.06031178e-04   7.93086714e-01\n",
      "   2.06351640e-05   8.49037195e-01   3.17998196e-01   3.29195936e-01\n",
      "   2.22145803e-01   4.86733671e-01   7.36722379e-01]\n",
      "[  6.90990706e-01   1.00000000e+00   6.34028405e-02   6.51495919e-01\n",
      "   4.63693044e-03   7.23895606e-01   3.18386271e-04   7.93089692e-01\n",
      "   2.17528661e-05   8.49037473e-01   3.19148086e-01   3.31497036e-01\n",
      "   2.20174028e-01   4.89243134e-01   7.38174101e-01]\n"
     ]
    }
   ],
   "source": [
    "print XX[0,:]\n",
    "print XX2[25,:]"
   ]
  },
  {
   "cell_type": "code",
   "execution_count": 72,
   "metadata": {
    "collapsed": false
   },
   "outputs": [
    {
     "data": {
      "text/plain": [
       "array([ 1.,  0.,  1.,  1.,  1.,  1.,  1.,  1.,  1.,  1.,  1.,  1.,  1.,\n",
       "        1.,  1.])"
      ]
     },
     "execution_count": 72,
     "metadata": {},
     "output_type": "execute_result"
    }
   ],
   "source": [
    "XX.std(axis=0)"
   ]
  },
  {
   "cell_type": "code",
   "execution_count": 100,
   "metadata": {
    "collapsed": true
   },
   "outputs": [],
   "source": [
    "from sklearn.linear_model import SGDRegressor"
   ]
  },
  {
   "cell_type": "code",
   "execution_count": 125,
   "metadata": {
    "collapsed": false
   },
   "outputs": [
    {
     "name": "stdout",
     "output_type": "stream",
     "text": [
      "0.651795392191\n",
      "1.54153567875\n"
     ]
    }
   ],
   "source": [
    "cl = SGDRegressor( learning_rate='constant', eta0=2.5*0.01, n_iter=1000000)\n",
    "cl.fit(XX[:20], Y[:20])\n",
    "print np.sqrt(np.mean((cl.predict(XX[:20])-Y[:20])**2))\n",
    "print np.sqrt(np.mean((cl.predict(XX[20:])-Y[20:])**2))"
   ]
  }
 ],
 "metadata": {
  "kernelspec": {
   "display_name": "Python 2",
   "language": "python",
   "name": "python2"
  },
  "language_info": {
   "codemirror_mode": {
    "name": "ipython",
    "version": 2
   },
   "file_extension": ".py",
   "mimetype": "text/x-python",
   "name": "python",
   "nbconvert_exporter": "python",
   "pygments_lexer": "ipython2",
   "version": "2.7.6"
  }
 },
 "nbformat": 4,
 "nbformat_minor": 0
}
