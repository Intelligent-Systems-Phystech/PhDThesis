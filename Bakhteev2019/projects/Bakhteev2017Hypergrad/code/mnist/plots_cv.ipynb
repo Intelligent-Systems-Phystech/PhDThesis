{
 "cells": [
  {
   "cell_type": "code",
   "execution_count": 7,
   "metadata": {
    "collapsed": false
   },
   "outputs": [],
   "source": [
    "import numpy as np\n",
    "import sys\n",
    "sys.path.append('../../')\n",
    "sys.path.append('../../pyfos/')\n",
    "from pyfos.models.feedforward import build_feedforward\n",
    "from pyfos.generic.optimizer import gd_optimizer\n",
    "from pyfos.generic.regularizers import gaus_prior\n",
    "from functools import partial \n",
    "from pyfos.tc.simple import  simple_tc\n",
    "from pyfos.tc.cv import  cv_tc\n",
    "from pyfos.hyperoptimizers.random_search import random_optimize\n",
    "from pyfos.hyperoptimizers.greed_optimize import greed_optimize\n",
    "import theano\n",
    "%matplotlib inline\n",
    "import matplotlib.pylab as plt\n",
    "import random\n",
    "import cPickle"
   ]
  },
  {
   "cell_type": "code",
   "execution_count": 8,
   "metadata": {
    "collapsed": false
   },
   "outputs": [],
   "source": [
    "with open('./data/results_cv_mad.pckl', 'rb') as inp:\n",
    "    mad = cPickle.load(inp)\n",
    "with open('./data/results_cv_rand.pckl', 'rb') as inp:\n",
    "    rand = cPickle.load(inp)    \n",
    "with open('./data/results_cv_greed.pckl', 'rb') as inp:\n",
    "    greed = cPickle.load(inp)\n",
    "with open('./data/results_cv_hoag.pckl', 'rb') as inp:\n",
    "    hoag = cPickle.load(inp)\n",
    "\n",
    "#X_train, X_test = np.load('../../../data/W_X_Tr.npy'), np.load('../../../data/W_X_Test.npy')\n",
    "#Y_train, Y_test = np.load('../../../data/W_Y_Tr.npy'), np.load('../../../data/W_Y_Test.npy')\n",
    "\n"
   ]
  },
  {
   "cell_type": "code",
   "execution_count": 9,
   "metadata": {
    "collapsed": true
   },
   "outputs": [],
   "source": [
    "with open('./acc_results_cv_mad.pckl', 'rb') as inp:\n",
    "    amad = cPickle.load(inp)\n",
    "with open('./acc_results_cv_rand.pckl', 'rb') as inp:\n",
    "    arand = cPickle.load(inp)    \n",
    "with open('./acc_results_cv_greed.pckl', 'rb') as inp:\n",
    "    agreed = cPickle.load(inp)\n",
    "with open('./acc_results_cv_hoag.pckl', 'rb') as inp:\n",
    "    ahoag = cPickle.load(inp)\n",
    "\n",
    "#X_train, X_test = np.load('../../../data/W_X_Tr.npy'), np.load('../../../data/W_X_Test.npy')\n",
    "#Y_train, Y_test = np.load('../../../data/W_Y_Tr.npy'), np.load('../../../data/W_Y_Test.npy')\n",
    "\n"
   ]
  },
  {
   "cell_type": "code",
   "execution_count": 9,
   "metadata": {
    "collapsed": false
   },
   "outputs": [
    {
     "data": {
      "text/plain": [
       "[[0.019199999999999998,\n",
       "  0.026200000000000001,\n",
       "  0.0292,\n",
       "  0.034799999999999998,\n",
       "  0.030800000000000001,\n",
       "  0.036900000000000002],\n",
       " [0.017299999999999999,\n",
       "  0.0184,\n",
       "  0.019099999999999999,\n",
       "  0.019699999999999999,\n",
       "  0.019400000000000001,\n",
       "  0.0178],\n",
       " [0.020299999999999999,\n",
       "  0.018200000000000001,\n",
       "  0.019400000000000001,\n",
       "  0.0189,\n",
       "  0.017899999999999999,\n",
       "  0.018499999999999999],\n",
       " [0.038899999999999997,\n",
       "  0.021700000000000001,\n",
       "  0.021999999999999999,\n",
       "  0.0218,\n",
       "  0.024500000000000001,\n",
       "  0.0235],\n",
       " [0.017100000000000001,\n",
       "  0.018200000000000001,\n",
       "  0.019699999999999999,\n",
       "  0.018599999999999998,\n",
       "  0.017399999999999999,\n",
       "  0.017600000000000001]]"
      ]
     },
     "execution_count": 9,
     "metadata": {},
     "output_type": "execute_result"
    }
   ],
   "source": [
    "agreed\n"
   ]
  },
  {
   "cell_type": "code",
   "execution_count": 4,
   "metadata": {
    "collapsed": false
   },
   "outputs": [
    {
     "data": {
      "image/png": "[encoded data removed]",
      "text/plain": [
       "<matplotlib.figure.Figure at 0x7f35dde3bd10>"
      ]
     },
     "metadata": {},
     "output_type": "display_data"
    }
   ],
   "source": [
    "#plt.matshow(matrix.T)\n",
    "for dataset, label, c in [(mad, 'DrMAD', 'w'), \n",
    "                         (rand, 'Random', 'g'),\n",
    "                         (greed, 'Greed', 'r'),\n",
    "                         (hoag, 'HOAG', 'b')\n",
    "                        ]:\n",
    "    first = True\n",
    "    for i in dataset:\n",
    "        first_value = i.history[0][0][0]\n",
    "        i = i.best_values[0]\n",
    "        \n",
    "        first_value = np.log10(np.exp(2*first_value))*10\n",
    "        i = np.log10(np.exp(2*i))*10\n",
    "        if first:\n",
    "            plt.scatter(i[0] + np.random.randn(1)*0.1,i[1]+ np.random.randn(1)*0.1, c=c, label=label, alpha=0.5, s=100)\n",
    "            first = False\n",
    "        else:\n",
    "            plt.scatter(i[0]+ np.random.randn(1)*0.1,i[1]+ np.random.randn(1)*0.1, c=c, alpha=0.5, s=100)\n",
    "        #print [first_value[0], i[0]],[first_value[1], i[1]]\n",
    "        plt.plot([first_value[0], i[0]],[first_value[1], i[1]])\n",
    "        \n",
    "plt.legend(loc='best')\n",
    "plt.rcParams['figure.figsize'] = (20,20)\n",
    "#plt.scatter(2713%100 ,2713/100, s=1000)\n"
   ]
  },
  {
   "cell_type": "code",
   "execution_count": 11,
   "metadata": {
    "collapsed": false
   },
   "outputs": [
    {
     "data": {
      "text/plain": [
       "[[0.019300000000000001,\n",
       "  0.019,\n",
       "  0.018100000000000002,\n",
       "  0.018100000000000002,\n",
       "  0.018499999999999999],\n",
       " [0.017899999999999999,\n",
       "  0.019699999999999999,\n",
       "  0.017100000000000001,\n",
       "  0.019300000000000001,\n",
       "  0.0178],\n",
       " [0.018100000000000002,\n",
       "  0.0183,\n",
       "  0.017600000000000001,\n",
       "  0.018599999999999998,\n",
       "  0.019],\n",
       " [0.017999999999999999,\n",
       "  0.019300000000000001,\n",
       "  0.019599999999999999,\n",
       "  0.019300000000000001,\n",
       "  0.019099999999999999],\n",
       " [0.017600000000000001,\n",
       "  0.0177,\n",
       "  0.018599999999999998,\n",
       "  0.019,\n",
       "  0.019599999999999999],\n",
       " [0.018499999999999999,\n",
       "  0.019,\n",
       "  0.017399999999999999,\n",
       "  0.0189,\n",
       "  0.016400000000000001],\n",
       " [0.019199999999999998,\n",
       "  0.019199999999999998,\n",
       "  0.017999999999999999,\n",
       "  0.0189,\n",
       "  0.017100000000000001],\n",
       " [0.021399999999999999,\n",
       "  0.021600000000000001,\n",
       "  0.018599999999999998,\n",
       "  0.017000000000000001,\n",
       "  0.0183],\n",
       " [0.019599999999999999,\n",
       "  0.0195,\n",
       "  0.017500000000000002,\n",
       "  0.017299999999999999,\n",
       "  0.017000000000000001],\n",
       " [0.02,\n",
       "  0.019099999999999999,\n",
       "  0.019599999999999999,\n",
       "  0.017999999999999999,\n",
       "  0.017600000000000001],\n",
       " [0.019, 0.0172, 0.0177, 0.018499999999999999, 0.0166],\n",
       " [0.017999999999999999,\n",
       "  0.0183,\n",
       "  0.018700000000000001,\n",
       "  0.018100000000000002,\n",
       "  0.018499999999999999],\n",
       " [0.0177,\n",
       "  0.018599999999999998,\n",
       "  0.019,\n",
       "  0.019699999999999999,\n",
       "  0.018800000000000001],\n",
       " [0.019099999999999999,\n",
       "  0.020299999999999999,\n",
       "  0.017899999999999999,\n",
       "  0.018200000000000001,\n",
       "  0.017399999999999999],\n",
       " [0.0177, 0.0189, 0.0189, 0.0184, 0.017899999999999999],\n",
       " [0.018499999999999999,\n",
       "  0.017999999999999999,\n",
       "  0.016,\n",
       "  0.0178,\n",
       "  0.016899999999999998],\n",
       " [0.0183,\n",
       "  0.017899999999999999,\n",
       "  0.017999999999999999,\n",
       "  0.017100000000000001,\n",
       "  0.016799999999999999],\n",
       " [0.018499999999999999,\n",
       "  0.019,\n",
       "  0.018700000000000001,\n",
       "  0.0172,\n",
       "  0.017899999999999999],\n",
       " [0.017899999999999999,\n",
       "  0.019,\n",
       "  0.017999999999999999,\n",
       "  0.017899999999999999,\n",
       "  0.0177],\n",
       " [0.0184,\n",
       "  0.017999999999999999,\n",
       "  0.019199999999999998,\n",
       "  0.018599999999999998,\n",
       "  0.017999999999999999],\n",
       " [0.0184, 0.017500000000000002, 0.0178, 0.019300000000000001, 0.0184],\n",
       " [0.019199999999999998,\n",
       "  0.018800000000000001,\n",
       "  0.0172,\n",
       "  0.017999999999999999,\n",
       "  0.018800000000000001],\n",
       " [0.0167,\n",
       "  0.017100000000000001,\n",
       "  0.0177,\n",
       "  0.018499999999999999,\n",
       "  0.018800000000000001],\n",
       " [0.018800000000000001,\n",
       "  0.018499999999999999,\n",
       "  0.018800000000000001,\n",
       "  0.0184,\n",
       "  0.018100000000000002],\n",
       " [0.017299999999999999,\n",
       "  0.018800000000000001,\n",
       "  0.0195,\n",
       "  0.018100000000000002,\n",
       "  0.0183]]"
      ]
     },
     "execution_count": 11,
     "metadata": {},
     "output_type": "execute_result"
    }
   ],
   "source": [
    "arand"
   ]
  },
  {
   "cell_type": "code",
   "execution_count": 10,
   "metadata": {
    "collapsed": false
   },
   "outputs": [
    {
     "name": "stdout",
     "output_type": "stream",
     "text": [
      "DrMAD\n",
      "DrMAD\n",
      "DrMAD\n",
      "DrMAD\n",
      "DrMAD\n",
      "DrMAD -3452.84321594\n",
      "DrMAD -3469.07669678\n",
      "Случайный поиск\n",
      "Случайный поиск\n",
      "Случайный поиск\n",
      "Случайный поиск\n",
      "Случайный поиск\n",
      "Случайный поиск -3689.00427246\n",
      "Случайный поиск -3236.46327209\n",
      "Жадный алгоритм\n",
      "Жадный алгоритм\n",
      "Жадный алгоритм\n",
      "Жадный алгоритм\n",
      "Жадный алгоритм\n",
      "Жадный алгоритм -3726.48751831\n",
      "Жадный алгоритм -3416.79518738\n",
      "HOAG\n",
      "HOAG\n",
      "HOAG\n",
      "HOAG\n",
      "HOAG\n",
      "HOAG -3639.3616333\n",
      "HOAG -3748.63866577\n"
     ]
    },
    {
     "data": {
      "text/plain": [
       "<matplotlib.legend.Legend at 0x7ff61bdfdfd0>"
      ]
     },
     "execution_count": 10,
     "metadata": {},
     "output_type": "execute_result"
    },
    {
     "data": {
      "image/png": "[encoded data removed]",
      "text/plain": [
       "<matplotlib.figure.Figure at 0x7ff61bdfdf90>"
      ]
     },
     "metadata": {},
     "output_type": "display_data"
    }
   ],
   "source": [
    "id = -1\n",
    "\n",
    "font = {'family': 'Droid Sans',\n",
    "        'weight': 'normal',\n",
    "       'size':18}\n",
    "plt.rc('font', **font)\n",
    "plt.rcParams['figure.figsize'] = (20, 5)\n",
    "plt.xlabel(u'Количество итераций', fontsize=18)\n",
    "plt.ylabel(u'Наилучшее значение Q', fontsize=18)\n",
    "\n",
    "\n",
    "for dataset, label, c in [(mad, 'DrMAD', 'k'), \n",
    "                         (rand, u'Случайный поиск', 'g'),\n",
    "                         (greed, u'Жадный алгоритм', 'r'),\n",
    "                         (hoag, 'HOAG', 'b')\n",
    "                          ]:\n",
    "    id+=1\n",
    "    \n",
    "    line = []\n",
    "    for b in dataset:\n",
    "        print label\n",
    "        \n",
    "        history = []\n",
    "        for i in xrange(0, len(b.history)):\n",
    "        \n",
    "            best_value = max([h[1] for h in b.history[:i+1]])\n",
    "            \n",
    "            history.append(best_value)\n",
    "        line.append(history)\n",
    "    print label, line[-1][0]\n",
    "    print label,  np.mean(np.array(line)[:,-1])\n",
    "    #print np.mean(line, axis=0)[-1]\n",
    "    \n",
    "    #plt.fill_between(range(len( np.mean(line, axis=0))),  np.mean(line, axis=0)-np.std(line, axis=0), np.mean(line, axis=0)+np.std(line, axis=0), facecolor=c, alpha=0.25 )\n",
    "    plt.errorbar(np.array(range(len(line[0])))+id*1.0/4, np.mean(line, axis=0), yerr=np.std(line, axis=0), c=c, lw=1)\n",
    "    plt.plot(np.array(range(len(line[0])))+id*1.0/4, np.mean(line, axis=0),  c=c, lw=3, label=label)\n",
    "    #plt.plot( np.mean(line, axis=0), label=label, c=c, lw=3)\n",
    "#plt.ylim((-1000000, -1160000))\n",
    "plt.xlim((0,25))\n",
    "plt.legend(loc='best')\n"
   ]
  },
  {
   "cell_type": "code",
   "execution_count": null,
   "metadata": {
    "collapsed": false
   },
   "outputs": [],
   "source": []
  },
  {
   "cell_type": "code",
   "execution_count": 13,
   "metadata": {
    "collapsed": false
   },
   "outputs": [
    {
     "name": "stdout",
     "output_type": "stream",
     "text": [
      "DrMAD\n",
      "0.017936\n",
      "Случайный поиск\n",
      "0.017972\n",
      "Жадный алгоритм\n",
      "0.021132\n",
      "HOAG\n",
      "0.02054\n"
     ]
    },
    {
     "data": {
      "text/plain": [
       "<matplotlib.legend.Legend at 0x7f7ddfdbc950>"
      ]
     },
     "execution_count": 13,
     "metadata": {},
     "output_type": "execute_result"
    },
    {
     "data": {
      "image/png": "[encoded data removed]",
      "text/plain": [
       "<matplotlib.figure.Figure at 0x7f7ddfeadd50>"
      ]
     },
     "metadata": {},
     "output_type": "display_data"
    }
   ],
   "source": [
    "#amad\n",
    "#arand\n",
    "#ahoag\n",
    "id = -1\n",
    "\n",
    "font = {'family': 'Droid Sans',\n",
    "        'weight': 'normal',\n",
    "       'size':18}\n",
    "plt.rc('font', **font)\n",
    "plt.rcParams['figure.figsize'] = (20, 5)\n",
    "plt.xlabel(u'Количество итераций', fontsize=18)\n",
    "plt.ylabel(u'Ошибка классификации', fontsize=18)\n",
    "\n",
    "\n",
    "for dataset, label, c in [(amad, 'DrMAD', 'k'), \n",
    "                         (arand, u'Случайный поиск', 'g'),\n",
    "                         (agreed, u'Жадный алгоритм', 'r'),\n",
    "                         (ahoag, 'HOAG', 'b')\n",
    "                          ]:\n",
    "    id+=1\n",
    "    \n",
    "    line = []\n",
    "    for b in dataset:\n",
    "        b = b+[b[-1]]\n",
    "        #print label\n",
    "        \n",
    "            \n",
    "        \n",
    "        line.append(b)\n",
    "    #line = line[:2]\n",
    "    #print np.array(line).shape\n",
    "    #print line\n",
    "    print label\n",
    "    print np.mean(line, axis=0)[-1]\n",
    "   \n",
    "    #plt.fill_between(range(len( np.mean(line, axis=0))),  np.mean(line, axis=0)-np.std(line, axis=0), np.mean(line, axis=0)+np.std(line, axis=0), facecolor=c, alpha=0.25 )\n",
    "    #print 'std', np.std(line, axis=0)\n",
    "    plt.errorbar(np.array(range(len(line[0])))*5+id*1.0/4, np.mean(line, axis=0), yerr=np.std(line, axis=0), c=c, lw=1)\n",
    "    plt.plot(np.array(range(len(line[0])))*5+id*1.0/4, np.mean(line, axis=0),  c=c, lw=3, label=label)\n",
    "    \n",
    "    #plt.plot( np.mean(line, axis=0), label=label, c=c, lw=3)\n",
    "#plt.ylim((-1000000, -1160000))\n",
    "plt.xlim((-0.1,26.1))\n",
    "plt.legend(loc='upper left')\n",
    "plt.legend(loc='upper left', bbox_to_anchor=(1.05,0.7))"
   ]
  },
  {
   "cell_type": "code",
   "execution_count": null,
   "metadata": {
    "collapsed": false,
    "scrolled": false
   },
   "outputs": [
    {
     "name": "stdout",
     "output_type": "stream",
     "text": [
      "start\n",
      "Random\n",
      "0 -1596159.4304\n",
      "1000 -1595551.64663\n",
      "2000 -1595555.97557\n",
      "3000 -1595556.46432\n",
      "4000 -1595556.35917\n",
      "5000 -1595559.22239\n",
      "6000 -1595558.02825\n",
      "7000 -1595553.88683\n",
      "8000 -1595558.23841\n",
      "9000 -1595559.07986\n",
      "-1595555.6609\n",
      "0 -1493126.03056\n",
      "1000 -1356358.50059\n",
      "2000 -1356359.01795\n",
      "3000 -1356360.29983\n",
      "4000 -1356358.5854\n",
      "5000 -1356362.37543\n",
      "6000 -1356359.07208\n",
      "7000 -1356356.08376\n",
      "8000 -1356370.51671\n",
      "9000 -1356362.73039\n",
      "-1356360.26979\n",
      "0 -1356257.79965\n",
      "1000 -1356254.92875\n",
      "2000 -1356260.43295\n",
      "3000 -1356255.77099\n",
      "4000 -1356257.42135\n",
      "5000 -1356259.74499\n",
      "6000 -1356257.56353\n",
      "7000 -1356257.40945\n",
      "8000 -1356254.90495\n"
     ]
    }
   ],
   "source": [
    "import theano.tensor as T\n",
    "param_num = X_train.shape[1] * 50 + 50 + 50  + 1\n",
    "\n",
    "lr = theano.shared(10**(-5))\n",
    "alphas = theano.shared(np.array([1.0, 1.0]))\n",
    "real_alphas = T.concatenate([T.repeat(alphas[0],  X_train.shape[1] * 50 + 50)   , T.repeat(alphas[1],  50 + 1) ])\n",
    "optimizer = partial(gd_optimizer, learning_rate=lr)\n",
    "inits = [np.sqrt(2.0/(X_train.shape[1] + 50)).astype(theano.config.floatX), np.sqrt(2.0/(50 + 1)).astype(theano.config.floatX)]\n",
    "\n",
    "model_build = partial(build_feedforward,  structure = [X_train.shape[1],50, 1],   init_sigmas=inits, nonlinearity=lambda x:T.nnet.relu(x), log_alphas =real_alphas, bias=True)\n",
    "\n",
    "\n",
    "training_procedure = simple_tc( model_build, optimizer, X_train, Y_train,  batch_size=25 )\n",
    "\n",
    "\n",
    "\n",
    "X_t = T.matrix()\n",
    "result = []\n",
    "\n",
    "predicts = []\n",
    "\n",
    "for m in training_procedure.models:    \n",
    "    predict = m.predict_var(X_t)\n",
    "    predicts.append(theano.function([X_t], predict))\n",
    "print 'start'\n",
    "id = -1\n",
    "for dataset, label, c in [#(mad, 'MrMAD', 'k'), \n",
    "                         (rand, 'Random', 'g'),\n",
    "                         #(greed, 'Greed', 'r'),\n",
    "                         #(hoag, 'HOAG', 'b')\n",
    "                          ]:\n",
    "    id+=1\n",
    "    print label\n",
    "    line = []\n",
    "\n",
    "    for b in dataset:\n",
    "\n",
    "        history = []\n",
    "        \n",
    "        for i in xrange(0, len(b.history), 10):\n",
    "            \n",
    "            best_value = np.argmax([h[1] for h in b.history[:i+1]])\n",
    "            #print best_value\n",
    "            best_value = b.history[best_value][0]\n",
    "            # if i==len(b.history)-1:\n",
    "            #     print best_value[0]\n",
    "\n",
    "            alphas.set_value(best_value[0])\n",
    "            #alphas.set_value(np.array([1.0, 1.0]))\n",
    "         \n",
    "\n",
    "\n",
    "            for tr in xrange(10000):\n",
    "                res = training_procedure.do_train()\n",
    "                if tr%1000 == 0:\n",
    "                    print tr, res\n",
    "            print training_procedure.do_validation()\n",
    "            res = []\n",
    "            res = np.sqrt(np.mean((predicts[0](X_test)[:,0]-Y_test)**2))\n",
    "            \n",
    "            history.append(res)\n",
    "            \n",
    "        line.append(history)\n",
    "        \n",
    "\n",
    "\n",
    "        \"\"\"\n",
    "        bests.append( random_optimize(partial(cv_tc, k =4,  batch_size=75), model_build, optimizer, 50, 10, X_train, Y_train,  [alphas, lr] ,\n",
    "         [alpha_ranges, lr_ranges], verbose=100))\n",
    "        X = T.matrix()    \n",
    "        model = model_build(dataset_size=100)\n",
    "\n",
    "\n",
    "        \"\"\"\n",
    "\n",
    "    plt.errorbar(np.array(range(len(line[0])))+id*1.0/4, np.mean(line, axis=0), yerr=np.std(line, axis=0), c=c, lw=1, label=label)\n",
    "    print  np.mean(line, axis=0)[-1], np.std(line, axis=0)[-1]\n",
    "#plt.ylim((0.0, 0.1))\n",
    "plt.legend(loc='best')\n",
    "print history"
   ]
  },
  {
   "cell_type": "code",
   "execution_count": 37,
   "metadata": {
    "collapsed": false
   },
   "outputs": [],
   "source": [
    "batch_size = 25\n",
    "lr = theano.shared(10**(-5))\n",
    "log_alphas = theano.shared(np.array([10.0]))\n",
    "\n",
    "optimizer = partial(gd_optimizer, learning_rate=lr)\n",
    "model_build = partial(build_feedforward,  structure = [X_train.shape[1], 50,   1],  init_sigmas=[0.001]*3,  nonlinearity=lambda x:T.nnet.relu(x), log_alphas=log_alphas, bias=True)\n",
    "training_procedure = simple_tc( model_build, optimizer, X_train, Y_train,   batch_size=batch_size )\n",
    "model = model_build(params=training_procedure.models[0].params, dataset_size=1)\n",
    "X = T.matrix()\n",
    "predict = theano.function([X], model.predict_var(X))\n",
    "\n",
    "def mse(Y1, Y2):\n",
    "    return np.sum((Y1 - Y2)**2)\n",
    "\n",
    "#100 epochs, 2500/25 ~ 100 iterations\n",
    "err = []\n",
    "Y = predict(X_test)\n",
    "err.append(mse(Y[:,0], Y_test))\n",
    "for epoch in xrange(100):\n",
    "    \n",
    "    for i in xrange(100):\n",
    "        training_procedure.do_train()\n",
    "    \n",
    "    Y = predict(X_test)\n",
    "    err.append(mse(Y[:,0], Y_test))\n",
    "    \n",
    "\n",
    "    "
   ]
  },
  {
   "cell_type": "code",
   "execution_count": 7,
   "metadata": {
    "collapsed": false
   },
   "outputs": [
    {
     "data": {
      "text/plain": [
       "<Container object of 3 artists>"
      ]
     },
     "execution_count": 7,
     "metadata": {},
     "output_type": "execute_result"
    },
    {
     "data": {
      "image/png": "[encoded data removed]",
      "text/plain": [
       "<matplotlib.figure.Figure at 0x7fba53602c10>"
      ]
     },
     "metadata": {},
     "output_type": "display_data"
    }
   ],
   "source": []
  },
  {
   "cell_type": "code",
   "execution_count": 19,
   "metadata": {
    "collapsed": false
   },
   "outputs": [
    {
     "name": "stdout",
     "output_type": "stream",
     "text": [
      "MrMAD\n",
      "16.7 2.0 19.3847878503\n",
      "Random\n",
      "16.0 16.0 11.2178429299\n",
      "Greed\n",
      "9.7 9.5 6.30634601017\n",
      "HOAG\n",
      "13.96 0.0 18.0032885885\n"
     ]
    }
   ],
   "source": [
    "for dataset, label, c in [(mad, 'MrMAD', 'k'), \n",
    "                         (rand, 'Random', 'g'),\n",
    "                         (greed, 'Greed', 'r'),\n",
    "                         (hoag, 'HOAG', 'b')\n",
    "                          ]:\n",
    "    id+=1\n",
    "    print label\n",
    "    line = []\n",
    "\n",
    "    for b in dataset:\n",
    "\n",
    "        history = []\n",
    "        for i in xrange(len(b.history)):\n",
    "\n",
    "            best_value = np.max([h[1] for h in b.history[:i+1]])\n",
    "            history.append(best_value)\n",
    "        history = np.array(history)\n",
    "        history = history[-1]/history\n",
    "        history = np.where(history>=0.99)[0]\n",
    "       \n",
    "        line.append(np.min(history))\n",
    "        \n",
    "\n",
    "        \"\"\"\n",
    "        bests.append( random_optimize(partial(cv_tc, k =4,  batch_size=75), model_build, optimizer, 50, 10, X_train, Y_train,  [alphas, lr] ,\n",
    "         [alpha_ranges, lr_ranges], verbose=100))\n",
    "        X = T.matrix()    \n",
    "        model = model_build(dataset_size=100)\n",
    "\n",
    "\n",
    "        \"\"\"\n",
    "    print np.mean(line), np.median(line), np.std(line)"
   ]
  },
  {
   "cell_type": "code",
   "execution_count": 20,
   "metadata": {
    "collapsed": false
   },
   "outputs": [
    {
     "data": {
      "text/plain": [
       "[0,\n",
       " 0,\n",
       " 0,\n",
       " 0,\n",
       " 0,\n",
       " 41,\n",
       " 41,\n",
       " 0,\n",
       " 42,\n",
       " 20,\n",
       " 0,\n",
       " 21,\n",
       " 0,\n",
       " 0,\n",
       " 1,\n",
       " 0,\n",
       " 0,\n",
       " 0,\n",
       " 0,\n",
       " 0,\n",
       " 0,\n",
       " 0,\n",
       " 0,\n",
       " 0,\n",
       " 0,\n",
       " 45,\n",
       " 21,\n",
       " 38,\n",
       " 0,\n",
       " 38,\n",
       " 0,\n",
       " 21,\n",
       " 0,\n",
       " 40,\n",
       " 0,\n",
       " 21,\n",
       " 41,\n",
       " 0,\n",
       " 38,\n",
       " 0,\n",
       " 0,\n",
       " 40,\n",
       " 41,\n",
       " 0,\n",
       " 41,\n",
       " 44,\n",
       " 0,\n",
       " 21,\n",
       " 1,\n",
       " 41]"
      ]
     },
     "execution_count": 20,
     "metadata": {},
     "output_type": "execute_result"
    }
   ],
   "source": []
  },
  {
   "cell_type": "code",
   "execution_count": 18,
   "metadata": {
    "collapsed": false
   },
   "outputs": [
    {
     "name": "stdout",
     "output_type": "stream",
     "text": [
      "MrMAD -84.3734550695 2.64868121711\n",
      "Random -79.0795962452 0.579801774023\n",
      "Greed -81.2431813983 2.55392428429\n",
      "HOAG -83.769210776 2.88260320189\n"
     ]
    }
   ],
   "source": [
    "for dataset, label, c in [(mad, 'MrMAD', 'k'), \n",
    "                         (rand, 'Random', 'g'),\n",
    "                         (greed, 'Greed', 'r'),\n",
    "                         (hoag, 'HOAG', 'b')\n",
    "                          ]:\n",
    "    history = []\n",
    "    for b in dataset:\n",
    "        best_value = np.max([h[1] for h in b.history])\n",
    "        history.append(best_value)\n",
    "    print label, np.mean(history), np.std(history)"
   ]
  },
  {
   "cell_type": "code",
   "execution_count": 15,
   "metadata": {
    "collapsed": false
   },
   "outputs": [
    {
     "data": {
      "image/png": "[encoded data removed]",
      "text/plain": [
       "<matplotlib.figure.Figure at 0x7fa6a19fef50>"
      ]
     },
     "metadata": {},
     "output_type": "display_data"
    }
   ],
   "source": [
    "dataset = hoag\n",
    "import theano.tensor as T\n",
    "lr = theano.shared(0.01)\n",
    "alphas = theano.shared(np.array([1.0, 1.0]))\n",
    "optimizer = partial(gd_optimizer, learning_rate=lr)\n",
    "model_build = partial(build_feedforward, structure = [2,1], nonlinearity=lambda x:x, log_alphas =alphas, bias=False)\n",
    "X_train = X[:100]\n",
    "Y_train = Y[:100]\n",
    "X_test = X[100:]\n",
    "Y_test = Y[100:]\n",
    "training_procedure = simple_tc( model_build, optimizer, X_train, Y_train,  batch_size=100 )\n",
    "\n",
    "for d in dataset:\n",
    "    X_, Y_ = [], []\n",
    "    for h in d.history:\n",
    "        alphas.set_value(h[0][0])\n",
    "        for _ in xrange(10):\n",
    "              training_procedure.do_train()\n",
    "        X_.append(np.linalg.norm(training_procedure.models[0].params.eval() - np.array([20, 100])))\n",
    "        Y_.append(np.linalg.norm(np.exp(h[0][0]- np.array([2713%100, 2713/100]))))\n",
    "    plt.scatter(np.log(X_),np.log(Y_))\n",
    "    plt.plot(np.log(X_),np.log(Y_))"
   ]
  },
  {
   "cell_type": "code",
   "execution_count": 18,
   "metadata": {
    "collapsed": false
   },
   "outputs": [
    {
     "data": {
      "image/png": "[encoded data removed]",
      "text/plain": [
       "<matplotlib.figure.Figure at 0x7fa696ca7ed0>"
      ]
     },
     "metadata": {},
     "output_type": "display_data"
    }
   ],
   "source": [
    "dataset = hoag\n",
    "import theano.tensor as T\n",
    "lr = theano.shared(0.01)\n",
    "alphas = theano.shared(np.array([1.0, 1.0]))\n",
    "optimizer = partial(gd_optimizer, learning_rate=lr)\n",
    "model_build = partial(build_feedforward, structure = [2,1], nonlinearity=lambda x:x, log_alphas =alphas, bias=False)\n",
    "X_train = X[:100]\n",
    "Y_train = Y[:100]\n",
    "X_test = X[100:]\n",
    "Y_test = Y[100:]\n",
    "training_procedure = simple_tc( model_build, optimizer, X_train, Y_train,  batch_size=100 )\n",
    "\n",
    "for d in dataset:\n",
    "    X_, Y_ = [], []\n",
    "    for h in d.history:\n",
    "        alphas.set_value(h[0][0])\n",
    "        for _ in xrange(10):\n",
    "              training_procedure.do_train()\n",
    "        X_.append(np.linalg.norm(training_procedure.models[0].params.eval() - np.array([20, 100])))\n",
    "        Y_.append(h[-1])\n",
    "    plt.scatter(np.log(X_),np.log(-np.array(Y_)))\n",
    "    plt.plot(np.log(X_),np.log(-np.array(Y_)))"
   ]
  },
  {
   "cell_type": "code",
   "execution_count": 8,
   "metadata": {
    "collapsed": false
   },
   "outputs": [
    {
     "data": {
      "text/plain": [
       "[array(-277.29114686678855),\n",
       " array(-172.0529722751367),\n",
       " array(-144.604822027735),\n",
       " array(-130.54732451849281),\n",
       " array(-121.83425910611308),\n",
       " array(-115.85820765135955),\n",
       " array(-111.48760719898455),\n",
       " array(-108.14485094732697),\n",
       " array(-105.50206663098866),\n",
       " array(-103.35849231157151),\n",
       " array(-101.58397161486275),\n",
       " array(-100.0902594319505),\n",
       " array(-98.81532630205706),\n",
       " array(-97.71425190236292),\n",
       " array(-96.75368167212932),\n",
       " array(-95.90831490367741),\n",
       " array(-95.15860334906061),\n",
       " array(-94.48919871332782),\n",
       " array(-93.8878786398681),\n",
       " array(-93.34478712966856),\n",
       " array(-92.85188674876497),\n",
       " array(-92.40255664053902),\n",
       " array(-91.99129289576109),\n",
       " array(-91.61348205119077),\n",
       " array(-91.26522766886708),\n",
       " array(-90.94321600289554),\n",
       " array(-90.64461082999833),\n",
       " array(-90.3669703030455),\n",
       " array(-90.1081806203322),\n",
       " array(-89.8664026664511),\n",
       " array(-89.64002875450987),\n",
       " array(-89.42764730396243),\n",
       " array(-89.22801380386706),\n",
       " array(-89.04002679270404),\n",
       " array(-88.86270787075387),\n",
       " array(-88.69518497584748),\n",
       " array(-88.53667831670397),\n",
       " array(-88.38648848339574),\n",
       " array(-88.24398635134702),\n",
       " array(-88.10860447068646),\n",
       " array(-87.97982969189692),\n",
       " array(-87.8571968253543),\n",
       " array(-87.74028316938514),\n",
       " array(-87.62870377105018),\n",
       " array(-87.52210730761192),\n",
       " array(-87.42017249581976),\n",
       " array(-87.32260495170434),\n",
       " array(-87.22913443625518),\n",
       " array(-87.13951243274566),\n",
       " array(-87.0535100100133)]"
      ]
     },
     "execution_count": 8,
     "metadata": {},
     "output_type": "execute_result"
    }
   ],
   "source": [
    "Y_"
   ]
  },
  {
   "cell_type": "code",
   "execution_count": 5,
   "metadata": {
    "collapsed": false
   },
   "outputs": [
    {
     "name": "stdout",
     "output_type": "stream",
     "text": [
      "MrMAD\n",
      "17.0 5.65685424949\n",
      "Random\n",
      "7.8 1.93907194297\n",
      "Greed\n",
      "10.8 10.4575331699\n",
      "HOAG\n",
      "8.6 7.39188744503\n"
     ]
    }
   ],
   "source": [
    "id = -1\n",
    "for dataset, label, c in [(mad, 'MrMAD', 'k'), \n",
    "                         (rand, 'Random', 'g'),\n",
    "                         (greed, 'Greed', 'r'),\n",
    "                         (hoag, 'HOAG', 'b')                          ]:\n",
    "    id+=1\n",
    "    print label\n",
    "    line = []\n",
    "\n",
    "    for b in dataset:\n",
    "\n",
    "        \n",
    "        #for i in xrange(len(b.history)):\n",
    "        track = [h[1] for h in b.history]\n",
    "        track = [t-track[0] for t in track]\n",
    "        best = np.max(track)\n",
    "        need_value = best*0.99\n",
    "        track = np.where(track>=need_value)[0]\n",
    "        line.append(np.min(track))\n",
    "        #best_value = np.argmax([h[1] for h in b.history])\n",
    "        #line.append(best_value)\n",
    "        \n",
    "        #history = np.array(history)\n",
    "        \n",
    "        #history = history[-1]/history\n",
    "        \n",
    "        #history = [history[i-1]/history[i] for i in range(1, len(history))]# history#np.where(history>=0.99)[0]\n",
    "        \n",
    "        #history = np.where(history>=0.99)[0]\n",
    "        #line.append(np.min(history))\n",
    "        \n",
    "\n",
    "        \"\"\"\n",
    "        bests.append( random_optimize(partial(cv_tc, k =4,  batch_size=75), model_build, optimizer, 50, 10, X_train, Y_train,  [alphas, lr] ,\n",
    "         [alpha_ranges, lr_ranges], verbose=100))\n",
    "        X = T.matrix()    \n",
    "        model = model_build(dataset_size=100)\n",
    "\n",
    "\n",
    "        \"\"\"\n",
    "        \n",
    "    print np.mean(line), np.std(line)"
   ]
  },
  {
   "cell_type": "code",
   "execution_count": 9,
   "metadata": {
    "collapsed": false
   },
   "outputs": [
    {
     "data": {
      "text/plain": [
       "[[0.0172, 0.0184, 0.017399999999999999, 0.016799999999999999, 0.0178],\n",
       " [0.018700000000000001,\n",
       "  0.017100000000000001,\n",
       "  0.018800000000000001,\n",
       "  0.017999999999999999,\n",
       "  0.0183],\n",
       " [0.0177,\n",
       "  0.0183,\n",
       "  0.019199999999999998,\n",
       "  0.018700000000000001,\n",
       "  0.017299999999999999],\n",
       " [0.019, 0.017500000000000002, 0.0184, 0.0189, 0.017399999999999999],\n",
       " [0.018800000000000001,\n",
       "  0.019300000000000001,\n",
       "  0.0189,\n",
       "  0.018100000000000002,\n",
       "  0.016799999999999999],\n",
       " [0.0184,\n",
       "  0.017100000000000001,\n",
       "  0.018599999999999998,\n",
       "  0.017899999999999999,\n",
       "  0.017399999999999999],\n",
       " [0.018599999999999998,\n",
       "  0.0189,\n",
       "  0.018100000000000002,\n",
       "  0.018499999999999999,\n",
       "  0.0189],\n",
       " [0.018700000000000001,\n",
       "  0.019599999999999999,\n",
       "  0.018100000000000002,\n",
       "  0.017500000000000002,\n",
       "  0.019],\n",
       " [0.018200000000000001,\n",
       "  0.017600000000000001,\n",
       "  0.018100000000000002,\n",
       "  0.0166,\n",
       "  0.017899999999999999],\n",
       " [0.017999999999999999,\n",
       "  0.018599999999999998,\n",
       "  0.0184,\n",
       "  0.017000000000000001,\n",
       "  0.018800000000000001],\n",
       " [0.0178,\n",
       "  0.018499999999999999,\n",
       "  0.018599999999999998,\n",
       "  0.016400000000000001,\n",
       "  0.017999999999999999],\n",
       " [0.019300000000000001,\n",
       "  0.0206,\n",
       "  0.0189,\n",
       "  0.018599999999999998,\n",
       "  0.018100000000000002],\n",
       " [0.017899999999999999,\n",
       "  0.020400000000000001,\n",
       "  0.019699999999999999,\n",
       "  0.017500000000000002,\n",
       "  0.017600000000000001],\n",
       " [0.018599999999999998,\n",
       "  0.020199999999999999,\n",
       "  0.019800000000000002,\n",
       "  0.017999999999999999,\n",
       "  0.019],\n",
       " [0.017500000000000002,\n",
       "  0.019599999999999999,\n",
       "  0.019599999999999999,\n",
       "  0.017399999999999999,\n",
       "  0.0178]]"
      ]
     },
     "execution_count": 9,
     "metadata": {},
     "output_type": "execute_result"
    }
   ],
   "source": [
    "arand"
   ]
  }
 ],
 "metadata": {
  "kernelspec": {
   "display_name": "Python 2",
   "language": "python",
   "name": "python2"
  },
  "language_info": {
   "codemirror_mode": {
    "name": "ipython",
    "version": 2
   },
   "file_extension": ".py",
   "mimetype": "text/x-python",
   "name": "python",
   "nbconvert_exporter": "python",
   "pygments_lexer": "ipython2",
   "version": "2.7.6"
  }
 },
 "nbformat": 4,
 "nbformat_minor": 0
}
