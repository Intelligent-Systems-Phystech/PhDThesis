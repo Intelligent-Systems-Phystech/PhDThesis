{
 "cells": [
  {
   "cell_type": "code",
   "execution_count": 2,
   "metadata": {
    "collapsed": false
   },
   "outputs": [],
   "source": [
    "import numpy as np\n",
    "import sys\n",
    "sys.path.append('../../')\n",
    "sys.path.append('../../pyfos/')\n",
    "from pyfos.models.feedforward import build_feedforward\n",
    "from pyfos.generic.optimizer import gd_optimizer\n",
    "from pyfos.generic.regularizers import gaus_prior\n",
    "from functools import partial \n",
    "from pyfos.tc.simple import  simple_tc\n",
    "from pyfos.tc.cv import  cv_tc\n",
    "from pyfos.hyperoptimizers.drmad_optimize import drmad_optimize\n",
    "import theano\n",
    "%matplotlib inline\n",
    "import matplotlib.pylab as plt\n",
    "import random"
   ]
  },
  {
   "cell_type": "code",
   "execution_count": 3,
   "metadata": {
    "collapsed": false
   },
   "outputs": [],
   "source": [
    "matrix = np.load('../../../data/matrix.npy')\n",
    "X, Y = np.load('../../../data/linearx.npy'), np.load('../../../data/lineary.npy')\n",
    "X_train = X[:100]\n",
    "Y_train = Y[:100]\n",
    "X_test = X[100:]\n",
    "Y_test = Y[100:]\n",
    "lr = theano.shared(10**(-3))\n",
    "alphas = theano.shared(np.array([1.0, 1.0]))\n",
    "\n",
    "optimizer = partial(gd_optimizer, learning_rate=lr)\n",
    "model_build = partial(build_feedforward, structure = [2,1], nonlinearity=lambda x:x, log_alphas=alphas, bias=False)\n",
    "\n"
   ]
  },
  {
   "cell_type": "code",
   "execution_count": 17,
   "metadata": {
    "collapsed": false
   },
   "outputs": [
    {
     "name": "stdout",
     "output_type": "stream",
     "text": [
      "[-4.36978613  0.25916244]\n"
     ]
    }
   ],
   "source": [
    "def choicer():\n",
    "    a1 = np.random.uniform(low=-6.0, high=6.0)\n",
    "    a2 = np.random.uniform(low=-6.0, high=6.0)\n",
    "    a1 = np.sqrt(10**(a1))\n",
    "    a2 = np.sqrt(10**(a2))\n",
    "    return np.log([a1,a2])\n",
    "print choicer()    "
   ]
  },
  {
   "cell_type": "code",
   "execution_count": null,
   "metadata": {
    "collapsed": false
   },
   "outputs": [],
   "source": []
  },
  {
   "cell_type": "code",
   "execution_count": 24,
   "metadata": {
    "collapsed": false
   },
   "outputs": [
    {
     "name": "stdout",
     "output_type": "stream",
     "text": [
      "calbirate: alpha\n",
      "[array([-1., -1.]), 0.01]\n",
      "1.0 31.5182199283\n",
      "1.0 31.5182199283\n",
      "1.0 31.5182199283\n",
      "1.0 31.5182199283\n",
      "1.0 31.5182199283\n",
      "1.0 31.5182199283\n",
      "1.0 31.5182199283\n",
      "1.0 31.5182199283\n",
      "1.0 31.5182199283\n",
      "1.0 31.5182199283\n",
      "[array([ 10.36163292,  10.36163292]), 0.01]\n",
      "10.3616329185 7.72659486152e-13\n",
      "10.3616329185 7.72659486152e-13\n",
      "10.3616329185 7.72659486152e-13\n",
      "10.3616329185 7.72659486152e-13\n",
      "10.3616329185 7.72659486152e-13\n",
      "10.3616329185 7.72659486152e-13\n",
      "10.3616329185 7.72659486152e-13\n",
      "10.3616329185 7.72659486152e-13\n",
      "10.3616329185 7.72659486152e-13\n",
      "10.3616329185 7.72659486152e-13\n",
      "final [0.0, 0.0]\n"
     ]
    }
   ],
   "source": [
    "hyp_lr_range = [0.0, 0.0] \n",
    "print 'calbirate: alpha'\n",
    "found = False\n",
    "for h in [  [np.array([-1.0, -1.0]), 10**(-2)],\n",
    "            #[np.array([np.log(np.sqrt(10**(0))), np.log(np.sqrt(10**(0)))]), 10**(-2)],\n",
    "             [np.array([np.log(np.sqrt(10**9)), np.log(np.sqrt(10**9))]), 10**(-2)]]: \n",
    "    print h\n",
    "    while True:\n",
    "\n",
    "            \n",
    "            lr.set_value(h[1])\n",
    "            alphas.set_value(h[0])\n",
    "\n",
    "\n",
    "\n",
    "            score = drmad_optimize(partial(cv_tc, k =4,  batch_size=75), model_build, optimizer, 10, 75, 10,  X_train, Y_train, \n",
    "    [alphas], lr,  lr=hyp_lr_range[0],  lr_for_learning_rate=0.0, verbose=-1, use_hessian=False).history[-1][1]\n",
    "            if lr.eval()>1.0 or np.max(abs(alphas.eval()))>12 or  np.isnan(score) or np.isinf(score):\n",
    "                print 'BAD'\n",
    "                print alphas.eval()\n",
    "                hyp_lr_range[0] = hyp_lr_range[0]/2\n",
    "            else:\n",
    "                \n",
    "                break\n",
    "            \n",
    "print 'final', hyp_lr_range            \n",
    "        \n",
    "        \n",
    "        \n"
   ]
  },
  {
   "cell_type": "code",
   "execution_count": 18,
   "metadata": {
    "collapsed": false
   },
   "outputs": [
    {
     "name": "stdout",
     "output_type": "stream",
     "text": [
      "attemp\n",
      "[ 6.64379711 -6.4309027 ] 0.01\n",
      "trial 0\n",
      "iteration 0, internal loss=-1282.8385734 time=0.00702095031738\n",
      "validation score:  -2.46628049632e+67\n",
      "reverse-iteration 0, gradients:[[ -2.64336428e+53  -9.50283763e+70]] time:0.000593900680542\n",
      "max abs grad 9.50283763427e+70\n",
      "6.64379711116 5.22656069885e+71\n",
      "new hyperparam values: [array([ -1.45385035e+55,  -5.22656070e+72])]\n",
      "max abs 5.22656069885e+72\n",
      "trial 1\n",
      "iteration 0, internal loss=nan time=0.00107789039612\n",
      "validation score:  nan\n",
      "reverse-iteration 0, gradients:[[ nan  nan]] time:0.000653982162476\n",
      "max abs grad nan\n",
      "5.22656069885e+72 nan\n",
      "new hyperparam values: [array([ nan,  nan])]\n",
      "max abs nan\n",
      "trial 2\n",
      "iteration 0, internal loss=nan time=0.00299501419067\n",
      "validation score:  nan\n",
      "reverse-iteration 0, gradients:[[ nan  nan]] time:0.000706911087036\n",
      "max abs grad nan\n",
      "nan nan\n",
      "new hyperparam values: [array([ nan,  nan])]\n",
      "max abs nan\n",
      "trial 3\n",
      "iteration 0, internal loss=nan time=0.0033221244812\n",
      "validation score:  nan\n",
      "reverse-iteration 0, gradients:[[ nan  nan]] time:0.000632047653198\n",
      "max abs grad nan\n",
      "nan nan\n",
      "new hyperparam values: [array([ nan,  nan])]\n",
      "max abs nan\n",
      "trial 4\n",
      "iteration 0, internal loss=nan time=0.00282096862793\n",
      "validation score:  nan\n",
      "reverse-iteration 0, gradients:[[ nan  nan]] time:0.00082802772522\n",
      "max abs grad nan\n",
      "nan nan\n",
      "new hyperparam values: [array([ nan,  nan])]\n",
      "max abs nan\n",
      "trial 5\n",
      "iteration 0, internal loss=nan time=0.00701117515564\n",
      "validation score:  nan\n",
      "reverse-iteration 0, gradients:[[ nan  nan]] time:0.0015230178833\n",
      "max abs grad nan\n",
      "nan nan\n",
      "new hyperparam values: [array([ nan,  nan])]\n",
      "max abs nan\n",
      "trial 6\n",
      "iteration 0, internal loss=nan time=0.00692009925842\n",
      "validation score:  nan\n",
      "reverse-iteration 0, gradients:[[ nan  nan]] time:0.00192499160767\n",
      "max abs grad nan\n",
      "nan nan\n",
      "new hyperparam values: [array([ nan,  nan])]\n",
      "max abs nan\n",
      "trial 7\n",
      "iteration 0, internal loss=nan time=0.0038149356842\n",
      "validation score:  nan\n",
      "reverse-iteration 0, gradients:[[ nan  nan]] time:0.00352311134338\n",
      "max abs grad nan\n",
      "nan nan\n",
      "new hyperparam values: [array([ nan,  nan])]\n",
      "max abs nan\n",
      "trial 8\n",
      "iteration 0, internal loss=nan time=0.00874018669128\n",
      "validation score:  nan\n",
      "reverse-iteration 0, gradients:[[ nan  nan]] time:0.000617980957031\n",
      "max abs grad nan\n",
      "nan nan\n",
      "new hyperparam values: [array([ nan,  nan])]\n",
      "max abs nan\n",
      "trial 9\n",
      "iteration 0, internal loss=nan time=0.00465106964111\n",
      "validation score:  nan\n",
      "reverse-iteration 0, gradients:[[ nan  nan]] time:0.00060510635376\n",
      "max abs grad nan\n",
      "nan nan\n",
      "new hyperparam values: [array([ nan,  nan])]\n",
      "max abs nan\n",
      "trial 10\n",
      "iteration 0, internal loss=nan time=0.00551915168762\n",
      "validation score:  nan\n",
      "reverse-iteration 0, gradients:[[ nan  nan]] time:0.000623941421509\n",
      "max abs grad nan\n",
      "nan nan\n",
      "new hyperparam values: [array([ nan,  nan])]\n",
      "max abs nan\n",
      "trial 11\n",
      "iteration 0, internal loss=nan time=0.00469398498535\n",
      "validation score:  nan\n",
      "reverse-iteration 0, gradients:[[ nan  nan]] time:0.000604152679443\n",
      "max abs grad nan\n",
      "nan nan\n",
      "new hyperparam values: [array([ nan,  nan])]\n",
      "max abs nan\n",
      "trial 12\n",
      "iteration 0, internal loss=nan time=0.00656986236572\n",
      "validation score:  nan\n",
      "reverse-iteration 0, gradients:[[ nan  nan]] time:0.000617027282715\n",
      "max abs grad nan\n",
      "nan nan\n",
      "new hyperparam values: [array([ nan,  nan])]\n",
      "max abs nan\n",
      "trial 13\n",
      "iteration 0, internal loss=nan time=0.00385904312134\n",
      "validation score:  nan\n",
      "reverse-iteration 0, gradients:[[ nan  nan]] time:0.000637054443359\n",
      "max abs grad nan\n",
      "nan nan\n",
      "new hyperparam values: [array([ nan,  nan])]\n",
      "max abs nan\n",
      "trial 14\n",
      "iteration 0, internal loss=nan time=0.00323081016541\n",
      "validation score:  nan\n",
      "reverse-iteration 0, gradients:[[ nan  nan]] time:0.000625848770142\n",
      "max abs grad nan\n",
      "nan nan\n",
      "new hyperparam values: [array([ nan,  nan])]\n",
      "max abs nan\n",
      "trial 15\n",
      "iteration 0, internal loss=nan time=0.0031521320343\n",
      "validation score:  nan\n",
      "reverse-iteration 0, gradients:[[ nan  nan]] time:0.000636100769043\n",
      "max abs grad nan\n",
      "nan nan\n",
      "new hyperparam values: [array([ nan,  nan])]\n",
      "max abs nan\n",
      "trial 16\n",
      "iteration 0, internal loss=nan time=0.00361394882202\n",
      "validation score:  nan\n",
      "reverse-iteration 0, gradients:[[ nan  nan]] time:0.000617980957031\n",
      "max abs grad nan\n",
      "nan nan\n",
      "new hyperparam values: [array([ nan,  nan])]\n",
      "max abs nan\n",
      "trial 17\n",
      "iteration 0, internal loss=nan time=0.00711512565613\n",
      "validation score:  nan\n",
      "reverse-iteration 0, gradients:[[ nan  nan]] time:0.000689029693604\n",
      "max abs grad nan\n",
      "nan nan\n",
      "new hyperparam values: [array([ nan,  nan])]\n",
      "max abs nan\n",
      "trial 18\n",
      "iteration 0, internal loss=nan time=0.00375413894653\n",
      "validation score:  nan\n",
      "reverse-iteration 0, gradients:[[ nan  nan]] time:0.000638008117676\n",
      "max abs grad nan\n",
      "nan nan\n",
      "new hyperparam values: [array([ nan,  nan])]\n",
      "max abs nan\n",
      "trial 19\n",
      "iteration 0, internal loss=nan time=0.0039370059967\n",
      "validation score:  nan\n",
      "reverse-iteration 0, gradients:[[ nan  nan]] time:0.000613212585449\n",
      "max abs grad nan\n",
      "nan nan\n",
      "new hyperparam values: [array([ nan,  nan])]\n",
      "max abs nan\n",
      "trial 20\n",
      "iteration 0, internal loss=nan time=0.00289297103882\n",
      "validation score:  nan\n",
      "reverse-iteration 0, gradients:[[ nan  nan]] time:0.000641107559204\n",
      "max abs grad nan\n",
      "nan nan\n",
      "new hyperparam values: [array([ nan,  nan])]\n",
      "max abs nan\n",
      "trial 21\n",
      "iteration 0, internal loss=nan time=0.00207209587097\n",
      "validation score:  nan\n",
      "reverse-iteration 0, gradients:[[ nan  nan]] time:0.000607013702393\n",
      "max abs grad nan\n",
      "nan nan\n",
      "new hyperparam values: [array([ nan,  nan])]\n",
      "max abs nan\n",
      "trial 22\n",
      "iteration 0, internal loss=nan time=0.0064001083374\n",
      "validation score:  nan\n",
      "reverse-iteration 0, gradients:[[ nan  nan]] time:0.000614881515503\n",
      "max abs grad nan\n",
      "nan nan\n",
      "new hyperparam values: [array([ nan,  nan])]\n",
      "max abs nan\n",
      "trial 23\n",
      "iteration 0, internal loss=nan time=0.00411605834961\n",
      "validation score:  nan\n",
      "reverse-iteration 0, gradients:[[ nan  nan]] time:0.000617027282715\n",
      "max abs grad nan\n",
      "nan nan\n",
      "new hyperparam values: [array([ nan,  nan])]\n",
      "max abs nan\n",
      "trial 24\n",
      "iteration 0, internal loss=nan time=0.0037260055542\n",
      "validation score:  nan\n",
      "reverse-iteration 0, gradients:[[ nan  nan]] time:0.000617980957031\n",
      "max abs grad nan\n",
      "nan nan\n",
      "new hyperparam values: [array([ nan,  nan])]\n",
      "max abs nan\n",
      "trial 25\n",
      "iteration 0, internal loss=nan time=0.00243592262268\n",
      "validation score:  nan\n",
      "reverse-iteration 0, gradients:[[ nan  nan]] time:0.000649929046631\n",
      "max abs grad nan\n",
      "nan nan\n",
      "new hyperparam values: [array([ nan,  nan])]\n",
      "max abs nan\n",
      "trial 26\n",
      "iteration 0, internal loss=nan time=0.00275993347168\n",
      "validation score:  nan\n",
      "reverse-iteration 0, gradients:[[ nan  nan]] time:0.000616073608398\n",
      "max abs grad nan\n",
      "nan nan\n",
      "new hyperparam values: [array([ nan,  nan])]\n",
      "max abs nan\n",
      "trial 27\n",
      "iteration 0, internal loss=nan time=0.00235986709595\n",
      "validation score:  nan\n",
      "reverse-iteration 0, gradients:[[ nan  nan]] time:0.000663995742798\n",
      "max abs grad nan\n",
      "nan nan\n",
      "new hyperparam values: [array([ nan,  nan])]\n",
      "max abs nan\n",
      "trial 28\n",
      "iteration 0, internal loss=nan time=0.00396108627319\n",
      "validation score:  nan\n",
      "reverse-iteration 0, gradients:[[ nan  nan]] time:0.000661849975586\n",
      "max abs grad nan\n",
      "nan nan\n",
      "new hyperparam values: [array([ nan,  nan])]\n",
      "max abs nan\n",
      "trial 29\n",
      "iteration 0, internal loss=nan time=0.00233292579651\n",
      "validation score:  nan\n",
      "reverse-iteration 0, gradients:[[ nan  nan]] time:0.000611066818237\n",
      "max abs grad nan\n",
      "nan nan\n",
      "new hyperparam values: [array([ nan,  nan])]\n",
      "max abs nan\n",
      "trial 30\n",
      "iteration 0, internal loss=nan time=0.00319004058838\n",
      "validation score:  nan\n",
      "reverse-iteration 0, gradients:[[ nan  nan]] time:0.000640869140625\n",
      "max abs grad nan\n",
      "nan nan\n",
      "new hyperparam values: [array([ nan,  nan])]\n",
      "max abs nan\n",
      "trial 31\n",
      "iteration 0, internal loss=nan time=0.00323891639709\n",
      "validation score:  nan\n",
      "reverse-iteration 0, gradients:[[ nan  nan]] time:0.000616073608398\n",
      "max abs grad nan\n",
      "nan nan\n",
      "new hyperparam values: [array([ nan,  nan])]\n",
      "max abs nan\n",
      "trial 32\n",
      "iteration 0, internal loss=nan time=0.00692915916443\n",
      "validation score:  nan\n",
      "reverse-iteration 0, gradients:[[ nan  nan]] time:0.000624179840088\n",
      "max abs grad nan\n",
      "nan nan\n",
      "new hyperparam values: [array([ nan,  nan])]\n",
      "max abs nan\n",
      "trial 33\n",
      "iteration 0, internal loss=nan time=0.00363302230835\n",
      "validation score:  nan\n",
      "reverse-iteration 0, gradients:[[ nan  nan]] time:0.000663042068481\n",
      "max abs grad nan\n",
      "nan nan\n",
      "new hyperparam values: [array([ nan,  nan])]\n",
      "max abs nan\n",
      "trial 34\n",
      "iteration 0, internal loss=nan time=0.00367712974548\n",
      "validation score:  nan\n",
      "reverse-iteration 0, gradients:[[ nan  nan]] time:0.00064492225647\n",
      "max abs grad nan\n",
      "nan nan\n",
      "new hyperparam values: [array([ nan,  nan])]\n",
      "max abs nan\n",
      "trial 35\n",
      "iteration 0, internal loss=nan time=0.00339889526367\n",
      "validation score:  nan\n",
      "reverse-iteration 0, gradients:[[ nan  nan]] time:0.000607013702393\n",
      "max abs grad nan\n",
      "nan nan\n",
      "new hyperparam values: [array([ nan,  nan])]\n",
      "max abs nan\n",
      "trial 36\n",
      "iteration 0, internal loss=nan time=0.00406980514526\n",
      "validation score:  nan\n",
      "reverse-iteration 0, gradients:[[ nan  nan]] time:0.000667095184326\n",
      "max abs grad nan\n",
      "nan nan\n",
      "new hyperparam values: [array([ nan,  nan])]\n",
      "max abs nan\n",
      "trial 37\n",
      "iteration 0, internal loss=nan time=0.00558090209961\n",
      "validation score:  nan\n",
      "reverse-iteration 0, gradients:[[ nan  nan]] time:0.000656127929688\n",
      "max abs grad nan\n",
      "nan nan\n",
      "new hyperparam values: [array([ nan,  nan])]\n",
      "max abs nan\n",
      "trial 38\n",
      "iteration 0, internal loss=nan time=0.00369596481323\n",
      "validation score:  nan\n",
      "reverse-iteration 0, gradients:[[ nan  nan]] time:0.00068998336792\n",
      "max abs grad nan\n",
      "nan nan\n",
      "new hyperparam values: [array([ nan,  nan])]\n",
      "max abs nan\n",
      "trial 39\n",
      "iteration 0, internal loss=nan time=0.00336885452271\n",
      "validation score:  nan\n",
      "reverse-iteration 0, gradients:[[ nan  nan]] time:0.000629186630249\n",
      "max abs grad nan\n",
      "nan nan\n",
      "new hyperparam values: [array([ nan,  nan])]\n",
      "max abs nan\n",
      "trial 40\n",
      "iteration 0, internal loss=nan time=0.00355386734009\n",
      "validation score:  nan\n",
      "reverse-iteration 0, gradients:[[ nan  nan]] time:0.00063681602478\n",
      "max abs grad nan\n",
      "nan nan\n",
      "new hyperparam values: [array([ nan,  nan])]\n",
      "max abs nan\n",
      "trial 41\n",
      "iteration 0, internal loss=nan time=0.00351285934448\n",
      "validation score:  nan\n",
      "reverse-iteration 0, gradients:[[ nan  nan]] time:0.000612020492554\n",
      "max abs grad nan\n",
      "nan nan\n",
      "new hyperparam values: [array([ nan,  nan])]\n",
      "max abs nan\n",
      "trial 42\n",
      "iteration 0, internal loss=nan time=0.00616693496704\n",
      "validation score:  nan\n",
      "reverse-iteration 0, gradients:[[ nan  nan]] time:0.000615835189819\n",
      "max abs grad nan\n",
      "nan nan\n",
      "new hyperparam values: [array([ nan,  nan])]\n",
      "max abs nan\n",
      "trial 43\n",
      "iteration 0, internal loss=nan time=0.0039849281311\n",
      "validation score:  nan\n",
      "reverse-iteration 0, gradients:[[ nan  nan]] time:0.00061297416687\n",
      "max abs grad nan\n",
      "nan nan\n",
      "new hyperparam values: [array([ nan,  nan])]\n",
      "max abs nan\n",
      "trial 44\n",
      "iteration 0, internal loss=nan time=0.00273585319519\n",
      "validation score:  nan\n",
      "reverse-iteration 0, gradients:[[ nan  nan]] time:0.00062084197998\n",
      "max abs grad nan\n",
      "nan nan\n",
      "new hyperparam values: [array([ nan,  nan])]\n",
      "max abs nan\n",
      "trial 45\n",
      "iteration 0, internal loss=nan time=0.00454688072205\n",
      "validation score:  nan\n",
      "reverse-iteration 0, gradients:[[ nan  nan]] time:0.000648975372314\n",
      "max abs grad nan\n",
      "nan nan\n",
      "new hyperparam values: [array([ nan,  nan])]\n",
      "max abs nan\n",
      "trial 46\n",
      "iteration 0, internal loss=nan time=0.00413703918457\n",
      "validation score:  nan\n",
      "reverse-iteration 0, gradients:[[ nan  nan]] time:0.000619173049927\n",
      "max abs grad nan\n",
      "nan nan\n",
      "new hyperparam values: [array([ nan,  nan])]\n",
      "max abs nan\n",
      "trial 47\n",
      "iteration 0, internal loss=nan time=0.00639200210571\n",
      "validation score:  nan\n",
      "reverse-iteration 0, gradients:[[ nan  nan]] time:0.000625133514404\n",
      "max abs grad nan\n",
      "nan nan\n",
      "new hyperparam values: [array([ nan,  nan])]\n",
      "max abs nan\n",
      "trial 48\n",
      "iteration 0, internal loss=nan time=0.00153112411499\n",
      "validation score:  nan\n",
      "reverse-iteration 0, gradients:[[ nan  nan]] time:0.000630140304565\n",
      "max abs grad nan\n",
      "nan nan\n",
      "new hyperparam values: [array([ nan,  nan])]\n",
      "max abs nan\n",
      "trial 49\n",
      "iteration 0, internal loss=nan time=0.00291299819946\n",
      "validation score:  nan\n",
      "reverse-iteration 0, gradients:[[ nan  nan]] time:0.000630140304565\n",
      "max abs grad nan\n",
      "nan nan\n",
      "new hyperparam values: [array([ nan,  nan])]\n",
      "max abs nan\n",
      "validation score:  nan\n",
      "final [ nan  nan] 0.01\n",
      "attemp\n",
      "[-4.53533258 -5.20120035] 0.01\n"
     ]
    },
    {
     "ename": "KeyboardInterrupt",
     "evalue": "",
     "output_type": "error",
     "traceback": [
      "\u001b[1;31m---------------------------------------------------------------------------\u001b[0m",
      "\u001b[1;31mKeyboardInterrupt\u001b[0m                         Traceback (most recent call last)",
      "\u001b[1;32m<ipython-input-18-83e82ab8cf85>\u001b[0m in \u001b[0;36m<module>\u001b[1;34m()\u001b[0m\n\u001b[0;32m     16\u001b[0m \u001b[1;33m\u001b[0m\u001b[0m\n\u001b[0;32m     17\u001b[0m     bests.append( drmad_optimize(partial(cv_tc, k =4,  batch_size=75), model_build, optimizer, 50, 75, 10,  X_train, Y_train, \n\u001b[1;32m---> 18\u001b[1;33m     [alphas], lr,  lr=10.0,  lr_for_learning_rate=0.0,use_hessian=False, verbose=100))\n\u001b[0m\u001b[0;32m     19\u001b[0m     \u001b[1;32mprint\u001b[0m \u001b[1;34m'final'\u001b[0m\u001b[1;33m,\u001b[0m \u001b[0malphas\u001b[0m\u001b[1;33m.\u001b[0m\u001b[0meval\u001b[0m\u001b[1;33m(\u001b[0m\u001b[1;33m)\u001b[0m\u001b[1;33m,\u001b[0m \u001b[0mlr\u001b[0m\u001b[1;33m.\u001b[0m\u001b[0meval\u001b[0m\u001b[1;33m(\u001b[0m\u001b[1;33m)\u001b[0m\u001b[1;33m\u001b[0m\u001b[0m\n",
      "\u001b[1;32m/home/legin/svn074/Bakhteev2017Hypergrad/code/pyfos/hyperoptimizers/drmad_optimize.pyc\u001b[0m in \u001b[0;36mdrmad_optimize\u001b[1;34m(trainig_criterion, model_constructor, param_optimizer, trial_num, batch_size, train_iteration_num, X_data, Y_data, hyperparams, learning_rate_param, lr, lr_for_learning_rate, limits, lr_limits, verbose, use_hessian)\u001b[0m\n\u001b[0;32m     19\u001b[0m     \u001b[0mY_data_s\u001b[0m \u001b[1;33m=\u001b[0m \u001b[0mtheano\u001b[0m\u001b[1;33m.\u001b[0m\u001b[0mshared\u001b[0m\u001b[1;33m(\u001b[0m\u001b[0mY_data\u001b[0m\u001b[1;33m)\u001b[0m\u001b[1;33m\u001b[0m\u001b[0m\n\u001b[0;32m     20\u001b[0m     \u001b[0mtime_s\u001b[0m \u001b[1;33m=\u001b[0m \u001b[0mtime\u001b[0m\u001b[1;33m.\u001b[0m\u001b[0mtime\u001b[0m\u001b[1;33m(\u001b[0m\u001b[1;33m)\u001b[0m\u001b[1;33m\u001b[0m\u001b[0m\n\u001b[1;32m---> 21\u001b[1;33m     \u001b[0mtraining_procedure\u001b[0m \u001b[1;33m=\u001b[0m \u001b[0mtrainig_criterion\u001b[0m\u001b[1;33m(\u001b[0m \u001b[0mmodel_constructor\u001b[0m\u001b[1;33m,\u001b[0m \u001b[0mparam_optimizer\u001b[0m\u001b[1;33m,\u001b[0m\u001b[0mX_data\u001b[0m\u001b[1;33m,\u001b[0m \u001b[0mY_data\u001b[0m \u001b[1;33m)\u001b[0m\u001b[1;33m\u001b[0m\u001b[0m\n\u001b[0m\u001b[0;32m     22\u001b[0m \u001b[1;33m\u001b[0m\u001b[0m\n\u001b[0;32m     23\u001b[0m     \u001b[0mk\u001b[0m \u001b[1;33m=\u001b[0m \u001b[0mlen\u001b[0m\u001b[1;33m(\u001b[0m\u001b[0mtraining_procedure\u001b[0m\u001b[1;33m.\u001b[0m\u001b[0mmodels\u001b[0m\u001b[1;33m)\u001b[0m\u001b[1;33m\u001b[0m\u001b[0m\n",
      "\u001b[1;32m/home/legin/svn074/Bakhteev2017Hypergrad/code/pyfos/tc/cv.pyc\u001b[0m in \u001b[0;36mcv_tc\u001b[1;34m(model_constructor, param_optimizer, X_data, Y_data, k, validation_part, batch_size)\u001b[0m\n\u001b[0;32m     33\u001b[0m         \u001b[0mvalidations\u001b[0m\u001b[1;33m.\u001b[0m\u001b[0mappend\u001b[0m\u001b[1;33m(\u001b[0m\u001b[0mvalid\u001b[0m\u001b[1;33m)\u001b[0m\u001b[1;33m\u001b[0m\u001b[0m\n\u001b[0;32m     34\u001b[0m \u001b[1;33m\u001b[0m\u001b[0m\n\u001b[1;32m---> 35\u001b[1;33m     \u001b[0mtrain_func\u001b[0m \u001b[1;33m=\u001b[0m \u001b[0mtheano\u001b[0m\u001b[1;33m.\u001b[0m\u001b[0mfunction\u001b[0m\u001b[1;33m(\u001b[0m\u001b[0mindices\u001b[0m\u001b[1;33m,\u001b[0m \u001b[0mT\u001b[0m\u001b[1;33m.\u001b[0m\u001b[0mmean\u001b[0m\u001b[1;33m(\u001b[0m\u001b[0mcosts\u001b[0m\u001b[1;33m)\u001b[0m\u001b[1;33m,\u001b[0m  \u001b[0mupdates\u001b[0m\u001b[1;33m=\u001b[0m \u001b[0mupdates\u001b[0m\u001b[1;33m,\u001b[0m \u001b[0mgivens\u001b[0m\u001b[1;33m=\u001b[0m \u001b[0mgivens\u001b[0m\u001b[1;33m)\u001b[0m\u001b[1;33m\u001b[0m\u001b[0m\n\u001b[0m\u001b[0;32m     36\u001b[0m     \u001b[0mmonitor\u001b[0m \u001b[1;33m=\u001b[0m \u001b[0mtheano\u001b[0m\u001b[1;33m.\u001b[0m\u001b[0mfunction\u001b[0m\u001b[1;33m(\u001b[0m\u001b[0mindices\u001b[0m\u001b[1;33m,\u001b[0m \u001b[0mT\u001b[0m\u001b[1;33m.\u001b[0m\u001b[0mmean\u001b[0m\u001b[1;33m(\u001b[0m\u001b[0mvalidations\u001b[0m\u001b[1;33m)\u001b[0m\u001b[1;33m,\u001b[0m  \u001b[0mgivens\u001b[0m\u001b[1;33m=\u001b[0m \u001b[0mgivens\u001b[0m\u001b[1;33m)\u001b[0m\u001b[1;33m\u001b[0m\u001b[0m\n\u001b[0;32m     37\u001b[0m \u001b[1;33m\u001b[0m\u001b[0m\n",
      "\u001b[1;32m/usr/local/lib/python2.7/dist-packages/theano/compile/function.pyc\u001b[0m in \u001b[0;36mfunction\u001b[1;34m(inputs, outputs, mode, updates, givens, no_default_updates, accept_inplace, name, rebuild_strict, allow_input_downcast, profile, on_unused_input)\u001b[0m\n\u001b[0;32m    324\u001b[0m                    \u001b[0mon_unused_input\u001b[0m\u001b[1;33m=\u001b[0m\u001b[0mon_unused_input\u001b[0m\u001b[1;33m,\u001b[0m\u001b[1;33m\u001b[0m\u001b[0m\n\u001b[0;32m    325\u001b[0m                    \u001b[0mprofile\u001b[0m\u001b[1;33m=\u001b[0m\u001b[0mprofile\u001b[0m\u001b[1;33m,\u001b[0m\u001b[1;33m\u001b[0m\u001b[0m\n\u001b[1;32m--> 326\u001b[1;33m                    output_keys=output_keys)\n\u001b[0m\u001b[0;32m    327\u001b[0m     \u001b[1;31m# We need to add the flag check_aliased inputs if we have any mutable or\u001b[0m\u001b[1;33m\u001b[0m\u001b[1;33m\u001b[0m\u001b[0m\n\u001b[0;32m    328\u001b[0m     \u001b[1;31m# borrowed used defined inputs\u001b[0m\u001b[1;33m\u001b[0m\u001b[1;33m\u001b[0m\u001b[0m\n",
      "\u001b[1;32m/usr/local/lib/python2.7/dist-packages/theano/compile/pfunc.pyc\u001b[0m in \u001b[0;36mpfunc\u001b[1;34m(params, outputs, mode, updates, givens, no_default_updates, accept_inplace, name, rebuild_strict, allow_input_downcast, profile, on_unused_input, output_keys)\u001b[0m\n\u001b[0;32m    484\u001b[0m                          \u001b[0maccept_inplace\u001b[0m\u001b[1;33m=\u001b[0m\u001b[0maccept_inplace\u001b[0m\u001b[1;33m,\u001b[0m \u001b[0mname\u001b[0m\u001b[1;33m=\u001b[0m\u001b[0mname\u001b[0m\u001b[1;33m,\u001b[0m\u001b[1;33m\u001b[0m\u001b[0m\n\u001b[0;32m    485\u001b[0m                          \u001b[0mprofile\u001b[0m\u001b[1;33m=\u001b[0m\u001b[0mprofile\u001b[0m\u001b[1;33m,\u001b[0m \u001b[0mon_unused_input\u001b[0m\u001b[1;33m=\u001b[0m\u001b[0mon_unused_input\u001b[0m\u001b[1;33m,\u001b[0m\u001b[1;33m\u001b[0m\u001b[0m\n\u001b[1;32m--> 486\u001b[1;33m                          output_keys=output_keys)\n\u001b[0m\u001b[0;32m    487\u001b[0m \u001b[1;33m\u001b[0m\u001b[0m\n\u001b[0;32m    488\u001b[0m \u001b[1;33m\u001b[0m\u001b[0m\n",
      "\u001b[1;32m/usr/local/lib/python2.7/dist-packages/theano/compile/function_module.pyc\u001b[0m in \u001b[0;36morig_function\u001b[1;34m(inputs, outputs, mode, accept_inplace, name, profile, on_unused_input, output_keys)\u001b[0m\n\u001b[0;32m   1792\u001b[0m                    \u001b[0mprofile\u001b[0m\u001b[1;33m=\u001b[0m\u001b[0mprofile\u001b[0m\u001b[1;33m,\u001b[0m\u001b[1;33m\u001b[0m\u001b[0m\n\u001b[0;32m   1793\u001b[0m                    \u001b[0mon_unused_input\u001b[0m\u001b[1;33m=\u001b[0m\u001b[0mon_unused_input\u001b[0m\u001b[1;33m,\u001b[0m\u001b[1;33m\u001b[0m\u001b[0m\n\u001b[1;32m-> 1794\u001b[1;33m                    \u001b[0moutput_keys\u001b[0m\u001b[1;33m=\u001b[0m\u001b[0moutput_keys\u001b[0m\u001b[1;33m)\u001b[0m\u001b[1;33m.\u001b[0m\u001b[0mcreate\u001b[0m\u001b[1;33m(\u001b[0m\u001b[1;33m\u001b[0m\u001b[0m\n\u001b[0m\u001b[0;32m   1795\u001b[0m             defaults)\n\u001b[0;32m   1796\u001b[0m \u001b[1;33m\u001b[0m\u001b[0m\n",
      "\u001b[1;32m/usr/local/lib/python2.7/dist-packages/theano/compile/function_module.pyc\u001b[0m in \u001b[0;36m__init__\u001b[1;34m(self, inputs, outputs, mode, accept_inplace, function_builder, profile, on_unused_input, fgraph, output_keys)\u001b[0m\n\u001b[0;32m   1472\u001b[0m                         optimizer, inputs, outputs)\n\u001b[0;32m   1473\u001b[0m                 \u001b[1;32melse\u001b[0m\u001b[1;33m:\u001b[0m\u001b[1;33m\u001b[0m\u001b[0m\n\u001b[1;32m-> 1474\u001b[1;33m                     \u001b[0moptimizer_profile\u001b[0m \u001b[1;33m=\u001b[0m \u001b[0moptimizer\u001b[0m\u001b[1;33m(\u001b[0m\u001b[0mfgraph\u001b[0m\u001b[1;33m)\u001b[0m\u001b[1;33m\u001b[0m\u001b[0m\n\u001b[0m\u001b[0;32m   1475\u001b[0m \u001b[1;33m\u001b[0m\u001b[0m\n\u001b[0;32m   1476\u001b[0m                 \u001b[0mend_optimizer\u001b[0m \u001b[1;33m=\u001b[0m \u001b[0mtime\u001b[0m\u001b[1;33m.\u001b[0m\u001b[0mtime\u001b[0m\u001b[1;33m(\u001b[0m\u001b[1;33m)\u001b[0m\u001b[1;33m\u001b[0m\u001b[0m\n",
      "\u001b[1;32m/usr/local/lib/python2.7/dist-packages/theano/gof/opt.pyc\u001b[0m in \u001b[0;36m__call__\u001b[1;34m(self, fgraph)\u001b[0m\n\u001b[0;32m     96\u001b[0m \u001b[1;33m\u001b[0m\u001b[0m\n\u001b[0;32m     97\u001b[0m         \"\"\"\n\u001b[1;32m---> 98\u001b[1;33m         \u001b[1;32mreturn\u001b[0m \u001b[0mself\u001b[0m\u001b[1;33m.\u001b[0m\u001b[0moptimize\u001b[0m\u001b[1;33m(\u001b[0m\u001b[0mfgraph\u001b[0m\u001b[1;33m)\u001b[0m\u001b[1;33m\u001b[0m\u001b[0m\n\u001b[0m\u001b[0;32m     99\u001b[0m \u001b[1;33m\u001b[0m\u001b[0m\n\u001b[0;32m    100\u001b[0m     \u001b[1;32mdef\u001b[0m \u001b[0madd_requirements\u001b[0m\u001b[1;33m(\u001b[0m\u001b[0mself\u001b[0m\u001b[1;33m,\u001b[0m \u001b[0mfgraph\u001b[0m\u001b[1;33m)\u001b[0m\u001b[1;33m:\u001b[0m\u001b[1;33m\u001b[0m\u001b[0m\n",
      "\u001b[1;32m/usr/local/lib/python2.7/dist-packages/theano/gof/opt.pyc\u001b[0m in \u001b[0;36moptimize\u001b[1;34m(self, fgraph, *args, **kwargs)\u001b[0m\n\u001b[0;32m     85\u001b[0m             \u001b[0morig\u001b[0m \u001b[1;33m=\u001b[0m \u001b[0mtheano\u001b[0m\u001b[1;33m.\u001b[0m\u001b[0mtensor\u001b[0m\u001b[1;33m.\u001b[0m\u001b[0mbasic\u001b[0m\u001b[1;33m.\u001b[0m\u001b[0mconstant\u001b[0m\u001b[1;33m.\u001b[0m\u001b[0menable\u001b[0m\u001b[1;33m\u001b[0m\u001b[0m\n\u001b[0;32m     86\u001b[0m             \u001b[0mtheano\u001b[0m\u001b[1;33m.\u001b[0m\u001b[0mtensor\u001b[0m\u001b[1;33m.\u001b[0m\u001b[0mbasic\u001b[0m\u001b[1;33m.\u001b[0m\u001b[0mconstant\u001b[0m\u001b[1;33m.\u001b[0m\u001b[0menable\u001b[0m \u001b[1;33m=\u001b[0m \u001b[0mFalse\u001b[0m\u001b[1;33m\u001b[0m\u001b[0m\n\u001b[1;32m---> 87\u001b[1;33m             \u001b[0mret\u001b[0m \u001b[1;33m=\u001b[0m \u001b[0mself\u001b[0m\u001b[1;33m.\u001b[0m\u001b[0mapply\u001b[0m\u001b[1;33m(\u001b[0m\u001b[0mfgraph\u001b[0m\u001b[1;33m,\u001b[0m \u001b[1;33m*\u001b[0m\u001b[0margs\u001b[0m\u001b[1;33m,\u001b[0m \u001b[1;33m**\u001b[0m\u001b[0mkwargs\u001b[0m\u001b[1;33m)\u001b[0m\u001b[1;33m\u001b[0m\u001b[0m\n\u001b[0m\u001b[0;32m     88\u001b[0m         \u001b[1;32mfinally\u001b[0m\u001b[1;33m:\u001b[0m\u001b[1;33m\u001b[0m\u001b[0m\n\u001b[0;32m     89\u001b[0m             \u001b[0mtheano\u001b[0m\u001b[1;33m.\u001b[0m\u001b[0mtensor\u001b[0m\u001b[1;33m.\u001b[0m\u001b[0mbasic\u001b[0m\u001b[1;33m.\u001b[0m\u001b[0mconstant\u001b[0m\u001b[1;33m.\u001b[0m\u001b[0menable\u001b[0m \u001b[1;33m=\u001b[0m \u001b[0morig\u001b[0m\u001b[1;33m\u001b[0m\u001b[0m\n",
      "\u001b[1;32m/usr/local/lib/python2.7/dist-packages/theano/gof/opt.pyc\u001b[0m in \u001b[0;36mapply\u001b[1;34m(self, fgraph)\u001b[0m\n\u001b[0;32m    233\u001b[0m                 \u001b[0mnb_nodes_before\u001b[0m \u001b[1;33m=\u001b[0m \u001b[0mlen\u001b[0m\u001b[1;33m(\u001b[0m\u001b[0mfgraph\u001b[0m\u001b[1;33m.\u001b[0m\u001b[0mapply_nodes\u001b[0m\u001b[1;33m)\u001b[0m\u001b[1;33m\u001b[0m\u001b[0m\n\u001b[0;32m    234\u001b[0m                 \u001b[0mt0\u001b[0m \u001b[1;33m=\u001b[0m \u001b[0mtime\u001b[0m\u001b[1;33m.\u001b[0m\u001b[0mtime\u001b[0m\u001b[1;33m(\u001b[0m\u001b[1;33m)\u001b[0m\u001b[1;33m\u001b[0m\u001b[0m\n\u001b[1;32m--> 235\u001b[1;33m                 \u001b[0msub_prof\u001b[0m \u001b[1;33m=\u001b[0m \u001b[0moptimizer\u001b[0m\u001b[1;33m.\u001b[0m\u001b[0moptimize\u001b[0m\u001b[1;33m(\u001b[0m\u001b[0mfgraph\u001b[0m\u001b[1;33m)\u001b[0m\u001b[1;33m\u001b[0m\u001b[0m\n\u001b[0m\u001b[0;32m    236\u001b[0m                 \u001b[0ml\u001b[0m\u001b[1;33m.\u001b[0m\u001b[0mappend\u001b[0m\u001b[1;33m(\u001b[0m\u001b[0mfloat\u001b[0m\u001b[1;33m(\u001b[0m\u001b[0mtime\u001b[0m\u001b[1;33m.\u001b[0m\u001b[0mtime\u001b[0m\u001b[1;33m(\u001b[0m\u001b[1;33m)\u001b[0m \u001b[1;33m-\u001b[0m \u001b[0mt0\u001b[0m\u001b[1;33m)\u001b[0m\u001b[1;33m)\u001b[0m\u001b[1;33m\u001b[0m\u001b[0m\n\u001b[0;32m    237\u001b[0m                 \u001b[0msub_profs\u001b[0m\u001b[1;33m.\u001b[0m\u001b[0mappend\u001b[0m\u001b[1;33m(\u001b[0m\u001b[0msub_prof\u001b[0m\u001b[1;33m)\u001b[0m\u001b[1;33m\u001b[0m\u001b[0m\n",
      "\u001b[1;32m/usr/local/lib/python2.7/dist-packages/theano/gof/opt.pyc\u001b[0m in \u001b[0;36moptimize\u001b[1;34m(self, fgraph, *args, **kwargs)\u001b[0m\n\u001b[0;32m     85\u001b[0m             \u001b[0morig\u001b[0m \u001b[1;33m=\u001b[0m \u001b[0mtheano\u001b[0m\u001b[1;33m.\u001b[0m\u001b[0mtensor\u001b[0m\u001b[1;33m.\u001b[0m\u001b[0mbasic\u001b[0m\u001b[1;33m.\u001b[0m\u001b[0mconstant\u001b[0m\u001b[1;33m.\u001b[0m\u001b[0menable\u001b[0m\u001b[1;33m\u001b[0m\u001b[0m\n\u001b[0;32m     86\u001b[0m             \u001b[0mtheano\u001b[0m\u001b[1;33m.\u001b[0m\u001b[0mtensor\u001b[0m\u001b[1;33m.\u001b[0m\u001b[0mbasic\u001b[0m\u001b[1;33m.\u001b[0m\u001b[0mconstant\u001b[0m\u001b[1;33m.\u001b[0m\u001b[0menable\u001b[0m \u001b[1;33m=\u001b[0m \u001b[0mFalse\u001b[0m\u001b[1;33m\u001b[0m\u001b[0m\n\u001b[1;32m---> 87\u001b[1;33m             \u001b[0mret\u001b[0m \u001b[1;33m=\u001b[0m \u001b[0mself\u001b[0m\u001b[1;33m.\u001b[0m\u001b[0mapply\u001b[0m\u001b[1;33m(\u001b[0m\u001b[0mfgraph\u001b[0m\u001b[1;33m,\u001b[0m \u001b[1;33m*\u001b[0m\u001b[0margs\u001b[0m\u001b[1;33m,\u001b[0m \u001b[1;33m**\u001b[0m\u001b[0mkwargs\u001b[0m\u001b[1;33m)\u001b[0m\u001b[1;33m\u001b[0m\u001b[0m\n\u001b[0m\u001b[0;32m     88\u001b[0m         \u001b[1;32mfinally\u001b[0m\u001b[1;33m:\u001b[0m\u001b[1;33m\u001b[0m\u001b[0m\n\u001b[0;32m     89\u001b[0m             \u001b[0mtheano\u001b[0m\u001b[1;33m.\u001b[0m\u001b[0mtensor\u001b[0m\u001b[1;33m.\u001b[0m\u001b[0mbasic\u001b[0m\u001b[1;33m.\u001b[0m\u001b[0mconstant\u001b[0m\u001b[1;33m.\u001b[0m\u001b[0menable\u001b[0m \u001b[1;33m=\u001b[0m \u001b[0morig\u001b[0m\u001b[1;33m\u001b[0m\u001b[0m\n",
      "\u001b[1;32m/usr/local/lib/python2.7/dist-packages/theano/gof/opt.pyc\u001b[0m in \u001b[0;36mapply\u001b[1;34m(self, fgraph)\u001b[0m\n\u001b[0;32m    233\u001b[0m                 \u001b[0mnb_nodes_before\u001b[0m \u001b[1;33m=\u001b[0m \u001b[0mlen\u001b[0m\u001b[1;33m(\u001b[0m\u001b[0mfgraph\u001b[0m\u001b[1;33m.\u001b[0m\u001b[0mapply_nodes\u001b[0m\u001b[1;33m)\u001b[0m\u001b[1;33m\u001b[0m\u001b[0m\n\u001b[0;32m    234\u001b[0m                 \u001b[0mt0\u001b[0m \u001b[1;33m=\u001b[0m \u001b[0mtime\u001b[0m\u001b[1;33m.\u001b[0m\u001b[0mtime\u001b[0m\u001b[1;33m(\u001b[0m\u001b[1;33m)\u001b[0m\u001b[1;33m\u001b[0m\u001b[0m\n\u001b[1;32m--> 235\u001b[1;33m                 \u001b[0msub_prof\u001b[0m \u001b[1;33m=\u001b[0m \u001b[0moptimizer\u001b[0m\u001b[1;33m.\u001b[0m\u001b[0moptimize\u001b[0m\u001b[1;33m(\u001b[0m\u001b[0mfgraph\u001b[0m\u001b[1;33m)\u001b[0m\u001b[1;33m\u001b[0m\u001b[0m\n\u001b[0m\u001b[0;32m    236\u001b[0m                 \u001b[0ml\u001b[0m\u001b[1;33m.\u001b[0m\u001b[0mappend\u001b[0m\u001b[1;33m(\u001b[0m\u001b[0mfloat\u001b[0m\u001b[1;33m(\u001b[0m\u001b[0mtime\u001b[0m\u001b[1;33m.\u001b[0m\u001b[0mtime\u001b[0m\u001b[1;33m(\u001b[0m\u001b[1;33m)\u001b[0m \u001b[1;33m-\u001b[0m \u001b[0mt0\u001b[0m\u001b[1;33m)\u001b[0m\u001b[1;33m)\u001b[0m\u001b[1;33m\u001b[0m\u001b[0m\n\u001b[0;32m    237\u001b[0m                 \u001b[0msub_profs\u001b[0m\u001b[1;33m.\u001b[0m\u001b[0mappend\u001b[0m\u001b[1;33m(\u001b[0m\u001b[0msub_prof\u001b[0m\u001b[1;33m)\u001b[0m\u001b[1;33m\u001b[0m\u001b[0m\n",
      "\u001b[1;32m/usr/local/lib/python2.7/dist-packages/theano/gof/opt.pyc\u001b[0m in \u001b[0;36moptimize\u001b[1;34m(self, fgraph, *args, **kwargs)\u001b[0m\n\u001b[0;32m     85\u001b[0m             \u001b[0morig\u001b[0m \u001b[1;33m=\u001b[0m \u001b[0mtheano\u001b[0m\u001b[1;33m.\u001b[0m\u001b[0mtensor\u001b[0m\u001b[1;33m.\u001b[0m\u001b[0mbasic\u001b[0m\u001b[1;33m.\u001b[0m\u001b[0mconstant\u001b[0m\u001b[1;33m.\u001b[0m\u001b[0menable\u001b[0m\u001b[1;33m\u001b[0m\u001b[0m\n\u001b[0;32m     86\u001b[0m             \u001b[0mtheano\u001b[0m\u001b[1;33m.\u001b[0m\u001b[0mtensor\u001b[0m\u001b[1;33m.\u001b[0m\u001b[0mbasic\u001b[0m\u001b[1;33m.\u001b[0m\u001b[0mconstant\u001b[0m\u001b[1;33m.\u001b[0m\u001b[0menable\u001b[0m \u001b[1;33m=\u001b[0m \u001b[0mFalse\u001b[0m\u001b[1;33m\u001b[0m\u001b[0m\n\u001b[1;32m---> 87\u001b[1;33m             \u001b[0mret\u001b[0m \u001b[1;33m=\u001b[0m \u001b[0mself\u001b[0m\u001b[1;33m.\u001b[0m\u001b[0mapply\u001b[0m\u001b[1;33m(\u001b[0m\u001b[0mfgraph\u001b[0m\u001b[1;33m,\u001b[0m \u001b[1;33m*\u001b[0m\u001b[0margs\u001b[0m\u001b[1;33m,\u001b[0m \u001b[1;33m**\u001b[0m\u001b[0mkwargs\u001b[0m\u001b[1;33m)\u001b[0m\u001b[1;33m\u001b[0m\u001b[0m\n\u001b[0m\u001b[0;32m     88\u001b[0m         \u001b[1;32mfinally\u001b[0m\u001b[1;33m:\u001b[0m\u001b[1;33m\u001b[0m\u001b[0m\n\u001b[0;32m     89\u001b[0m             \u001b[0mtheano\u001b[0m\u001b[1;33m.\u001b[0m\u001b[0mtensor\u001b[0m\u001b[1;33m.\u001b[0m\u001b[0mbasic\u001b[0m\u001b[1;33m.\u001b[0m\u001b[0mconstant\u001b[0m\u001b[1;33m.\u001b[0m\u001b[0menable\u001b[0m \u001b[1;33m=\u001b[0m \u001b[0morig\u001b[0m\u001b[1;33m\u001b[0m\u001b[0m\n",
      "\u001b[1;32m/usr/local/lib/python2.7/dist-packages/theano/tensor/opt.pyc\u001b[0m in \u001b[0;36mapply\u001b[1;34m(self, fgraph)\u001b[0m\n\u001b[0;32m   7287\u001b[0m                 \u001b[1;31m# Don't try to fuse node that have already been fused.\u001b[0m\u001b[1;33m\u001b[0m\u001b[1;33m\u001b[0m\u001b[0m\n\u001b[0;32m   7288\u001b[0m                 \u001b[1;32mif\u001b[0m \u001b[0mnode\u001b[0m \u001b[1;32min\u001b[0m \u001b[0mfgraph\u001b[0m\u001b[1;33m.\u001b[0m\u001b[0mapply_nodes\u001b[0m\u001b[1;33m:\u001b[0m\u001b[1;33m\u001b[0m\u001b[0m\n\u001b[1;32m-> 7289\u001b[1;33m                     \u001b[0mnew_outputs\u001b[0m \u001b[1;33m=\u001b[0m \u001b[0mself\u001b[0m\u001b[1;33m.\u001b[0m\u001b[0moptimizer\u001b[0m\u001b[1;33m(\u001b[0m\u001b[0mnode\u001b[0m\u001b[1;33m)\u001b[0m\u001b[1;33m\u001b[0m\u001b[0m\n\u001b[0m\u001b[0;32m   7290\u001b[0m                     \u001b[1;32mif\u001b[0m \u001b[0mnew_outputs\u001b[0m\u001b[1;33m:\u001b[0m\u001b[1;33m\u001b[0m\u001b[0m\n\u001b[0;32m   7291\u001b[0m                         \u001b[1;32massert\u001b[0m \u001b[0mlen\u001b[0m\u001b[1;33m(\u001b[0m\u001b[0mnew_outputs\u001b[0m\u001b[1;33m)\u001b[0m \u001b[1;33m==\u001b[0m \u001b[0mlen\u001b[0m\u001b[1;33m(\u001b[0m\u001b[0mnode\u001b[0m\u001b[1;33m.\u001b[0m\u001b[0moutputs\u001b[0m\u001b[1;33m)\u001b[0m\u001b[1;33m\u001b[0m\u001b[0m\n",
      "\u001b[1;32m/usr/local/lib/python2.7/dist-packages/theano/tensor/opt.pyc\u001b[0m in \u001b[0;36mlocal_fuse\u001b[1;34m(node)\u001b[0m\n\u001b[0;32m   7234\u001b[0m         \u001b[1;31m# debug mode will be faster as it won't test all intermediate step.\u001b[0m\u001b[1;33m\u001b[0m\u001b[1;33m\u001b[0m\u001b[0m\n\u001b[0;32m   7235\u001b[0m         \u001b[1;32mwhile\u001b[0m \u001b[0mTrue\u001b[0m\u001b[1;33m:\u001b[0m\u001b[1;33m\u001b[0m\u001b[0m\n\u001b[1;32m-> 7236\u001b[1;33m             \u001b[0mret\u001b[0m \u001b[1;33m=\u001b[0m \u001b[0mlocal_fuse\u001b[0m\u001b[1;33m(\u001b[0m\u001b[0mn\u001b[0m\u001b[1;33m)\u001b[0m\u001b[1;33m\u001b[0m\u001b[0m\n\u001b[0m\u001b[0;32m   7237\u001b[0m             \u001b[1;32mif\u001b[0m \u001b[0mret\u001b[0m \u001b[1;32mis\u001b[0m \u001b[1;32mnot\u001b[0m \u001b[0mFalse\u001b[0m \u001b[1;32mand\u001b[0m \u001b[0mret\u001b[0m \u001b[1;32mis\u001b[0m \u001b[1;32mnot\u001b[0m \u001b[0mNone\u001b[0m\u001b[1;33m:\u001b[0m\u001b[1;33m\u001b[0m\u001b[0m\n\u001b[0;32m   7238\u001b[0m                 \u001b[1;31m# print n,ret\u001b[0m\u001b[1;33m\u001b[0m\u001b[1;33m\u001b[0m\u001b[0m\n",
      "\u001b[1;32m/usr/local/lib/python2.7/dist-packages/theano/tensor/opt.pyc\u001b[0m in \u001b[0;36mlocal_fuse\u001b[1;34m(node)\u001b[0m\n\u001b[0;32m   7222\u001b[0m         \u001b[1;31m# create the new node.\u001b[0m\u001b[1;33m\u001b[0m\u001b[1;33m\u001b[0m\u001b[0m\n\u001b[0;32m   7223\u001b[0m         \u001b[1;31m# Do not call make_node to have test_value\u001b[0m\u001b[1;33m\u001b[0m\u001b[1;33m\u001b[0m\u001b[0m\n\u001b[1;32m-> 7224\u001b[1;33m         \u001b[0mn\u001b[0m \u001b[1;33m=\u001b[0m \u001b[0mmaker\u001b[0m\u001b[1;33m(\u001b[0m\u001b[0mnode\u001b[0m\u001b[1;33m,\u001b[0m \u001b[0mC\u001b[0m\u001b[1;33m)\u001b[0m\u001b[1;33m(\u001b[0m\u001b[1;33m*\u001b[0m\u001b[0minputs\u001b[0m\u001b[1;33m)\u001b[0m\u001b[1;33m.\u001b[0m\u001b[0mowner\u001b[0m\u001b[1;33m\u001b[0m\u001b[0m\n\u001b[0m\u001b[0;32m   7225\u001b[0m         \u001b[1;32massert\u001b[0m \u001b[0mlen\u001b[0m\u001b[1;33m(\u001b[0m\u001b[0mn\u001b[0m\u001b[1;33m.\u001b[0m\u001b[0moutputs\u001b[0m\u001b[1;33m)\u001b[0m \u001b[1;33m==\u001b[0m \u001b[1;36m1\u001b[0m\u001b[1;33m\u001b[0m\u001b[0m\n\u001b[0;32m   7226\u001b[0m         \u001b[1;32massert\u001b[0m \u001b[0mnode\u001b[0m\u001b[1;33m.\u001b[0m\u001b[0moutputs\u001b[0m\u001b[1;33m[\u001b[0m\u001b[1;36m0\u001b[0m\u001b[1;33m]\u001b[0m\u001b[1;33m.\u001b[0m\u001b[0mdtype\u001b[0m \u001b[1;33m==\u001b[0m \u001b[0mn\u001b[0m\u001b[1;33m.\u001b[0m\u001b[0moutputs\u001b[0m\u001b[1;33m[\u001b[0m\u001b[1;36m0\u001b[0m\u001b[1;33m]\u001b[0m\u001b[1;33m.\u001b[0m\u001b[0mdtype\u001b[0m\u001b[1;33m\u001b[0m\u001b[0m\n",
      "\u001b[1;32m/usr/local/lib/python2.7/dist-packages/theano/gof/op.pyc\u001b[0m in \u001b[0;36m__call__\u001b[1;34m(self, *inputs, **kwargs)\u001b[0m\n\u001b[0;32m    613\u001b[0m         \"\"\"\n\u001b[0;32m    614\u001b[0m         \u001b[0mreturn_list\u001b[0m \u001b[1;33m=\u001b[0m \u001b[0mkwargs\u001b[0m\u001b[1;33m.\u001b[0m\u001b[0mpop\u001b[0m\u001b[1;33m(\u001b[0m\u001b[1;34m'return_list'\u001b[0m\u001b[1;33m,\u001b[0m \u001b[0mFalse\u001b[0m\u001b[1;33m)\u001b[0m\u001b[1;33m\u001b[0m\u001b[0m\n\u001b[1;32m--> 615\u001b[1;33m         \u001b[0mnode\u001b[0m \u001b[1;33m=\u001b[0m \u001b[0mself\u001b[0m\u001b[1;33m.\u001b[0m\u001b[0mmake_node\u001b[0m\u001b[1;33m(\u001b[0m\u001b[1;33m*\u001b[0m\u001b[0minputs\u001b[0m\u001b[1;33m,\u001b[0m \u001b[1;33m**\u001b[0m\u001b[0mkwargs\u001b[0m\u001b[1;33m)\u001b[0m\u001b[1;33m\u001b[0m\u001b[0m\n\u001b[0m\u001b[0;32m    616\u001b[0m \u001b[1;33m\u001b[0m\u001b[0m\n\u001b[0;32m    617\u001b[0m         \u001b[1;32mif\u001b[0m \u001b[0mconfig\u001b[0m\u001b[1;33m.\u001b[0m\u001b[0mcompute_test_value\u001b[0m \u001b[1;33m!=\u001b[0m \u001b[1;34m'off'\u001b[0m\u001b[1;33m:\u001b[0m\u001b[1;33m\u001b[0m\u001b[0m\n",
      "\u001b[1;32m/usr/local/lib/python2.7/dist-packages/theano/tensor/elemwise.pyc\u001b[0m in \u001b[0;36mmake_node\u001b[1;34m(self, *inputs)\u001b[0m\n\u001b[0;32m    576\u001b[0m         \u001b[0minputs\u001b[0m \u001b[1;33m=\u001b[0m \u001b[0mlist\u001b[0m\u001b[1;33m(\u001b[0m\u001b[0mmap\u001b[0m\u001b[1;33m(\u001b[0m\u001b[0mas_tensor_variable\u001b[0m\u001b[1;33m,\u001b[0m \u001b[0minputs\u001b[0m\u001b[1;33m)\u001b[0m\u001b[1;33m)\u001b[0m\u001b[1;33m\u001b[0m\u001b[0m\n\u001b[0;32m    577\u001b[0m         out_dtypes, out_broadcastables, inputs = self.get_output_info(\n\u001b[1;32m--> 578\u001b[1;33m             DimShuffle, *inputs)\n\u001b[0m\u001b[0;32m    579\u001b[0m         outputs = [TensorType(dtype=dtype, broadcastable=broadcastable)()\n\u001b[0;32m    580\u001b[0m                    for dtype, broadcastable in izip(out_dtypes,\n",
      "\u001b[1;32m/usr/local/lib/python2.7/dist-packages/theano/tensor/elemwise.pyc\u001b[0m in \u001b[0;36mget_output_info\u001b[1;34m(self, dim_shuffle, *inputs)\u001b[0m\n\u001b[0;32m    511\u001b[0m                                           self.scalar_op.nout)\n\u001b[0;32m    512\u001b[0m \u001b[1;33m\u001b[0m\u001b[0m\n\u001b[1;32m--> 513\u001b[1;33m     \u001b[1;32mdef\u001b[0m \u001b[0mget_output_info\u001b[0m\u001b[1;33m(\u001b[0m\u001b[0mself\u001b[0m\u001b[1;33m,\u001b[0m \u001b[0mdim_shuffle\u001b[0m\u001b[1;33m,\u001b[0m \u001b[1;33m*\u001b[0m\u001b[0minputs\u001b[0m\u001b[1;33m)\u001b[0m\u001b[1;33m:\u001b[0m\u001b[1;33m\u001b[0m\u001b[0m\n\u001b[0m\u001b[0;32m    514\u001b[0m         \"\"\"Return the outputs dtype and broadcastable pattern and the\n\u001b[0;32m    515\u001b[0m         \u001b[0mdimshuffled\u001b[0m \u001b[0mniputs\u001b[0m\u001b[1;33m.\u001b[0m\u001b[1;33m\u001b[0m\u001b[0m\n",
      "\u001b[1;31mKeyboardInterrupt\u001b[0m: "
     ]
    }
   ],
   "source": [
    "bests = []\n",
    "bests = []\n",
    "for _ in xrange(10):\n",
    "    print 'attemp'\n",
    "    \n",
    "    hyp_lr_range = [0.001, 10**(-10)] \n",
    "    lr_value = 10.0**(-2)\n",
    "    alphas_value = choicer()\n",
    "    print alphas_value, lr_value\n",
    "    lr.set_value(lr_value)\n",
    "    alphas.set_value(alphas_value)\n",
    "\n",
    "    \n",
    "    lr.set_value(lr_value)\n",
    "    alphas.set_value(alphas_value)\n",
    "    \n",
    "    bests.append( drmad_optimize(partial(cv_tc, k =4,  batch_size=75), model_build, optimizer, 50, 75, 10,  X_train, Y_train, \n",
    "    [alphas], lr,  lr=10.0,  lr_for_learning_rate=0.0,use_hessian=False, verbose=100))\n",
    "    print 'final', alphas.eval(), lr.eval()"
   ]
  },
  {
   "cell_type": "code",
   "execution_count": 14,
   "metadata": {
    "collapsed": false
   },
   "outputs": [
    {
     "data": {
      "image/png": "[encoded data removed]",
      "text/plain": [
       "<matplotlib.figure.Figure at 0x7fc2f2a875d0>"
      ]
     },
     "metadata": {},
     "output_type": "display_data"
    }
   ],
   "source": [
    "#bests = bests2[:]\n",
    "import cPickle\n",
    "#with open('results_cv_mad.pckl','rb') as inp:\n",
    "#    bests = cPickle.load(inp)\n",
    "for b in bests:\n",
    "    history = []\n",
    "    for i in xrange(0, len(b.history)):\n",
    "        \n",
    "        best_value = max([h[1] for h in b.history[:i+1]])\n",
    "        \n",
    "        history.append(best_value)\n",
    "    plt.plot(history)\n",
    "#plt.ylim((-100, -80))\n",
    "#plt.xlim((1,50))\n",
    "\n",
    "import cPickle\n",
    "with open('results_cv_mad.pckl','wb') as out:\n",
    "    cPickle.dump(bests, out)\n"
   ]
  },
  {
   "cell_type": "code",
   "execution_count": 11,
   "metadata": {
    "collapsed": false
   },
   "outputs": [
    {
     "ename": "IndexError",
     "evalue": "tuple index out of range",
     "output_type": "error",
     "traceback": [
      "\u001b[1;31m---------------------------------------------------------------------------\u001b[0m",
      "\u001b[1;31mIndexError\u001b[0m                                Traceback (most recent call last)",
      "\u001b[1;32m<ipython-input-11-fec000b6544b>\u001b[0m in \u001b[0;36m<module>\u001b[1;34m()\u001b[0m\n\u001b[0;32m     15\u001b[0m     \u001b[1;32mfor\u001b[0m \u001b[0mm\u001b[0m \u001b[1;32min\u001b[0m \u001b[0mxrange\u001b[0m\u001b[1;33m(\u001b[0m\u001b[1;36m4\u001b[0m\u001b[1;33m)\u001b[0m\u001b[1;33m:\u001b[0m\u001b[1;33m\u001b[0m\u001b[0m\n\u001b[0;32m     16\u001b[0m         \u001b[1;31m#print b.history[best][2][m]\u001b[0m\u001b[1;33m\u001b[0m\u001b[1;33m\u001b[0m\u001b[0m\n\u001b[1;32m---> 17\u001b[1;33m         \u001b[0mmodels\u001b[0m\u001b[1;33m[\u001b[0m\u001b[0mm\u001b[0m\u001b[1;33m]\u001b[0m\u001b[1;33m.\u001b[0m\u001b[0mparams\u001b[0m\u001b[1;33m.\u001b[0m\u001b[0mset_value\u001b[0m\u001b[1;33m(\u001b[0m\u001b[0mb\u001b[0m\u001b[1;33m.\u001b[0m\u001b[0mhistory\u001b[0m\u001b[1;33m[\u001b[0m\u001b[0mbest\u001b[0m\u001b[1;33m]\u001b[0m\u001b[1;33m[\u001b[0m\u001b[1;36m2\u001b[0m\u001b[1;33m]\u001b[0m\u001b[1;33m[\u001b[0m\u001b[0mm\u001b[0m\u001b[1;33m]\u001b[0m\u001b[1;33m)\u001b[0m\u001b[1;33m\u001b[0m\u001b[0m\n\u001b[0m\u001b[0;32m     18\u001b[0m         \u001b[0mresult\u001b[0m\u001b[1;33m.\u001b[0m\u001b[0mappend\u001b[0m\u001b[1;33m(\u001b[0m\u001b[0mnp\u001b[0m\u001b[1;33m.\u001b[0m\u001b[0mmean\u001b[0m\u001b[1;33m(\u001b[0m\u001b[1;33m(\u001b[0m\u001b[0mpredicts\u001b[0m\u001b[1;33m[\u001b[0m\u001b[0mm\u001b[0m\u001b[1;33m]\u001b[0m\u001b[1;33m(\u001b[0m\u001b[0mX_test\u001b[0m\u001b[1;33m)\u001b[0m\u001b[1;33m[\u001b[0m\u001b[1;33m:\u001b[0m\u001b[1;33m,\u001b[0m\u001b[1;36m0\u001b[0m\u001b[1;33m]\u001b[0m\u001b[1;33m-\u001b[0m\u001b[0mY_test\u001b[0m\u001b[1;33m)\u001b[0m\u001b[1;33m**\u001b[0m\u001b[1;36m2\u001b[0m\u001b[1;33m)\u001b[0m\u001b[1;33m)\u001b[0m\u001b[1;33m\u001b[0m\u001b[0m\n\u001b[0;32m     19\u001b[0m         \u001b[1;32mprint\u001b[0m \u001b[0mresult\u001b[0m\u001b[1;33m[\u001b[0m\u001b[1;33m-\u001b[0m\u001b[1;36m1\u001b[0m\u001b[1;33m]\u001b[0m\u001b[1;33m\u001b[0m\u001b[0m\n",
      "\u001b[1;31mIndexError\u001b[0m: tuple index out of range"
     ]
    }
   ],
   "source": [
    "import theano.tensor as T\n",
    "X = T.matrix()\n",
    "result = []\n",
    "models = []\n",
    "predicts = []\n",
    "\n",
    "for m in xrange(4):\n",
    "    models.append(model_build(dataset_size=100))\n",
    "    predict = models[m].predict_var(X)\n",
    "    predicts.append(theano.function([X], predict))\n",
    "for b in bests:\n",
    "    scores = [b.history[i][1] for i in xrange(len(b.history))]\n",
    "    best = np.argmax(scores)\n",
    "    \n",
    "    for m in xrange(4):\n",
    "        #print b.history[best][2][m]\n",
    "        models[m].params.set_value(b.history[best][2][m])\n",
    "        result.append(np.mean((predicts[m](X_test)[:,0]-Y_test)**2))\n",
    "        print result[-1]\n",
    "    \"\"\"\n",
    "    bests.append( random_optimize(partial(cv_tc, k =4,  batch_size=75), model_build, optimizer, 50, 10, X_train, Y_train,  [alphas, lr] ,\n",
    "     [alpha_ranges, lr_ranges], verbose=100))\n",
    "    X = T.matrix()    \n",
    "    model = model_build(dataset_size=100)\n",
    "    \n",
    "    \n",
    "    \"\"\"\n",
    "\n",
    "print np.mean(result)\n",
    "print np.std(result)"
   ]
  },
  {
   "cell_type": "code",
   "execution_count": null,
   "metadata": {
    "collapsed": true
   },
   "outputs": [],
   "source": []
  },
  {
   "cell_type": "code",
   "execution_count": 8,
   "metadata": {
    "collapsed": false
   },
   "outputs": [
    {
     "name": "stdout",
     "output_type": "stream",
     "text": [
      "[array([-0.08618924,  0.07302104]), array(0.00537222563090441)]\n",
      "0.845032090759\n",
      "[array([-0.11002089,  0.01758332]), array(0.005550579267265482)]\n",
      "0.845271989877\n",
      "[array([-0.08656351,  0.03525381]), array(0.005229430710384838)]\n",
      "0.845044330333\n",
      "[array([-0.14659154,  0.08547611]), array(0.005252349082338278)]\n",
      "0.845831519337\n",
      "[array([-0.08937141,  0.00927595]), array(0.0056384881157805575)]\n",
      "0.845004327496\n",
      "[array([-0.08553674,  0.06774782]), array(0.005466402939404961)]\n",
      "0.845007862766\n",
      "[array([-0.12797675,  0.05814624]), array(0.005692692163875986)]\n",
      "0.845512133854\n",
      "[array([-0.09096783,  0.05599656]), array(0.005646202917547017)]\n",
      "0.845048543537\n",
      "[array([-0.07663557,  0.00206454]), array(0.005492577281170933)]\n",
      "0.844863140164\n",
      "[array([-0.02383022,  0.01895683]), array(0.01000018614027096)]\n",
      "0.844238832863\n",
      "0.845085477098\n",
      "0.000394735187971\n"
     ]
    }
   ],
   "source": [
    "import theano.tensor as T\n",
    "X = T.matrix()\n",
    "result = []\n",
    "for b in bests:\n",
    "    print b.best_values\n",
    "    alphas.set_value(b.best_values[0])\n",
    "    lr.set_value(b.best_values[1])\n",
    "    training_procedure = cv_tc( model_build, optimizer, X_train, Y_train, validation_part=0.0, batch_size=100 )\n",
    "    \n",
    "    for i in xrange(10):\n",
    "        training_procedure.do_train()\n",
    "    \n",
    "    for m in training_procedure.models:\n",
    "        predict = m.predict_var(X)\n",
    "        predict = theano.function([X], predict)\n",
    "    \n",
    "        result.append(np.mean((predict(X_test)[:,0]-Y_test)**2))\n",
    "        print result[-1]\n",
    "    \"\"\"\n",
    "    bests.append( random_optimize(partial(cv_tc, k =4,  batch_size=75), model_build, optimizer, 50, 10, X_train, Y_train,  [alphas, lr] ,\n",
    "     [alpha_ranges, lr_ranges], verbose=100))\n",
    "    X = T.matrix()    \n",
    "    model = model_build(dataset_size=100)\n",
    "    \n",
    "    \n",
    "    \"\"\"\n",
    "print np.mean(result)\n",
    "print np.std(result)"
   ]
  },
  {
   "cell_type": "code",
   "execution_count": 9,
   "metadata": {
    "collapsed": false
   },
   "outputs": [
    {
     "name": "stdout",
     "output_type": "stream",
     "text": [
      "-115.117619924\n"
     ]
    }
   ],
   "source": [
    "best_values = []\n",
    "for b in bests:\n",
    "    history = []\n",
    "    for i in xrange(0, len(b.history)):\n",
    "        \n",
    "        best_value = max([h[1] for h in b.history[:i+1]])\n",
    "        \n",
    "        history.append(best_value)\n",
    "        best_values.append(history[-1])\n",
    "print np.mean(best_values)"
   ]
  },
  {
   "cell_type": "code",
   "execution_count": 13,
   "metadata": {
    "collapsed": false
   },
   "outputs": [
    {
     "data": {
      "image/png": "[encoded data removed]",
      "text/plain": [
       "<matplotlib.figure.Figure at 0x7f45655288d0>"
      ]
     },
     "metadata": {},
     "output_type": "display_data"
    }
   ],
   "source": [
    "plt.matshow(matrix.T)\n",
    "for i in bests:\n",
    "    i = i.best_values[0]\n",
    "    i = np.log10(np.exp(i)**2)\n",
    "    if i[0]>10 or i[1] >10:\n",
    "        continue\n",
    "    \n",
    "    plt.scatter(i[0]+np.random.randn(1)*0.1,i[1]+np.random.randn(1)*0.1, c='w')"
   ]
  },
  {
   "cell_type": "code",
   "execution_count": 23,
   "metadata": {
    "collapsed": false
   },
   "outputs": [
    {
     "data": {
      "text/plain": [
       "array([ 6.85777626,  3.48233214])"
      ]
     },
     "execution_count": 23,
     "metadata": {},
     "output_type": "execute_result"
    }
   ],
   "source": [
    "bests[0].best_values[0]"
   ]
  },
  {
   "cell_type": "code",
   "execution_count": 6,
   "metadata": {
    "collapsed": false
   },
   "outputs": [
    {
     "ename": "UnboundLocalError",
     "evalue": "local variable 'X2' referenced before assignment",
     "output_type": "error",
     "traceback": [
      "\u001b[1;31m---------------------------------------------------------------------------\u001b[0m",
      "\u001b[1;31mUnboundLocalError\u001b[0m                         Traceback (most recent call last)",
      "\u001b[1;32m<ipython-input-6-96d5836345f3>\u001b[0m in \u001b[0;36m<module>\u001b[1;34m()\u001b[0m\n\u001b[1;32m----> 1\u001b[1;33m greed_optimize(partial(cv_tc, k =4,  batch_size=10), model_build, optimizer, 1000, X, Y,  [alphas, lr] ,\n\u001b[0m\u001b[0;32m      2\u001b[0m     )\n",
      "\u001b[1;32m/home/legin/svn074/Bakhteev2017Hypergrad/code/pyfos/hyperoptimizers/greed_optimize.py\u001b[0m in \u001b[0;36mgreed_optimize\u001b[1;34m(trainig_criterion, model_constructor, param_optimizer, train_iteration_num, X_data, Y_data, hyperparams, lr, verbose)\u001b[0m\n\u001b[0;32m     19\u001b[0m     \u001b[0mcosts\u001b[0m \u001b[1;33m=\u001b[0m \u001b[1;33m[\u001b[0m\u001b[1;33m]\u001b[0m\u001b[1;33m\u001b[0m\u001b[0m\n\u001b[0;32m     20\u001b[0m     \u001b[0mgivens\u001b[0m \u001b[1;33m=\u001b[0m \u001b[1;33m[\u001b[0m\u001b[1;33m]\u001b[0m\u001b[1;33m\u001b[0m\u001b[0m\n\u001b[1;32m---> 21\u001b[1;33m     \u001b[1;32mfor\u001b[0m \u001b[0mX\u001b[0m\u001b[1;33m,\u001b[0m\u001b[0mY\u001b[0m\u001b[1;33m,\u001b[0m \u001b[0mindex\u001b[0m\u001b[1;33m,\u001b[0m \u001b[0mX2\u001b[0m\u001b[1;33m,\u001b[0m \u001b[0mY2\u001b[0m\u001b[1;33m,\u001b[0m \u001b[0mindex2\u001b[0m\u001b[1;33m,\u001b[0m \u001b[0mmodel\u001b[0m \u001b[1;32min\u001b[0m \u001b[0mzip\u001b[0m\u001b[1;33m(\u001b[0m\u001b[0mXs\u001b[0m\u001b[1;33m,\u001b[0m \u001b[0mYs\u001b[0m\u001b[1;33m,\u001b[0m \u001b[0mindices\u001b[0m\u001b[1;33m,\u001b[0m \u001b[0mX2\u001b[0m\u001b[1;33m,\u001b[0m \u001b[0mY2\u001b[0m\u001b[1;33m,\u001b[0m \u001b[0mindices2\u001b[0m\u001b[1;33m,\u001b[0m \u001b[0mmodels\u001b[0m \u001b[1;33m)\u001b[0m\u001b[1;33m:\u001b[0m\u001b[1;33m\u001b[0m\u001b[0m\n\u001b[0m\u001b[0;32m     22\u001b[0m         \u001b[0mtrain_cost\u001b[0m \u001b[1;33m=\u001b[0m \u001b[0mmodel\u001b[0m\u001b[1;33m.\u001b[0m\u001b[0mcost\u001b[0m\u001b[1;33m(\u001b[0m\u001b[0mX\u001b[0m\u001b[1;33m,\u001b[0m \u001b[0mY\u001b[0m\u001b[1;33m)\u001b[0m\u001b[1;33m\u001b[0m\u001b[0m\n\u001b[0;32m     23\u001b[0m         \u001b[0mupdates\u001b[0m \u001b[1;33m=\u001b[0m \u001b[0mparam_optimizer\u001b[0m\u001b[1;33m(\u001b[0m\u001b[1;33m-\u001b[0m\u001b[0mcost\u001b[0m\u001b[1;33m,\u001b[0m \u001b[0mmodel\u001b[0m\u001b[1;33m.\u001b[0m\u001b[0mparams\u001b[0m\u001b[1;33m)\u001b[0m\u001b[1;33m\u001b[0m\u001b[0m\n",
      "\u001b[1;31mUnboundLocalError\u001b[0m: local variable 'X2' referenced before assignment"
     ]
    }
   ],
   "source": []
  },
  {
   "cell_type": "code",
   "execution_count": 10,
   "metadata": {
    "collapsed": false
   },
   "outputs": [
    {
     "data": {
      "text/plain": [
       "[([array([  31.6227766 ,  316.22776602]), 0.001], array(-127.64285224474986)),\n",
       " ([array([ 10.        ,   3.16227766]), 0.01], array(-162.5087255392545)),\n",
       " ([array([ 31.6227766 ,   3.16227766]), 0.01], array(-2.7627426873481633e+42)),\n",
       " ([array([  10.,  100.]), 0.005], array(-124.3719052719263)),\n",
       " ([array([  3.16227766,  31.6227766 ]), 0.01], array(-1.2198974168241432e+41)),\n",
       " ([array([ 316.22776602,    1.        ]), 0.001], array(-122.78697142872564)),\n",
       " ([array([ 1.,  1.]), 0.01], array(-2.048288202990528e+45)),\n",
       " ([array([ 316.22776602,   10.        ]), 0.02], array(nan)),\n",
       " ([array([   1.,  100.]), 0.005], array(-127.03124347465777)),\n",
       " ([array([  3.16227766,  31.6227766 ]), 0.01], array(-3.879875247817619e+79))]"
      ]
     },
     "execution_count": 10,
     "metadata": {},
     "output_type": "execute_result"
    }
   ],
   "source": []
  },
  {
   "cell_type": "code",
   "execution_count": 11,
   "metadata": {
    "collapsed": false
   },
   "outputs": [
    {
     "name": "stdout",
     "output_type": "stream",
     "text": [
      "[  1.00000000e+05   1.00000000e+00]\n",
      "[ 100.  100.]\n",
      "[ 100.  100.]\n",
      "[   1.  100.]\n",
      "[  1.  10.]\n"
     ]
    }
   ],
   "source": [
    "for i in bests:\n",
    "    print np.array(i.best_values[0])**2"
   ]
  },
  {
   "cell_type": "code",
   "execution_count": 12,
   "metadata": {
    "collapsed": false
   },
   "outputs": [
    {
     "data": {
      "image/png": "[encoded data removed]",
      "text/plain": [
       "<matplotlib.figure.Figure at 0x7f47241e5410>"
      ]
     },
     "metadata": {},
     "output_type": "display_data"
    }
   ],
   "source": [
    "plt.matshow(matrix)\n",
    "for i in bests:\n",
    "    i = i.best_values[0]**2\n",
    "    i = np.log10(i)\n",
    "    \n",
    "    plt.scatter(i[0],i[1], c='w')"
   ]
  }
 ],
 "metadata": {
  "kernelspec": {
   "display_name": "Python 2",
   "language": "python",
   "name": "python2"
  },
  "language_info": {
   "codemirror_mode": {
    "name": "ipython",
    "version": 2
   },
   "file_extension": ".py",
   "mimetype": "text/x-python",
   "name": "python",
   "nbconvert_exporter": "python",
   "pygments_lexer": "ipython2",
   "version": "2.7.6"
  }
 },
 "nbformat": 4,
 "nbformat_minor": 0
}
