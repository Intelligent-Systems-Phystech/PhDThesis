{
 "cells": [
  {
   "cell_type": "code",
   "execution_count": 1,
   "metadata": {
    "collapsed": false
   },
   "outputs": [],
   "source": [
    "import numpy as np\n",
    "import sys\n",
    "sys.path.append('../../')\n",
    "sys.path.append('../../pyfos/')\n",
    "from pyfos.models.feedforward import build_feedforward\n",
    "from pyfos.models.var_feedforward import build_var_feedforward\n",
    "from pyfos.generic.optimizer import gd_optimizer\n",
    "from pyfos.generic.regularizers import gaus_prior\n",
    "from functools import partial \n",
    "from pyfos.tc.simple import  simple_tc\n",
    "from pyfos.tc.cv import  cv_tc\n",
    "from pyfos.hyperoptimizers.random_search import random_optimize\n",
    "from pyfos.hyperoptimizers.no_optimize import no_optimize\n",
    "import theano\n",
    "%matplotlib inline\n",
    "import matplotlib.pylab as plt\n",
    "import random"
   ]
  },
  {
   "cell_type": "code",
   "execution_count": 3,
   "metadata": {
    "collapsed": false
   },
   "outputs": [],
   "source": [
    "matrix = np.load('../../../data/matrix.npy')\n",
    "X, Y = np.load('../../../data/linearx.npy'), np.load('../../../data/lineary.npy')\n",
    "X_train = X[:100]\n",
    "Y_train = Y[:100]\n",
    "X_test = X[100:]\n",
    "Y_test = Y[100:]\n",
    "lr = theano.shared(10**(-2))\n",
    "alphas = theano.shared(np.array([1.0, 1.0]))\n",
    "optimizer = partial(gd_optimizer, learning_rate=lr)\n",
    "model_build = partial(build_var_feedforward, structure = [2,1], nonlinearity=lambda x:x, log_alphas=alphas, bias=False, param_pool_size=100)\n",
    "\n"
   ]
  },
  {
   "cell_type": "code",
   "execution_count": 4,
   "metadata": {
    "collapsed": false,
    "scrolled": true
   },
   "outputs": [
    {
     "name": "stdout",
     "output_type": "stream",
     "text": [
      "[ 2.56471449  2.67586259]\n"
     ]
    }
   ],
   "source": [
    "def choicer():\n",
    "    a1 = np.random.uniform(low=0.0, high=10.0)\n",
    "    a2 = np.random.uniform(low=0.0, high=10.0)\n",
    "    a1 = np.sqrt(10**(a1))\n",
    "    a2 = np.sqrt(10**(a2))\n",
    "    return np.log([a1,a2])\n",
    "print choicer()    "
   ]
  },
  {
   "cell_type": "code",
   "execution_count": 6,
   "metadata": {
    "collapsed": false
   },
   "outputs": [
    {
     "name": "stdout",
     "output_type": "stream",
     "text": [
      "attemp\n",
      "attemp\n",
      "attemp\n",
      "attemp\n",
      "attemp\n",
      "attemp\n",
      "attemp\n",
      "attemp\n",
      "attemp\n",
      "attemp\n",
      "attemp\n",
      "attemp\n",
      "attemp\n",
      "attemp\n",
      "attemp\n",
      "attemp\n",
      "attemp\n",
      "attemp\n",
      "attemp\n",
      "attemp\n",
      "attemp\n",
      "attemp\n",
      "attemp\n"
     ]
    },
    {
     "name": "stderr",
     "output_type": "stream",
     "text": [
      "INFO (theano.gof.compilelock): Refreshing lock /home/legin/.theano/compiledir_Linux-3.19--generic-x86_64-with-Ubuntu-14.04-trusty-x86_64-2.7.6-64/lock_dir/lock\n"
     ]
    },
    {
     "name": "stdout",
     "output_type": "stream",
     "text": [
      "attemp\n",
      "attemp\n",
      "attemp\n",
      "attemp\n",
      "attemp\n",
      "attemp\n",
      "attemp\n",
      "attemp\n",
      "attemp\n",
      "attemp\n",
      "attemp\n",
      "attemp\n",
      "attemp\n",
      "attemp\n",
      "attemp\n",
      "attemp\n",
      "attemp\n",
      "attemp\n",
      "attemp\n",
      "attemp\n",
      "attemp\n",
      "attemp\n",
      "attemp\n",
      "attemp\n",
      "attemp\n"
     ]
    },
    {
     "name": "stderr",
     "output_type": "stream",
     "text": [
      "INFO (theano.gof.compilelock): Refreshing lock /home/legin/.theano/compiledir_Linux-3.19--generic-x86_64-with-Ubuntu-14.04-trusty-x86_64-2.7.6-64/lock_dir/lock\n"
     ]
    },
    {
     "name": "stdout",
     "output_type": "stream",
     "text": [
      "attemp\n",
      "attemp\n"
     ]
    }
   ],
   "source": [
    "bests = []\n",
    "\n",
    "lr_ranges =   [0]\n",
    "#lr_ranges = [2*10**(-2)]\n",
    "#alpha_ranges = [np.array([4.60517019,4.60517019])]\n",
    "for trial in range(50):\n",
    "    print 'attemp'\n",
    "    \n",
    "    bests.append( random_optimize(partial(simple_tc,   batch_size=100), model_build, optimizer, 50, 10, X_train, Y_train,  [alphas] ,\n",
    "     [choicer], verbose=-1))\n",
    "    \n"
   ]
  },
  {
   "cell_type": "code",
   "execution_count": 9,
   "metadata": {
    "collapsed": false
   },
   "outputs": [
    {
     "ename": "NameError",
     "evalue": "name 'h' is not defined",
     "output_type": "error",
     "traceback": [
      "\u001b[1;31m---------------------------------------------------------------------------\u001b[0m",
      "\u001b[1;31mNameError\u001b[0m                                 Traceback (most recent call last)",
      "\u001b[1;32m<ipython-input-9-01fbdc44ef81>\u001b[0m in \u001b[0;36m<module>\u001b[1;34m()\u001b[0m\n\u001b[1;32m----> 1\u001b[1;33m \u001b[0mh\u001b[0m\u001b[1;33m\u001b[0m\u001b[0m\n\u001b[0m",
      "\u001b[1;31mNameError\u001b[0m: name 'h' is not defined"
     ]
    }
   ],
   "source": [
    "h"
   ]
  },
  {
   "cell_type": "code",
   "execution_count": 7,
   "metadata": {
    "collapsed": false
   },
   "outputs": [
    {
     "data": {
      "image/png": "[encoded data removed]",
      "text/plain": [
       "<matplotlib.figure.Figure at 0x7f4c59326f10>"
      ]
     },
     "metadata": {},
     "output_type": "display_data"
    }
   ],
   "source": [
    "for b in bests:\n",
    "    \n",
    "    history = []\n",
    "    for i in xrange(0, len(b.history)):\n",
    "        \n",
    "        best_value = max([h[1] for h in b.history[:i+1]])\n",
    "        \n",
    "        history.append(best_value)\n",
    "    plt.plot(history)\n",
    "#plt.ylim((-10000, -80))\n",
    "plt.xlim((1,50))\n",
    "import cPickle\n",
    "with open('results_var_rand.pckl','wb') as out:\n",
    "    cPickle.dump(bests, out)\n"
   ]
  },
  {
   "cell_type": "code",
   "execution_count": 36,
   "metadata": {
    "collapsed": false
   },
   "outputs": [
    {
     "name": "stdout",
     "output_type": "stream",
     "text": [
      "([array([ 5.75646273,  5.75646273]), 0.005], array(-119.73649388915732), [array([ 20.06844057,  99.33847011,  -8.60154903, -89.81348147])])\n",
      "[ 20.06844057  99.33847011  -8.60154903 -89.81348147]\n",
      "0.369746784637\n",
      "([array([ 6.90775528,  5.75646273]), 0.005], array(nan), [array([ nan,  nan,  nan,  nan])])\n",
      "[ nan  nan  nan  nan]\n",
      "nan\n",
      "([array([ 3.45387764,  4.60517019]), 0.005], array(-116.1346761609951), [array([  20.05461046,   99.35705343, -279.45847357,   -3.24760938])])\n",
      "[  20.05461046   99.35705343 -279.45847357   -3.24760938]\n",
      "0.347622179067\n",
      "([array([ 3.45387764,  2.30258509]), 0.005], array(nan), [array([ nan,  nan,  nan,  nan])])\n",
      "[ nan  nan  nan  nan]\n",
      "nan\n",
      "([array([ 4.60517019,  5.75646273]), 0.005], array(-120.09841534010225), [array([ 20.06961494,  99.31100784, -11.61600205,  -3.82585916])])\n",
      "[ 20.06961494  99.31100784 -11.61600205  -3.82585916]\n",
      "0.400808769845\n",
      "([array([ 4.60517019,  3.45387764]), 0.005], array(nan), [array([ nan,  nan,  nan,  nan])])\n",
      "[ nan  nan  nan  nan]\n",
      "nan\n",
      "([array([ 0.        ,  1.15129255]), 0.001], array(nan), [array([ nan,  nan,  nan,  nan])])\n",
      "[ nan  nan  nan  nan]\n",
      "nan\n",
      "([array([ 2.30258509,  4.60517019]), 0.005], array(-118.67130572371322), [array([  2.00644785e+01,   9.93176091e+01,  -1.76459699e+04,\n",
      "        -9.09599737e+00])])\n",
      "[  2.00644785e+01   9.93176091e+01  -1.76459699e+04  -9.09599737e+00]\n",
      "0.392485186916\n",
      "([array([ 2.30258509,  4.60517019]), 0.005], array(-118.13087443912671), [array([ 20.06539718,  99.32892985,  -6.64486902,  -5.72322456])])\n",
      "[ 20.06539718  99.32892985  -6.64486902  -5.72322456]\n",
      "0.379865296136\n",
      "([array([ 3.45387764,  5.75646273]), 0.005], array(-100.88716086936702), [array([  1.99557869e+01,   9.98970986e+01,  -1.71514431e+05,\n",
      "        -7.76794468e+00])])\n",
      "[  1.99557869e+01   9.98970986e+01  -1.71514431e+05  -7.76794468e+00]\n",
      "0.01114170866\n",
      "([array([ 2.30258509,  3.45387764]), 0.005], array(nan), [array([ nan,  nan,  nan,  nan])])\n",
      "[ nan  nan  nan  nan]\n",
      "nan\n",
      "([array([ 2.30258509,  3.45387764]), 0.005], array(nan), [array([ nan,  nan,  nan,  nan])])\n",
      "[ nan  nan  nan  nan]\n",
      "nan\n",
      "([array([ 3.45387764,  2.30258509]), 0.001], array(nan), [array([ nan,  nan,  nan,  nan])])\n",
      "[ nan  nan  nan  nan]\n",
      "nan\n",
      "([array([ 6.90775528,  3.45387764]), 0.005], array(-118.79576081153242), [array([  2.01309663e+01,   9.94487571e+01,  -3.30072414e+04,\n",
      "        -5.95291461e+00])])\n",
      "[  2.01309663e+01   9.94487571e+01  -3.30072414e+04  -5.95291461e+00]\n",
      "0.272782368774\n",
      "([array([ 3.45387764,  4.60517019]), 0.005], array(-117.92726534324419), [array([ 20.06575945,  99.32517668,  -8.41980302,  -3.182034  ])])\n",
      "[ 20.06575945  99.32517668  -8.41980302  -3.182034  ]\n",
      "0.384124963737\n",
      "([array([ 2.30258509,  4.60517019]), 0.005], array(-117.6919782716092), [array([  2.00567943e+01,   9.93460993e+01,  -2.04872048e+00,\n",
      "        -1.88962023e+04])])\n",
      "[  2.00567943e+01   9.93460993e+01  -2.04872048e+00  -1.88962023e+04]\n",
      "0.359726462958\n",
      "([array([ 0.        ,  6.90775528]), 0.005], array(nan), [array([ nan,  nan,  nan,  nan])])\n",
      "[ nan  nan  nan  nan]\n",
      "nan\n",
      "([array([ 4.60517019,  4.60517019]), 0.005], array(nan), [array([ nan,  nan,  nan,  nan])])\n",
      "[ nan  nan  nan  nan]\n",
      "nan\n",
      "([array([ 3.45387764,  4.60517019]), 0.005], array(-117.42954289845241), [array([ 20.06891759,  99.3287388 ,  -5.3835251 , -26.12796114])])\n",
      "[ 20.06891759  99.3287388   -5.3835251  -26.12796114]\n",
      "0.380619251765\n",
      "([array([ 4.60517019,  4.60517019]), 0.005], array(-115.86357787603768), [array([  20.06195211,   99.37891002,   -5.17813511, -436.40989024])])\n",
      "[  20.06195211   99.37891002   -5.17813511 -436.40989024]\n",
      "0.325597307604\n",
      "([array([ 3.45387764,  6.90775528]), 0.005], array(-112.8719400639343), [array([  2.00725747e+01,   9.94655848e+01,  -1.99855069e+04,\n",
      "        -4.12628823e+00])])\n",
      "[  2.00725747e+01   9.94655848e+01  -1.99855069e+04  -4.12628823e+00]\n",
      "0.243857629618\n",
      "([array([ 1.15129255,  4.60517019]), 0.005], array(-119.1998002603575), [array([  1.99264337e+01,   9.97851536e+01,  -1.09849190e+05,\n",
      "        -1.34479287e+02])])\n",
      "[  1.99264337e+01   9.97851536e+01  -1.09849190e+05  -1.34479287e+02]\n",
      "0.0448697500674\n",
      "([array([ 0.        ,  5.75646273]), 0.005], array(nan), [array([ nan,  nan,  nan,  nan])])\n",
      "[ nan  nan  nan  nan]\n",
      "nan\n",
      "([array([ 6.90775528,  5.75646273]), 0.005], array(nan), [array([ nan,  nan,  nan,  nan])])\n",
      "[ nan  nan  nan  nan]\n",
      "nan\n",
      "([array([ 3.45387764,  0.        ]), 0.005], array(nan), [array([ nan,  nan,  nan,  nan])])\n",
      "[ nan  nan  nan  nan]\n",
      "nan\n",
      "([array([ 2.30258509,  0.        ]), 0.005], array(nan), [array([ nan,  nan,  nan,  nan])])\n",
      "[ nan  nan  nan  nan]\n",
      "nan\n",
      "([array([ 4.60517019,  3.45387764]), 0.005], array(nan), [array([ nan,  nan,  nan,  nan])])\n",
      "[ nan  nan  nan  nan]\n",
      "nan\n",
      "([array([ 3.45387764,  4.60517019]), 0.005], array(-118.64795296529955), [array([ 20.09718895,  99.32145174,  -2.26513466,  -4.05823274])])\n",
      "[ 20.09718895  99.32145174  -2.26513466  -4.05823274]\n",
      "0.394196330346\n",
      "([array([ 3.45387764,  5.75646273]), 0.005], array(nan), [array([ nan,  nan,  nan,  nan])])\n",
      "[ nan  nan  nan  nan]\n",
      "nan\n",
      "([array([ 4.60517019,  1.15129255]), 0.005], array(nan), [array([ nan,  nan,  nan,  nan])])\n",
      "[ nan  nan  nan  nan]\n",
      "nan\n",
      "([array([ 5.75646273,  4.60517019]), 0.005], array(-113.21981572459038), [array([   20.04255913,    99.46005308, -7424.42024403,  -206.50419536])])\n",
      "[   20.04255913    99.46005308 -7424.42024403  -206.50419536]\n",
      "0.244850145738\n",
      "([array([ 5.75646273,  4.60517019]), 0.005], array(-119.17804182394129), [array([ 20.06711069,  99.33567336,  -2.46649369,  -5.61912572])])\n",
      "[ 20.06711069  99.33567336  -2.46649369  -5.61912572]\n",
      "0.372627690733\n",
      "([array([ 6.90775528,  6.90775528]), 0.005], array(-114.82015760257434), [array([  1.99941644e+01,   9.94911591e+01,  -1.97916078e+04,\n",
      "        -3.91594824e+00])])\n",
      "[  1.99941644e+01   9.94911591e+01  -1.97916078e+04  -3.91594824e+00]\n",
      "0.215732880375\n",
      "([array([ 4.60517019,  4.60517019]), 0.005], array(nan), [array([ nan,  nan,  nan,  nan])])\n",
      "[ nan  nan  nan  nan]\n",
      "nan\n",
      "([array([ 4.60517019,  4.60517019]), 0.005], array(-119.98188816506791), [array([  20.07014672,   99.29949111,  -93.73531113, -105.47038669])])\n",
      "[  20.07014672   99.29949111  -93.73531113 -105.47038669]\n",
      "0.414216036869\n",
      "([array([ 5.75646273,  4.60517019]), 0.005], array(-119.63459764917853), [array([ 20.06992764,  99.32764881,  -4.89795796,  -6.36607912])])\n",
      "[ 20.06992764  99.32764881  -4.89795796  -6.36607912]\n",
      "0.381998892579\n",
      "([array([ 4.60517019,  3.45387764]), 0.005], array(-115.97735297177114), [array([  2.00103190e+01,   9.94455925e+01,  -7.14272312e+04,\n",
      "        -3.40367966e+01])])\n",
      "[  2.00103190e+01   9.94455925e+01  -7.14272312e+04  -3.40367966e+01]\n",
      "0.256123086352\n",
      "([array([ 3.45387764,  5.75646273]), 0.005], array(-113.73794364687849), [array([   20.04249736,    99.41650957, -3227.70456215,   -10.70742236])])\n",
      "[   20.04249736    99.41650957 -3227.70456215   -10.70742236]\n",
      "0.28557392679\n",
      "([array([ 2.30258509,  5.75646273]), 0.005], array(-118.54783598440085), [array([ 20.0654443 ,  99.33343293,  -8.37396984, -50.88141083])])\n",
      "[ 20.0654443   99.33343293  -8.37396984 -50.88141083]\n",
      "0.374857636552\n",
      "([array([ 3.45387764,  3.45387764]), 0.005], array(-123.63516194166291), [array([  20.0972085 ,   99.32988891, -110.3194328 ,   -1.524095  ])])\n",
      "[  20.0972085    99.32988891 -110.3194328    -1.524095  ]\n",
      "0.384728783316\n",
      "([array([ 6.90775528,  5.75646273]), 0.005], array(-121.3878599753258), [array([   20.0729181 ,    99.32930031, -2319.66075166, -5724.55736541])])\n",
      "[   20.0729181     99.32930031 -2319.66075166 -5724.55736541]\n",
      "0.380641228941\n",
      "([array([ 3.45387764,  6.90775528]), 0.005], array(-115.79167884549275), [array([   20.07182231,    99.39858254,   -19.91483896, -8311.01094946])])\n",
      "[   20.07182231    99.39858254   -19.91483896 -8311.01094946]\n",
      "0.307087484958\n",
      "([array([ 2.30258509,  4.60517019]), 0.005], array(-118.49435362969348), [array([ 20.06556487,  99.32662243,  -3.40879384,  -4.41451418])])\n",
      "[ 20.06556487  99.32662243  -3.40879384  -4.41451418]\n",
      "0.382473049526\n",
      "([array([ 2.30258509,  5.75646273]), 0.005], array(nan), [array([ nan,  nan,  nan,  nan])])\n",
      "[ nan  nan  nan  nan]\n",
      "nan\n",
      "([array([ 6.90775528,  0.        ]), 0.005], array(nan), [array([ nan,  nan,  nan,  nan])])\n",
      "[ nan  nan  nan  nan]\n",
      "nan\n",
      "([array([ 4.60517019,  4.60517019]), 0.005], array(-118.70032234015643), [array([ 20.07437578,  99.32111911,  -3.35212659,  -7.32654546])])\n",
      "[ 20.07437578  99.32111911  -3.35212659  -7.32654546]\n",
      "0.390078828723\n",
      "([array([ 0.        ,  5.75646273]), 0.001], array(nan), [array([ nan,  nan,  nan,  nan])])\n",
      "[ nan  nan  nan  nan]\n",
      "nan\n",
      "([array([ 0.        ,  2.30258509]), 0.005], array(nan), [array([ nan,  nan,  nan,  nan])])\n",
      "[ nan  nan  nan  nan]\n",
      "nan\n",
      "([array([ 1.15129255,  0.        ]), 0.005], array(nan), [array([ nan,  nan,  nan,  nan])])\n",
      "[ nan  nan  nan  nan]\n",
      "nan\n"
     ]
    }
   ],
   "source": [
    "import theano.tensor as T\n",
    "X = T.matrix()\n",
    "result = []\n",
    "models = []\n",
    "predicts = []\n",
    "\n",
    "for m in xrange(1):\n",
    "    models.append(model_build(dataset_size=100))\n",
    "    predict = models[m].predict_var(X)\n",
    "    predicts.append(theano.function([X], predict))\n",
    "    \n",
    "for b in bests[1:]:\n",
    "    scores = [b.history[i][1] for i in xrange(len(b.history))]\n",
    "    best = np.argmax(scores)\n",
    "    print b.history[best]\n",
    "    \n",
    "    for m in xrange(1):\n",
    "        print b.history[best][2][m]\n",
    "        models[m].params.set_value(b.history[best][2][m])\n",
    "        result.append(np.mean((predicts[m](X_test)[:,0]-Y_test)**2))\n",
    "        print result[-1]\n",
    "    \"\"\"\n",
    "    bests.append( random_optimize(partial(cv_tc, k =4,  batch_size=75), model_build, optimizer, 50, 10, X_train, Y_train,  [alphas, lr] ,\n",
    "     [alpha_ranges, lr_ranges], verbose=100))\n",
    "    X = T.matrix()    \n",
    "    model = model_build(dataset_size=100)\n",
    "    \n",
    "    \n",
    "    \"\"\"\n",
    "\n",
    "#print np.mean(result)\n",
    "#print np.std(result)"
   ]
  },
  {
   "cell_type": "code",
   "execution_count": 45,
   "metadata": {
    "collapsed": false
   },
   "outputs": [
    {
     "name": "stdout",
     "output_type": "stream",
     "text": [
      "-156.587617036\n"
     ]
    }
   ],
   "source": [
    "best_values = []\n",
    "for b in bests:\n",
    "    history = []\n",
    "    for i in xrange(0, len(b.history)):\n",
    "        \n",
    "        best_value = max([h[1] for h in b.history[:i+1]])\n",
    "        \n",
    "        history.append(best_value)\n",
    "        best_values.append(history[-1])\n",
    "print np.mean(best_values)"
   ]
  },
  {
   "cell_type": "code",
   "execution_count": 10,
   "metadata": {
    "collapsed": false
   },
   "outputs": [
    {
     "data": {
      "text/plain": [
       "[([array([  31.6227766 ,  316.22776602]), 0.001], array(-127.64285224474986)),\n",
       " ([array([ 10.        ,   3.16227766]), 0.01], array(-162.5087255392545)),\n",
       " ([array([ 31.6227766 ,   3.16227766]), 0.01], array(-2.7627426873481633e+42)),\n",
       " ([array([  10.,  100.]), 0.005], array(-124.3719052719263)),\n",
       " ([array([  3.16227766,  31.6227766 ]), 0.01], array(-1.2198974168241432e+41)),\n",
       " ([array([ 316.22776602,    1.        ]), 0.001], array(-122.78697142872564)),\n",
       " ([array([ 1.,  1.]), 0.01], array(-2.048288202990528e+45)),\n",
       " ([array([ 316.22776602,   10.        ]), 0.02], array(nan)),\n",
       " ([array([   1.,  100.]), 0.005], array(-127.03124347465777)),\n",
       " ([array([  3.16227766,  31.6227766 ]), 0.01], array(-3.879875247817619e+79))]"
      ]
     },
     "execution_count": 10,
     "metadata": {},
     "output_type": "execute_result"
    }
   ],
   "source": []
  },
  {
   "cell_type": "code",
   "execution_count": 33,
   "metadata": {
    "collapsed": false
   },
   "outputs": [
    {
     "name": "stdout",
     "output_type": "stream",
     "text": [
      "[ 1.  1.]\n",
      "[ 1.  1.]\n",
      "[ 10.   1.]\n",
      "[ 1.  1.]\n",
      "[ 1.  1.]\n"
     ]
    }
   ],
   "source": [
    "for i in bests:\n",
    "    print np.array(i.best_values[0])**2"
   ]
  },
  {
   "cell_type": "code",
   "execution_count": 7,
   "metadata": {
    "collapsed": false
   },
   "outputs": [
    {
     "data": {
      "image/png": "[encoded data removed]",
      "text/plain": [
       "<matplotlib.figure.Figure at 0x7fbbe1841b10>"
      ]
     },
     "metadata": {},
     "output_type": "display_data"
    }
   ],
   "source": [
    "plt.matshow(matrix)\n",
    "for i in bests:\n",
    "    i = i.best_values[0]**2\n",
    "    i = np.log10(np.exp(i))\n",
    "    \n",
    "    plt.scatter(i[0]+np.random.randn(1)*0.1,i[1]+np.random.randn(1)*0.1, c='w')"
   ]
  },
  {
   "cell_type": "code",
   "execution_count": 7,
   "metadata": {
    "collapsed": false
   },
   "outputs": [],
   "source": [
    "model = model_build(dataset_size=100)"
   ]
  },
  {
   "cell_type": "code",
   "execution_count": 9,
   "metadata": {
    "collapsed": false
   },
   "outputs": [],
   "source": [
    "import theano.tensor as T"
   ]
  },
  {
   "cell_type": "code",
   "execution_count": 28,
   "metadata": {
    "collapsed": true
   },
   "outputs": [],
   "source": [
    "X,Y = T.matrix(), T.vector()"
   ]
  },
  {
   "cell_type": "code",
   "execution_count": 29,
   "metadata": {
    "collapsed": true
   },
   "outputs": [],
   "source": [
    "cost = model.cost(X,Y)"
   ]
  },
  {
   "cell_type": "code",
   "execution_count": 35,
   "metadata": {
    "collapsed": false
   },
   "outputs": [
    {
     "name": "stdout",
     "output_type": "stream",
     "text": [
      "Elemwise{add,no_inplace}.0\n"
     ]
    }
   ],
   "source": [
    "f = theano.function([X,Y], cost)\n",
    "print cost\n",
    "f2 = theano.function([X,Y], T.grad(cost, model.params))\n",
    "model.params.set_value([ 102.5926679 ,    0.23016751])"
   ]
  },
  {
   "cell_type": "code",
   "execution_count": 36,
   "metadata": {
    "collapsed": false
   },
   "outputs": [
    {
     "data": {
      "text/plain": [
       "array([ -1.02592668e+08,  -2.30167510e+05])"
      ]
     },
     "execution_count": 36,
     "metadata": {},
     "output_type": "execute_result"
    }
   ],
   "source": [
    "#f(np.random.randn(100,2), np.random.randn(100))\n",
    "\n",
    "f2(np.random.randn(100,2), np.random.randn(100))"
   ]
  }
 ],
 "metadata": {
  "kernelspec": {
   "display_name": "Python 2",
   "language": "python",
   "name": "python2"
  },
  "language_info": {
   "codemirror_mode": {
    "name": "ipython",
    "version": 2
   },
   "file_extension": ".py",
   "mimetype": "text/x-python",
   "name": "python",
   "nbconvert_exporter": "python",
   "pygments_lexer": "ipython2",
   "version": "2.7.6"
  }
 },
 "nbformat": 4,
 "nbformat_minor": 0
}
