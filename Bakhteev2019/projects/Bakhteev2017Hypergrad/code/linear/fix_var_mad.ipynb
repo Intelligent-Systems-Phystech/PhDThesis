{
 "cells": [
  {
   "cell_type": "code",
   "execution_count": 1,
   "metadata": {
    "collapsed": false
   },
   "outputs": [],
   "source": [
    "import numpy as np\n",
    "import sys\n",
    "sys.path.append('../../')\n",
    "sys.path.append('../../pyfos/')\n",
    "from pyfos.models.feedforward import build_feedforward\n",
    "from pyfos.generic.optimizer import gd_optimizer\n",
    "from pyfos.generic.regularizers import gaus_prior\n",
    "from functools import partial \n",
    "from pyfos.tc.simple import  simple_tc\n",
    "from pyfos.tc.cv import  cv_tc\n",
    "from pyfos.hyperoptimizers.drmad_optimize import drmad_optimize\n",
    "import theano\n",
    "%matplotlib inline\n",
    "import matplotlib.pylab as plt\n",
    "import random\n",
    "from pyfos.models.var_feedforward import build_var_feedforward"
   ]
  },
  {
   "cell_type": "code",
   "execution_count": 7,
   "metadata": {
    "collapsed": false
   },
   "outputs": [],
   "source": [
    "matrix = np.load('../../../data/matrix.npy')\n",
    "X, Y = np.load('../../../data/linearx.npy'), np.load('../../../data/lineary.npy')\n",
    "X_train = X[:100]\n",
    "Y_train = Y[:100]\n",
    "X_test = X[100:]\n",
    "Y_test = Y[100:]\n",
    "lr = theano.shared(10**(-3))\n",
    "alphas = theano.shared(np.array([1.0, 1.0]))\n",
    "\n",
    "optimizer = partial(gd_optimizer, learning_rate=lr)\n",
    "model_build = partial(build_var_feedforward, init_sigmas=[1.0, 1.0], structure = [2,1], nonlinearity=lambda x:x, alphas=alphas, bias=False, param_pool_size=100)\n",
    "\n"
   ]
  },
  {
   "cell_type": "code",
   "execution_count": 4,
   "metadata": {
    "collapsed": false
   },
   "outputs": [
    {
     "name": "stdout",
     "output_type": "stream",
     "text": [
      "[array([ 1.,  1.]), array([ 1.        ,  3.16227766]), array([  1.,  10.]), array([  1.       ,  31.6227766]), array([   1.,  100.]), array([   1.        ,  316.22776602]), array([    1.,  1000.]), array([ 3.16227766,  1.        ]), array([ 3.16227766,  3.16227766]), array([  3.16227766,  10.        ]), array([  3.16227766,  31.6227766 ]), array([   3.16227766,  100.        ]), array([   3.16227766,  316.22776602]), array([    3.16227766,  1000.        ]), array([ 10.,   1.]), array([ 10.        ,   3.16227766]), array([ 10.,  10.]), array([ 10.       ,  31.6227766]), array([  10.,  100.]), array([  10.        ,  316.22776602]), array([   10.,  1000.]), array([ 31.6227766,   1.       ]), array([ 31.6227766 ,   3.16227766]), array([ 31.6227766,  10.       ]), array([ 31.6227766,  31.6227766]), array([  31.6227766,  100.       ]), array([  31.6227766 ,  316.22776602]), array([   31.6227766,  1000.       ]), array([ 100.,    1.]), array([ 100.        ,    3.16227766]), array([ 100.,   10.]), array([ 100.       ,   31.6227766]), array([ 100.,  100.]), array([ 100.        ,  316.22776602]), array([  100.,  1000.]), array([ 316.22776602,    1.        ]), array([ 316.22776602,    3.16227766]), array([ 316.22776602,   10.        ]), array([ 316.22776602,   31.6227766 ]), array([ 316.22776602,  100.        ]), array([ 316.22776602,  316.22776602]), array([  316.22776602,  1000.        ]), array([ 1000.,     1.]), array([ 1000.        ,     3.16227766]), array([ 1000.,    10.]), array([ 1000.       ,    31.6227766]), array([ 1000.,   100.]), array([ 1000.        ,   316.22776602]), array([ 1000.,  1000.])]\n"
     ]
    }
   ],
   "source": [
    "alpha_ranges = []\n",
    "for i in xrange(7):\n",
    "    for j in xrange(7):\n",
    "        a1 = np.sqrt(10**(i))\n",
    "        a2 = np.sqrt(10**(j))\n",
    "        alpha_ranges.append(np.array([a1,a2]))\n",
    "    \n",
    "print alpha_ranges    \n",
    "lr_ranges =   [10**(-2), 0.5*10**(-2), 10**(-3), 0.5*10**(-3)]"
   ]
  },
  {
   "cell_type": "code",
   "execution_count": 8,
   "metadata": {
    "collapsed": false
   },
   "outputs": [
    {
     "name": "stdout",
     "output_type": "stream",
     "text": [
      "trial 0\n",
      "iteration 0, internal loss=-443.039999136\n",
      "validation score:  -202.215804402\n",
      "reverse-iteration 0, gradients:[[ 1.72011252  0.45150307]]\n",
      "lr gradient: 7877.1317074\n",
      "new hyperparam values: [array([ 1.50606065,  1.49689685])]\n",
      "new learning rate: 0.0020074470903\n",
      "trial 1\n",
      "iteration 0, internal loss=-621.368794001\n",
      "validation score:  -168.999376826\n",
      "reverse-iteration 0, gradients:[[-0.22365882 -0.0531231 ]]\n",
      "lr gradient: 1101.47505441\n",
      "new hyperparam values: [array([ 1.22839052,  1.548127  ])]\n",
      "new learning rate: 0.00249171324036\n",
      "trial 2\n",
      "iteration 0, internal loss=-472.315449778\n",
      "validation score:  -167.980390243\n",
      "reverse-iteration 0, gradients:[[ 0.19900091 -0.06124982]]\n",
      "lr gradient: 513.508023494\n",
      "new hyperparam values: [array([ 1.39822136,  1.45951632])]\n",
      "new learning rate: 0.00258725266931\n",
      "trial 3\n",
      "iteration 0, internal loss=-422.620084152\n",
      "validation score:  -162.457041845\n",
      "reverse-iteration 0, gradients:[[-0.011793   -0.00204225]]\n",
      "lr gradient: 424.219642965\n",
      "new hyperparam values: [array([ 1.27265184,  1.50337766])]\n",
      "new learning rate: 0.00274104485255\n",
      "trial 4\n",
      "iteration 0, internal loss=-307.641954251\n",
      "validation score:  -159.842356807\n",
      "reverse-iteration 0, gradients:[[ 0.11499905 -0.07572808]]\n",
      "lr gradient: 345.135426707\n",
      "new hyperparam values: [array([ 1.37887646,  1.41246627])]\n",
      "new learning rate: 0.00281698613343\n",
      "trial 5\n",
      "iteration 0, internal loss=-365.203271097\n",
      "validation score:  -154.700697003\n",
      "reverse-iteration 0, gradients:[[-0.0185432   0.07443326]]\n",
      "lr gradient: 684.971444568\n",
      "new hyperparam values: [array([ 1.43879554,  1.55745239])]\n",
      "new learning rate: 0.00304283571939\n",
      "trial 6\n",
      "iteration 0, internal loss=-319.176902465\n",
      "validation score:  -165.362699884\n",
      "reverse-iteration 0, gradients:[[-0.10679126 -0.1101165 ]]\n",
      "lr gradient: 692.292632293\n",
      "new hyperparam values: [array([ 1.38274175,  1.41871807])]\n",
      "new learning rate: 0.00320087330146\n",
      "trial 7\n",
      "iteration 0, internal loss=-536.623966376\n",
      "validation score:  -165.991282133\n",
      "reverse-iteration 0, gradients:[[-0.0869162   0.07512501]]\n",
      "lr gradient: 539.084883672\n",
      "new hyperparam values: [array([ 1.29497814,  1.50045606])]\n",
      "new learning rate: 0.00330791653376\n",
      "trial 8\n",
      "iteration 0, internal loss=-499.701758783\n",
      "validation score:  -158.784381569\n",
      "reverse-iteration 0, gradients:[[ 0.13934302 -0.02296472]]\n",
      "lr gradient: 154.309282322\n",
      "new hyperparam values: [array([ 1.40464474,  1.28296562])]\n",
      "new learning rate: 0.00342388770752\n",
      "trial 9\n",
      "iteration 0, internal loss=-295.654580114\n",
      "validation score:  -158.104055202\n",
      "reverse-iteration 0, gradients:[[-0.04690433  0.25019498]]\n",
      "lr gradient: 248.07630452\n",
      "new hyperparam values: [array([ 1.19763977,  1.32567271])]\n",
      "new learning rate: 0.00351326962839\n",
      "trial 10\n",
      "iteration 0, internal loss=-472.869740355\n",
      "validation score:  -160.888990367\n",
      "reverse-iteration 0, gradients:[[ 0.30445333  0.15594494]]\n",
      "lr gradient: 192.245010587\n",
      "new hyperparam values: [array([ 1.65014679,  1.45982658])]\n",
      "new learning rate: 0.00358383136463\n",
      "trial 11\n",
      "iteration 0, internal loss=-635.007357656\n",
      "validation score:  -164.915580465\n",
      "reverse-iteration 0, gradients:[[-0.18512505 -0.09911022]]\n",
      "lr gradient: 401.927645972\n",
      "new hyperparam values: [array([ 1.47377028,  1.35188707])]\n",
      "new learning rate: 0.00357698604268\n",
      "trial 12\n",
      "iteration 0, internal loss=-982.414924137\n",
      "validation score:  -162.150166112\n",
      "reverse-iteration 0, gradients:[[-0.07911304  0.11480743]]\n",
      "lr gradient: 148.663418739\n",
      "new hyperparam values: [array([ 1.4224783 ,  1.52611874])]\n",
      "new learning rate: 0.00350777109901\n",
      "trial 13\n",
      "iteration 0, internal loss=-323.170743179\n",
      "validation score:  -162.93231169\n",
      "reverse-iteration 0, gradients:[[-0.01890205 -0.05874576]]\n",
      "lr gradient: 505.409380681\n",
      "new hyperparam values: [array([ 1.20515445,  1.49232446])]\n",
      "new learning rate: 0.00363435284405\n",
      "trial 14\n",
      "iteration 0, internal loss=-245.66217897\n",
      "validation score:  -162.849042968\n",
      "reverse-iteration 0, gradients:[[ 0.23182749 -0.06195452]]\n",
      "lr gradient: 240.285286948\n",
      "new hyperparam values: [array([ 1.36070537,  1.37393466])]\n",
      "new learning rate: 0.00372564914741\n",
      "trial 15\n",
      "iteration 0, internal loss=-1416.19945223\n",
      "validation score:  -158.114457812\n",
      "reverse-iteration 0, gradients:[[-0.02431564  0.09245881]]\n",
      "lr gradient: 38.6792910125\n",
      "new hyperparam values: [array([ 1.31648816,  1.43598741])]\n",
      "new learning rate: 0.00375019040259\n",
      "trial 16\n",
      "iteration 0, internal loss=-324.396392155\n",
      "validation score:  -152.480229474\n",
      "reverse-iteration 0, gradients:[[ 0.04568283  0.07441215]]\n",
      "lr gradient: 64.4790150398\n",
      "new hyperparam values: [array([ 1.24493544,  1.48419115])]\n",
      "new learning rate: 0.00379017742954\n",
      "trial 17\n",
      "iteration 0, internal loss=-772.979063967\n",
      "validation score:  -161.546573902\n",
      "reverse-iteration 0, gradients:[[ 0.10104847 -0.04407631]]\n",
      "lr gradient: 152.007982467\n",
      "new hyperparam values: [array([ 1.28835754,  1.47821413])]\n",
      "new learning rate: 0.00396776996794\n",
      "trial 18\n",
      "iteration 0, internal loss=-392.673632237\n",
      "validation score:  -171.611981695\n",
      "reverse-iteration 0, gradients:[[ 0.06989662  0.02305059]]\n",
      "lr gradient: 616.901981083\n",
      "new hyperparam values: [array([ 1.36700806,  1.70106834])]\n",
      "new learning rate: 0.00408852539426\n",
      "trial 19\n",
      "iteration 0, internal loss=-639.242747149\n",
      "validation score:  -161.728385555\n",
      "reverse-iteration 0, gradients:[[ 0.03904412 -0.16588294]]\n",
      "lr gradient: 190.485991457\n",
      "new hyperparam values: [array([ 1.43620326,  1.53601785])]\n",
      "new learning rate: 0.00425055667588\n",
      "trial 20\n",
      "iteration 0, internal loss=-632.959118465\n",
      "validation score:  -167.001173884\n",
      "reverse-iteration 0, gradients:[[-0.06535997 -0.0722901 ]]\n",
      "lr gradient: 350.782707535\n",
      "new hyperparam values: [array([ 1.34321732,  1.47933084])]\n",
      "new learning rate: 0.00443242184407\n",
      "trial 21\n",
      "iteration 0, internal loss=-359.921595657\n",
      "validation score:  -160.989622563\n",
      "reverse-iteration 0, gradients:[[ 0.0289026   0.00936829]]\n",
      "lr gradient: 169.991108646\n",
      "new hyperparam values: [array([ 1.34180076,  1.50445083])]\n",
      "new learning rate: 0.00451386254206\n",
      "trial 22\n",
      "iteration 0, internal loss=-376.601649916\n",
      "validation score:  -159.684464539\n",
      "reverse-iteration 0, gradients:[[ 0.06552313 -0.10785092]]\n",
      "lr gradient: 379.212030748\n",
      "new hyperparam values: [array([ 1.33927282,  1.32807524])]\n",
      "new learning rate: 0.00451746950322\n",
      "trial 23\n",
      "iteration 0, internal loss=-285.108580553\n",
      "validation score:  -161.627732179\n",
      "reverse-iteration 0, gradients:[[ 0.029115    0.09736097]]\n",
      "lr gradient: 145.674611757\n",
      "new hyperparam values: [array([ 1.46788017,  1.28444376])]\n",
      "new learning rate: 0.00456416806503\n",
      "trial 24\n",
      "iteration 0, internal loss=-350.853518672\n",
      "validation score:  -160.267773194\n",
      "reverse-iteration 0, gradients:[[-0.07216864  0.19890086]]\n",
      "lr gradient: 177.167114667\n",
      "new hyperparam values: [array([ 1.28723678,  1.43235374])]\n",
      "new learning rate: 0.00459538967536\n",
      "trial 25\n",
      "iteration 0, internal loss=-298.398454568\n",
      "validation score:  -155.942355049\n",
      "reverse-iteration 0, gradients:[[ 0.09197164  0.00429895]]\n",
      "lr gradient: 91.7171471752\n",
      "new hyperparam values: [array([ 1.3877624 ,  1.37066282])]\n",
      "new learning rate: 0.004617232973\n",
      "trial 26\n",
      "iteration 0, internal loss=-264.685087961\n",
      "validation score:  -159.248106751\n",
      "reverse-iteration 0, gradients:[[-0.01847587  0.0545952 ]]\n",
      "lr gradient: 179.690582\n",
      "new hyperparam values: [array([ 1.28232177,  1.19954932])]\n",
      "new learning rate: 0.0046678880147\n",
      "trial 27\n",
      "iteration 0, internal loss=-397.454426032\n",
      "validation score:  -166.267250638\n",
      "reverse-iteration 0, gradients:[[ 0.15981912  0.33799348]]\n",
      "lr gradient: -12.755661471\n",
      "new hyperparam values: [array([ 1.77807561,  1.45452075])]\n",
      "new learning rate: 0.00471205180515\n",
      "trial 28\n",
      "iteration 0, internal loss=-579.987493425\n",
      "validation score:  -155.231219302\n",
      "reverse-iteration 0, gradients:[[-0.23482548  0.0620334 ]]\n",
      "lr gradient: 171.880657818\n",
      "new hyperparam values: [array([ 1.47294967,  1.54295734])]\n",
      "new learning rate: 0.00478675388894\n",
      "trial 29\n",
      "iteration 0, internal loss=-436.638902236\n",
      "validation score:  -158.138365476\n",
      "reverse-iteration 0, gradients:[[-0.1027517  -0.08993722]]\n",
      "lr gradient: 19.928522706\n",
      "new hyperparam values: [array([ 1.43742154,  1.50800674])]\n",
      "new learning rate: 0.0049166319993\n",
      "trial 30\n",
      "iteration 0, internal loss=-425.687329391\n",
      "validation score:  -159.921781392\n",
      "reverse-iteration 0, gradients:[[-0.0980579  -0.02867351]]\n",
      "lr gradient: 52.7781700731\n",
      "new hyperparam values: [array([ 1.74137181,  1.66453736])]\n",
      "new learning rate: 0.00490144238691\n",
      "trial 31\n",
      "iteration 0, internal loss=-438.713704845\n",
      "validation score:  -154.642993315\n",
      "reverse-iteration 0, gradients:[[-0.21726806 -0.12276265]]\n",
      "lr gradient: 86.4291018012\n",
      "new hyperparam values: [array([ 1.48978086,  1.5596021 ])]\n",
      "new learning rate: 0.00495493800392\n",
      "trial 32\n",
      "iteration 0, internal loss=-414.163643963\n",
      "validation score:  -156.38874158\n",
      "reverse-iteration 0, gradients:[[-0.09804648 -0.05513147]]\n",
      "lr gradient: 140.092911182\n",
      "new hyperparam values: [array([ 1.39179843,  1.50160445])]\n",
      "new learning rate: 0.00501532701562\n",
      "trial 33\n",
      "iteration 0, internal loss=-468.28949122\n",
      "validation score:  -160.715466853\n",
      "reverse-iteration 0, gradients:[[-0.0473125  -0.07847537]]\n",
      "lr gradient: 301.440828505\n",
      "new hyperparam values: [array([ 1.32601297,  1.29240083])]\n",
      "new learning rate: 0.00496106354221\n",
      "trial 34\n",
      "iteration 0, internal loss=-506.544000385\n",
      "validation score:  -158.679382573\n",
      "reverse-iteration 0, gradients:[[ 0.0601346   0.27835448]]\n",
      "lr gradient: 263.483573964\n",
      "new hyperparam values: [array([ 1.32478722,  1.08309649])]\n",
      "new learning rate: 0.00510290526479\n",
      "trial 35\n",
      "iteration 0, internal loss=-307.656778102\n",
      "validation score:  -161.338061738\n",
      "reverse-iteration 0, gradients:[[-0.03045232  0.71908092]]\n",
      "lr gradient: 245.383381568\n",
      "new hyperparam values: [array([ 1.17924305,  1.8586684 ])]\n",
      "new learning rate: 0.00520452637344\n",
      "trial 36\n",
      "iteration 0, internal loss=-497.728383538\n",
      "validation score:  -161.189690358\n",
      "reverse-iteration 0, gradients:[[ 0.2822388  -0.20606034]]\n",
      "lr gradient: 208.212797676\n",
      "new hyperparam values: [array([ 1.45960144,  1.67610282])]\n",
      "new learning rate: 0.00526977905868\n",
      "trial 37\n",
      "iteration 0, internal loss=-391.845767749\n",
      "validation score:  -157.94937489\n",
      "reverse-iteration 0, gradients:[[-0.03436989 -0.15084734]]\n",
      "lr gradient: 164.03042685\n",
      "new hyperparam values: [array([ 1.43359272,  1.56303407])]\n",
      "new learning rate: 0.00534401461139\n",
      "trial 38\n",
      "iteration 0, internal loss=-570.809048428\n",
      "validation score:  -157.176673002\n",
      "reverse-iteration 0, gradients:[[-0.04598833 -0.0769595 ]]\n",
      "lr gradient: 123.509050009\n",
      "new hyperparam values: [array([ 1.37661726,  1.50742765])]\n",
      "new learning rate: 0.00540042088609\n",
      "trial 39\n",
      "iteration 0, internal loss=-828.495970653\n",
      "validation score:  -153.428855659\n",
      "reverse-iteration 0, gradients:[[-0.00150586 -0.09360195]]\n",
      "lr gradient: 51.4703310829\n",
      "new hyperparam values: [array([ 1.3872614 ,  1.48204569])]\n",
      "new learning rate: 0.00536203615218\n",
      "trial 40\n",
      "iteration 0, internal loss=-326.993023393\n",
      "validation score:  -157.597054521\n",
      "reverse-iteration 0, gradients:[[-0.02539537 -0.02530487]]\n",
      "lr gradient: 204.027958327\n",
      "new hyperparam values: [array([ 1.36904352,  1.30800972])]\n",
      "new learning rate: 0.00538204384542\n",
      "trial 41\n",
      "iteration 0, internal loss=-300.285126418\n",
      "validation score:  -154.72254519\n",
      "reverse-iteration 0, gradients:[[-0.01974836  0.18822878]]\n",
      "lr gradient: 133.737559658\n",
      "new hyperparam values: [array([ 1.16179057,  1.80946408])]\n",
      "new learning rate: 0.00543167712606\n",
      "trial 42\n",
      "iteration 0, internal loss=-281.54662118\n",
      "validation score:  -157.495640361\n",
      "reverse-iteration 0, gradients:[[ 0.40428653 -0.20519425]]\n",
      "lr gradient: 47.6059924628\n",
      "new hyperparam values: [array([ 1.80280249,  1.64473319])]\n",
      "new learning rate: 0.00551217562039\n",
      "trial 43\n",
      "iteration 0, internal loss=-317.999496655\n",
      "validation score:  -162.003539528\n",
      "reverse-iteration 0, gradients:[[-0.21510998 -0.13052303]]\n",
      "lr gradient: 40.3924385209\n",
      "new hyperparam values: [array([ 1.54769833,  1.47810431])]\n",
      "new learning rate: 0.00556060277994\n",
      "trial 44\n",
      "iteration 0, internal loss=-477.220627946\n",
      "validation score:  -152.07886423\n",
      "reverse-iteration 0, gradients:[[-0.16295903 -0.0261568 ]]\n",
      "lr gradient: 191.980637847\n",
      "new hyperparam values: [array([ 1.2254387 ,  1.89649024])]\n",
      "new learning rate: 0.00550232967484\n",
      "trial 45\n",
      "iteration 0, internal loss=-282.15183749\n",
      "validation score:  -164.429157484\n",
      "reverse-iteration 0, gradients:[[ 0.21856528 -0.22883332]]\n",
      "lr gradient: 210.538768761\n",
      "new hyperparam values: [array([ 1.40252535,  1.76025195])]\n",
      "new learning rate: 0.00559646160821\n",
      "trial 46\n",
      "iteration 0, internal loss=-595.115062106\n",
      "validation score:  -158.916717376\n",
      "reverse-iteration 0, gradients:[[-0.07542055 -0.18580898]]\n",
      "lr gradient: -32.1093873008\n",
      "new hyperparam values: [array([ 1.137792  ,  1.57597428])]\n",
      "new learning rate: 0.00563600847373\n",
      "trial 47\n",
      "iteration 0, internal loss=-492.10083638\n",
      "validation score:  -160.364456529\n",
      "reverse-iteration 0, gradients:[[ 0.44608635 -0.07239178]]\n",
      "lr gradient: 343.852631014\n",
      "new hyperparam values: [array([ 1.27677763,  1.53153753])]\n",
      "new learning rate: 0.00584547981304\n",
      "trial 48\n",
      "iteration 0, internal loss=-953.240018565\n",
      "validation score:  -154.037050754\n",
      "reverse-iteration 0, gradients:[[ 0.18003943 -0.07979139]]\n",
      "lr gradient: 99.0770240482\n",
      "new hyperparam values: [array([ 1.57843716,  1.43886035])]\n",
      "new learning rate: 0.00593634433852\n",
      "trial 49\n",
      "iteration 0, internal loss=-565.718374356\n",
      "validation score:  -153.483969523\n",
      "reverse-iteration 0, gradients:[[-0.1595713   0.03459893]]\n",
      "lr gradient: 186.034839097\n",
      "new hyperparam values: [array([ 1.42698031,  1.49229648])]\n",
      "new learning rate: 0.00591494843672\n"
     ]
    },
    {
     "data": {
      "text/plain": [
       "<structures.HyperparameterOptimization instance at 0x7f361bd14878>"
      ]
     },
     "execution_count": 8,
     "metadata": {},
     "output_type": "execute_result"
    }
   ],
   "source": [
    "\n",
    "drmad_optimize(partial(simple_tc, batch_size=100), model_build, optimizer, 50, 75, 10,  X_train, Y_train, \n",
    "    [alphas], lr,  lr=1.0,  lr_for_learning_rate=10**(-8), verbose=10)"
   ]
  },
  {
   "cell_type": "code",
   "execution_count": 21,
   "metadata": {
    "collapsed": false
   },
   "outputs": [
    {
     "data": {
      "image/png": "[encoded data removed]",
      "text/plain": [
       "<matplotlib.figure.Figure at 0x7fb564a9e3d0>"
      ]
     },
     "metadata": {},
     "output_type": "display_data"
    }
   ],
   "source": [
    "for b in bests:\n",
    "    history = []\n",
    "    for i in xrange(0, len(b.history)):\n",
    "        \n",
    "        best_value = max([h[1] for h in b.history[:i+1]])\n",
    "        \n",
    "        \n",
    "        history.append(best_value)\n",
    "    plt.plot(history)\n",
    "plt.ylim((-200, -100))\n",
    "plt.xlim((1,50))\n",
    "import cPickle\n",
    "with open('results_var_mad.pckl','wb') as out:\n",
    "    cPickle.dump(bests, out)"
   ]
  },
  {
   "cell_type": "code",
   "execution_count": 17,
   "metadata": {
    "collapsed": false
   },
   "outputs": [
    {
     "data": {
      "text/plain": [
       "(2, 50)"
      ]
     },
     "execution_count": 17,
     "metadata": {},
     "output_type": "execute_result"
    },
    {
     "data": {
      "image/png": "[encoded data removed]",
      "text/plain": [
       "<matplotlib.figure.Figure at 0x7fb55cf101d0>"
      ]
     },
     "metadata": {},
     "output_type": "display_data"
    }
   ],
   "source": []
  },
  {
   "cell_type": "code",
   "execution_count": 18,
   "metadata": {
    "collapsed": false
   },
   "outputs": [
    {
     "name": "stdout",
     "output_type": "stream",
     "text": [
      "[array([  30.00214416,  999.94999882]), array(0.0033518796166409903)]\n",
      "4.35820653185\n",
      "[array([ 999.94999882,    1.1647706 ]), array(0.010000027997209353)]\n",
      "4.48466193665\n",
      "[array([ 316.06961476,  316.06961513]), array(0.005094404508539035)]\n",
      "4.40680896789\n",
      "[array([   1.15177802,  999.94999883]), array(0.005087284843156676)]\n",
      "4.40665254156\n",
      "[array([ 30.0024417 ,  30.00283923]), array(0.010000035397256213)]\n",
      "4.4846620314\n",
      "[array([ 2.00443554,  2.13604096]), array(0.0033142158422259107)]\n",
      "4.35682504625\n",
      "[array([ 99.49880455,  81.53195977]), array(0.0033237007642474463)]\n",
      "4.35717485112\n",
      "[array([ 99.49880478,  30.00251847]), array(0.0033539568035129796)]\n",
      "4.3582821384\n",
      "[array([  30.00240418,  999.94999883]), array(0.0050944137447119005)]\n",
      "4.40680917066\n",
      "[array([ 99.4988046 ,   1.04185849]), array(0.0033009063801419736)]\n",
      "4.35633200384\n",
      "[array([ 30.00239708,   1.13347616]), array(0.005092368063805293)]\n",
      "4.40676424967\n",
      "[array([ 99.4988047 ,  97.35454862]), array(0.00332509880288015)]\n",
      "4.35722630185\n",
      "[array([   1.0827018 ,  316.06961512]), array(0.005086553652980042)]\n",
      "4.40663646294\n",
      "[array([ 99.49880546,   0.88638347]), array(0.003345729962566123)]\n",
      "4.35798233868\n",
      "[array([  1.07865116,  99.49882478]), array(0.005086172230503567)]\n",
      "4.40662807458\n",
      "[array([ 99.49881349,  30.00280692]), array(0.005092366470624614)]\n",
      "4.40676421467\n",
      "[array([ 30.00240693,  99.49882517]), array(0.005088142295431362)]\n",
      "4.40667139341\n",
      "[array([  0.97251293,  90.21541158]), array(0.0033096787233764737)]\n",
      "4.35665725901\n",
      "[array([  2.00296947,  52.61824108]), array(0.003343093091178807)]\n",
      "4.35788604539\n",
      "[array([  1.05335134,  99.49881688]), array(0.003336753367140994)]\n",
      "4.35765412961\n",
      "[array([  99.49880569,  999.94999882]), array(0.003340518676219904)]\n",
      "4.35779193827\n",
      "[array([  99.49880555,  316.06961484]), array(0.0033569874814820717)]\n",
      "4.35839234236\n",
      "[array([ 99.49880507,  30.00247708]), array(0.003327478594857291)]\n",
      "4.35731381891\n",
      "[array([ 999.94999882,  316.06961516]), array(0.010000051550620085)]\n",
      "4.48466223822\n",
      "[array([ 135.54772876,   99.49881526]), array(0.0033282403813077823)]\n",
      "4.35734181659\n",
      "[array([  2.07140336,  30.00280727]), array(0.010000036431592014)]\n",
      "4.48466204464\n",
      "[array([   1.05105243,  316.06961481]), array(0.003304718514432388)]\n",
      "4.35647348483\n",
      "[array([ 316.06961452,   99.49881598]), array(0.003333694207256172)]\n",
      "4.3575420178\n",
      "[array([  0.9212078 ,  30.00284928]), array(0.010000041780985706)]\n",
      "4.48466211313\n",
      "[array([ 999.94999882,    2.20882078]), array(0.010000047961894859)]\n",
      "4.48466219227\n",
      "[array([ 99.49881311,   2.2076753 ]), array(0.005093651721232346)]\n",
      "4.40679243975\n",
      "[array([ 999.94999881,   86.62515811]), array(0.0033150750404985154)]\n",
      "4.35685678683\n",
      "[array([ 316.06961478,    2.21284365]), array(0.010000054358292593)]\n",
      "4.48466227416\n",
      "[array([   0.83568312,  316.06961514]), array(0.005089590452003408)]\n",
      "4.40670322448\n",
      "[array([ 2.07865026,  2.21355021]), array(0.005093415765373207)]\n",
      "4.40678725856\n",
      "[array([ 0.81074238,  2.1342177 ]), array(0.003317587337467418)]\n",
      "4.35694953537\n",
      "[array([ 999.94999882,    1.0492774 ]), array(0.010000047481615018)]\n",
      "4.48466218612\n",
      "[array([   1.02749935,  999.94999882]), array(0.003321865160181344)]\n",
      "4.3571072546\n",
      "[array([ 2.00327305,  1.03088392]), array(0.003331864719099802)]\n",
      "4.35747490739\n",
      "[array([ 99.49880529,  99.49881577]), array(0.0033450146420179803)]\n",
      "4.35795622628\n",
      "[array([  0.81837007,  30.00248294]), array(0.0033204830620526186)]\n",
      "4.35705632668\n",
      "[array([  30.00244847,  999.94999883]), array(0.010000040840155069)]\n",
      "4.48466210109\n",
      "[array([ 999.94999882,  316.06961514]), array(0.005090539120887029)]\n",
      "4.40672407121\n",
      "[array([  1.04271675,  99.49882615]), array(0.010000047548968025)]\n",
      "4.48466218698\n",
      "[array([ 30.00243304,  30.00285474]), array(0.010000029010648134)]\n",
      "4.48466194963\n",
      "[array([  0.82602185,  99.49882492]), array(0.005089271497023144)]\n",
      "4.40669621458\n",
      "[array([  0.88911784,  99.49882492]), array(0.005090961015473853)]\n",
      "4.40673334085\n",
      "[array([ 30.0021433 ,  30.00250767]), array(0.00335348343506739)]\n",
      "4.3582649138\n",
      "[array([  2.01234989,  99.49881677]), array(0.003375271723784395)]\n",
      "4.35905449892\n",
      "[array([ 30.00213419,   2.13925431]), array(0.0033438833542379486)]\n",
      "4.35791491451\n",
      "4.39926344617\n",
      "0.0499197812433\n"
     ]
    }
   ],
   "source": [
    "import theano.tensor as T\n",
    "X = T.matrix()\n",
    "result = []\n",
    "for b in bests:\n",
    "    print b.best_values\n",
    "    alphas.set_value(b.best_values[0])\n",
    "    lr.set_value(b.best_values[1])\n",
    "    training_procedure = cv_tc( build_feedforward, optimizer, X_train, Y_train, validation_part=0.0, batch_size=100 )\n",
    "    \n",
    "    for i in xrange(10):\n",
    "        training_procedure.do_train()\n",
    "    \n",
    "    for m in training_procedure.models:\n",
    "        predict = m.predict_var(X)\n",
    "        predict = theano.function([X], predict)\n",
    "    \n",
    "        result.append(np.mean((predict(X_test)-Y_test)**2))\n",
    "        print result[-1]\n",
    "    \"\"\"\n",
    "    bests.append( random_optimize(partial(cv_tc, k =4,  batch_size=75), model_build, optimizer, 50, 10, X_train, Y_train,  [alphas, lr] ,\n",
    "     [alpha_ranges, lr_ranges], verbose=100))\n",
    "    X = T.matrix()    \n",
    "    model = model_build(dataset_size=100)\n",
    "    \n",
    "    \n",
    "    \"\"\"\n",
    "print np.mean(result)\n",
    "print np.std(result)"
   ]
  },
  {
   "cell_type": "code",
   "execution_count": 22,
   "metadata": {
    "collapsed": false
   },
   "outputs": [
    {
     "data": {
      "image/png": "[encoded data removed]",
      "text/plain": [
       "<matplotlib.figure.Figure at 0x7fb564a94a50>"
      ]
     },
     "metadata": {},
     "output_type": "display_data"
    }
   ],
   "source": [
    "plt.matshow(matrix)\n",
    "for i in bests:\n",
    "    i = i.best_values[0]**2\n",
    "    i = np.log10(i)\n",
    "    \n",
    "    plt.scatter(i[0]+np.random.randn(1)*0.1,i[1]+np.random.randn(1)*0.1, c='w', alpha=1.0)"
   ]
  },
  {
   "cell_type": "code",
   "execution_count": 6,
   "metadata": {
    "collapsed": false
   },
   "outputs": [
    {
     "ename": "TypeError",
     "evalue": "('Bad input argument to theano function with name \"../../pyfos/hyperoptimizers/greed_optimize.py:53\"  at index 2(0-based)', 'Wrong number of dimensions: expected 2, got 1 with shape (10,).')",
     "output_type": "error",
     "traceback": [
      "\u001b[1;31m---------------------------------------------------------------------------\u001b[0m",
      "\u001b[1;31mTypeError\u001b[0m                                 Traceback (most recent call last)",
      "\u001b[1;32m<ipython-input-6-96d5836345f3>\u001b[0m in \u001b[0;36m<module>\u001b[1;34m()\u001b[0m\n\u001b[1;32m----> 1\u001b[1;33m greed_optimize(partial(cv_tc, k =4,  batch_size=10), model_build, optimizer, 1000, X, Y,  [alphas, lr] ,\n\u001b[0m\u001b[0;32m      2\u001b[0m     )\n",
      "\u001b[1;32m/home/legin/svn074/Bakhteev2017Hypergrad/code/pyfos/hyperoptimizers/greed_optimize.py\u001b[0m in \u001b[0;36mgreed_optimize\u001b[1;34m(trainig_criterion, model_constructor, param_optimizer, train_iteration_num, X_data, Y_data, hyperparams, lr, verbose)\u001b[0m\n\u001b[0;32m     53\u001b[0m     \u001b[0mhypertrain\u001b[0m \u001b[1;33m=\u001b[0m \u001b[0mtheano\u001b[0m\u001b[1;33m.\u001b[0m\u001b[0mfunction\u001b[0m\u001b[1;33m(\u001b[0m\u001b[0mindices\u001b[0m\u001b[1;33m+\u001b[0m\u001b[0mindices2\u001b[0m\u001b[1;33m,\u001b[0m \u001b[0mvalid_cost\u001b[0m\u001b[1;33m,\u001b[0m \u001b[0mupdates\u001b[0m\u001b[1;33m=\u001b[0m\u001b[0mupdates\u001b[0m\u001b[1;33m,\u001b[0m \u001b[0mgivens\u001b[0m\u001b[1;33m=\u001b[0m\u001b[0mgivens\u001b[0m\u001b[1;33m)\u001b[0m\u001b[1;33m\u001b[0m\u001b[0m\n\u001b[0;32m     54\u001b[0m     \u001b[1;32mfor\u001b[0m \u001b[0mi\u001b[0m \u001b[1;32min\u001b[0m \u001b[0mxrange\u001b[0m\u001b[1;33m(\u001b[0m\u001b[0mtrain_iteration_num\u001b[0m\u001b[1;33m)\u001b[0m\u001b[1;33m:\u001b[0m\u001b[1;33m\u001b[0m\u001b[0m\n\u001b[1;32m---> 55\u001b[1;33m         \u001b[0mres\u001b[0m\u001b[1;33m,\u001b[0m \u001b[0mcall_res\u001b[0m \u001b[1;33m=\u001b[0m \u001b[0mtraining_procedure\u001b[0m\u001b[1;33m.\u001b[0m\u001b[0mdo_train\u001b[0m\u001b[1;33m(\u001b[0m\u001b[0mcallback\u001b[0m\u001b[1;33m=\u001b[0m\u001b[1;32mlambda\u001b[0m \u001b[0mindices\u001b[0m\u001b[1;33m:\u001b[0m\u001b[0mhypertrain\u001b[0m\u001b[1;33m(\u001b[0m\u001b[1;33m*\u001b[0m\u001b[1;33m(\u001b[0m\u001b[0mindices\u001b[0m \u001b[1;33m+\u001b[0m \u001b[0mtraining_procedure\u001b[0m\u001b[1;33m.\u001b[0m\u001b[0mvalidation_indices\u001b[0m\u001b[1;33m)\u001b[0m\u001b[1;33m)\u001b[0m\u001b[1;33m)\u001b[0m\u001b[1;33m\u001b[0m\u001b[0m\n\u001b[0m\u001b[0;32m     56\u001b[0m \u001b[1;33m\u001b[0m\u001b[0m\n\u001b[0;32m     57\u001b[0m         \u001b[1;32mif\u001b[0m \u001b[0mverbose\u001b[0m \u001b[1;32mand\u001b[0m \u001b[0mi\u001b[0m\u001b[1;33m%\u001b[0m\u001b[1;36m1000\u001b[0m\u001b[1;33m==\u001b[0m\u001b[1;36m0\u001b[0m\u001b[1;33m:\u001b[0m\u001b[1;33m\u001b[0m\u001b[0m\n",
      "\u001b[1;32m/home/legin/svn074/Bakhteev2017Hypergrad/code/pyfos/tc/cv.pyc\u001b[0m in \u001b[0;36mdo_train\u001b[1;34m(callback)\u001b[0m\n\u001b[0;32m     46\u001b[0m             \u001b[0mindices\u001b[0m\u001b[1;33m.\u001b[0m\u001b[0mappend\u001b[0m\u001b[1;33m(\u001b[0m\u001b[0msub_indices\u001b[0m\u001b[1;33m)\u001b[0m\u001b[1;33m\u001b[0m\u001b[0m\n\u001b[0;32m     47\u001b[0m         \u001b[1;32mif\u001b[0m \u001b[0mcallback\u001b[0m\u001b[1;33m:\u001b[0m\u001b[1;33m\u001b[0m\u001b[0m\n\u001b[1;32m---> 48\u001b[1;33m             \u001b[0mcall_res\u001b[0m \u001b[1;33m=\u001b[0m \u001b[0mcallback\u001b[0m\u001b[1;33m(\u001b[0m\u001b[0mindices\u001b[0m\u001b[1;33m)\u001b[0m\u001b[1;33m\u001b[0m\u001b[0m\n\u001b[0m\u001b[0;32m     49\u001b[0m         \u001b[1;32melse\u001b[0m\u001b[1;33m:\u001b[0m\u001b[1;33m\u001b[0m\u001b[0m\n\u001b[0;32m     50\u001b[0m             \u001b[0mcall_res\u001b[0m \u001b[1;33m=\u001b[0m \u001b[0mNone\u001b[0m\u001b[1;33m\u001b[0m\u001b[0m\n",
      "\u001b[1;32m/home/legin/svn074/Bakhteev2017Hypergrad/code/pyfos/hyperoptimizers/greed_optimize.py\u001b[0m in \u001b[0;36m<lambda>\u001b[1;34m(indices)\u001b[0m\n\u001b[0;32m     53\u001b[0m     \u001b[0mhypertrain\u001b[0m \u001b[1;33m=\u001b[0m \u001b[0mtheano\u001b[0m\u001b[1;33m.\u001b[0m\u001b[0mfunction\u001b[0m\u001b[1;33m(\u001b[0m\u001b[0mindices\u001b[0m\u001b[1;33m+\u001b[0m\u001b[0mindices2\u001b[0m\u001b[1;33m,\u001b[0m \u001b[0mvalid_cost\u001b[0m\u001b[1;33m,\u001b[0m \u001b[0mupdates\u001b[0m\u001b[1;33m=\u001b[0m\u001b[0mupdates\u001b[0m\u001b[1;33m,\u001b[0m \u001b[0mgivens\u001b[0m\u001b[1;33m=\u001b[0m\u001b[0mgivens\u001b[0m\u001b[1;33m)\u001b[0m\u001b[1;33m\u001b[0m\u001b[0m\n\u001b[0;32m     54\u001b[0m     \u001b[1;32mfor\u001b[0m \u001b[0mi\u001b[0m \u001b[1;32min\u001b[0m \u001b[0mxrange\u001b[0m\u001b[1;33m(\u001b[0m\u001b[0mtrain_iteration_num\u001b[0m\u001b[1;33m)\u001b[0m\u001b[1;33m:\u001b[0m\u001b[1;33m\u001b[0m\u001b[0m\n\u001b[1;32m---> 55\u001b[1;33m         \u001b[0mres\u001b[0m\u001b[1;33m,\u001b[0m \u001b[0mcall_res\u001b[0m \u001b[1;33m=\u001b[0m \u001b[0mtraining_procedure\u001b[0m\u001b[1;33m.\u001b[0m\u001b[0mdo_train\u001b[0m\u001b[1;33m(\u001b[0m\u001b[0mcallback\u001b[0m\u001b[1;33m=\u001b[0m\u001b[1;32mlambda\u001b[0m \u001b[0mindices\u001b[0m\u001b[1;33m:\u001b[0m\u001b[0mhypertrain\u001b[0m\u001b[1;33m(\u001b[0m\u001b[1;33m*\u001b[0m\u001b[1;33m(\u001b[0m\u001b[0mindices\u001b[0m \u001b[1;33m+\u001b[0m \u001b[0mtraining_procedure\u001b[0m\u001b[1;33m.\u001b[0m\u001b[0mvalidation_indices\u001b[0m\u001b[1;33m)\u001b[0m\u001b[1;33m)\u001b[0m\u001b[1;33m)\u001b[0m\u001b[1;33m\u001b[0m\u001b[0m\n\u001b[0m\u001b[0;32m     56\u001b[0m \u001b[1;33m\u001b[0m\u001b[0m\n\u001b[0;32m     57\u001b[0m         \u001b[1;32mif\u001b[0m \u001b[0mverbose\u001b[0m \u001b[1;32mand\u001b[0m \u001b[0mi\u001b[0m\u001b[1;33m%\u001b[0m\u001b[1;36m1000\u001b[0m\u001b[1;33m==\u001b[0m\u001b[1;36m0\u001b[0m\u001b[1;33m:\u001b[0m\u001b[1;33m\u001b[0m\u001b[0m\n",
      "\u001b[1;32m/usr/local/lib/python2.7/dist-packages/Theano-0.8.2-py2.7.egg/theano/compile/function_module.pyc\u001b[0m in \u001b[0;36m__call__\u001b[1;34m(self, *args, **kwargs)\u001b[0m\n\u001b[0;32m    784\u001b[0m                         s.storage[0] = s.type.filter(\n\u001b[0;32m    785\u001b[0m                             \u001b[0marg\u001b[0m\u001b[1;33m,\u001b[0m \u001b[0mstrict\u001b[0m\u001b[1;33m=\u001b[0m\u001b[0ms\u001b[0m\u001b[1;33m.\u001b[0m\u001b[0mstrict\u001b[0m\u001b[1;33m,\u001b[0m\u001b[1;33m\u001b[0m\u001b[0m\n\u001b[1;32m--> 786\u001b[1;33m                             allow_downcast=s.allow_downcast)\n\u001b[0m\u001b[0;32m    787\u001b[0m \u001b[1;33m\u001b[0m\u001b[0m\n\u001b[0;32m    788\u001b[0m                     \u001b[1;32mexcept\u001b[0m \u001b[0mException\u001b[0m \u001b[1;32mas\u001b[0m \u001b[0me\u001b[0m\u001b[1;33m:\u001b[0m\u001b[1;33m\u001b[0m\u001b[0m\n",
      "\u001b[1;32m/usr/local/lib/python2.7/dist-packages/Theano-0.8.2-py2.7.egg/theano/tensor/type.pyc\u001b[0m in \u001b[0;36mfilter\u001b[1;34m(self, data, strict, allow_downcast)\u001b[0m\n\u001b[0;32m    175\u001b[0m             raise TypeError(\"Wrong number of dimensions: expected %s,\"\n\u001b[0;32m    176\u001b[0m                             \" got %s with shape %s.\" % (self.ndim, data.ndim,\n\u001b[1;32m--> 177\u001b[1;33m                                                         data.shape))\n\u001b[0m\u001b[0;32m    178\u001b[0m         \u001b[1;32mif\u001b[0m \u001b[1;32mnot\u001b[0m \u001b[0mdata\u001b[0m\u001b[1;33m.\u001b[0m\u001b[0mflags\u001b[0m\u001b[1;33m.\u001b[0m\u001b[0maligned\u001b[0m\u001b[1;33m:\u001b[0m\u001b[1;33m\u001b[0m\u001b[0m\n\u001b[0;32m    179\u001b[0m             \u001b[1;32mtry\u001b[0m\u001b[1;33m:\u001b[0m\u001b[1;33m\u001b[0m\u001b[0m\n",
      "\u001b[1;31mTypeError\u001b[0m: ('Bad input argument to theano function with name \"../../pyfos/hyperoptimizers/greed_optimize.py:53\"  at index 2(0-based)', 'Wrong number of dimensions: expected 2, got 1 with shape (10,).')"
     ]
    }
   ],
   "source": []
  },
  {
   "cell_type": "code",
   "execution_count": 6,
   "metadata": {
    "collapsed": false
   },
   "outputs": [
    {
     "ename": "UnboundLocalError",
     "evalue": "local variable 'X2' referenced before assignment",
     "output_type": "error",
     "traceback": [
      "\u001b[1;31m---------------------------------------------------------------------------\u001b[0m",
      "\u001b[1;31mUnboundLocalError\u001b[0m                         Traceback (most recent call last)",
      "\u001b[1;32m<ipython-input-6-96d5836345f3>\u001b[0m in \u001b[0;36m<module>\u001b[1;34m()\u001b[0m\n\u001b[1;32m----> 1\u001b[1;33m greed_optimize(partial(cv_tc, k =4,  batch_size=10), model_build, optimizer, 1000, X, Y,  [alphas, lr] ,\n\u001b[0m\u001b[0;32m      2\u001b[0m     )\n",
      "\u001b[1;32m/home/legin/svn074/Bakhteev2017Hypergrad/code/pyfos/hyperoptimizers/greed_optimize.py\u001b[0m in \u001b[0;36mgreed_optimize\u001b[1;34m(trainig_criterion, model_constructor, param_optimizer, train_iteration_num, X_data, Y_data, hyperparams, lr, verbose)\u001b[0m\n\u001b[0;32m     19\u001b[0m     \u001b[0mcosts\u001b[0m \u001b[1;33m=\u001b[0m \u001b[1;33m[\u001b[0m\u001b[1;33m]\u001b[0m\u001b[1;33m\u001b[0m\u001b[0m\n\u001b[0;32m     20\u001b[0m     \u001b[0mgivens\u001b[0m \u001b[1;33m=\u001b[0m \u001b[1;33m[\u001b[0m\u001b[1;33m]\u001b[0m\u001b[1;33m\u001b[0m\u001b[0m\n\u001b[1;32m---> 21\u001b[1;33m     \u001b[1;32mfor\u001b[0m \u001b[0mX\u001b[0m\u001b[1;33m,\u001b[0m\u001b[0mY\u001b[0m\u001b[1;33m,\u001b[0m \u001b[0mindex\u001b[0m\u001b[1;33m,\u001b[0m \u001b[0mX2\u001b[0m\u001b[1;33m,\u001b[0m \u001b[0mY2\u001b[0m\u001b[1;33m,\u001b[0m \u001b[0mindex2\u001b[0m\u001b[1;33m,\u001b[0m \u001b[0mmodel\u001b[0m \u001b[1;32min\u001b[0m \u001b[0mzip\u001b[0m\u001b[1;33m(\u001b[0m\u001b[0mXs\u001b[0m\u001b[1;33m,\u001b[0m \u001b[0mYs\u001b[0m\u001b[1;33m,\u001b[0m \u001b[0mindices\u001b[0m\u001b[1;33m,\u001b[0m \u001b[0mX2\u001b[0m\u001b[1;33m,\u001b[0m \u001b[0mY2\u001b[0m\u001b[1;33m,\u001b[0m \u001b[0mindices2\u001b[0m\u001b[1;33m,\u001b[0m \u001b[0mmodels\u001b[0m \u001b[1;33m)\u001b[0m\u001b[1;33m:\u001b[0m\u001b[1;33m\u001b[0m\u001b[0m\n\u001b[0m\u001b[0;32m     22\u001b[0m         \u001b[0mtrain_cost\u001b[0m \u001b[1;33m=\u001b[0m \u001b[0mmodel\u001b[0m\u001b[1;33m.\u001b[0m\u001b[0mcost\u001b[0m\u001b[1;33m(\u001b[0m\u001b[0mX\u001b[0m\u001b[1;33m,\u001b[0m \u001b[0mY\u001b[0m\u001b[1;33m)\u001b[0m\u001b[1;33m\u001b[0m\u001b[0m\n\u001b[0;32m     23\u001b[0m         \u001b[0mupdates\u001b[0m \u001b[1;33m=\u001b[0m \u001b[0mparam_optimizer\u001b[0m\u001b[1;33m(\u001b[0m\u001b[1;33m-\u001b[0m\u001b[0mcost\u001b[0m\u001b[1;33m,\u001b[0m \u001b[0mmodel\u001b[0m\u001b[1;33m.\u001b[0m\u001b[0mparams\u001b[0m\u001b[1;33m)\u001b[0m\u001b[1;33m\u001b[0m\u001b[0m\n",
      "\u001b[1;31mUnboundLocalError\u001b[0m: local variable 'X2' referenced before assignment"
     ]
    }
   ],
   "source": []
  },
  {
   "cell_type": "code",
   "execution_count": 10,
   "metadata": {
    "collapsed": false
   },
   "outputs": [
    {
     "data": {
      "text/plain": [
       "[([array([  31.6227766 ,  316.22776602]), 0.001], array(-127.64285224474986)),\n",
       " ([array([ 10.        ,   3.16227766]), 0.01], array(-162.5087255392545)),\n",
       " ([array([ 31.6227766 ,   3.16227766]), 0.01], array(-2.7627426873481633e+42)),\n",
       " ([array([  10.,  100.]), 0.005], array(-124.3719052719263)),\n",
       " ([array([  3.16227766,  31.6227766 ]), 0.01], array(-1.2198974168241432e+41)),\n",
       " ([array([ 316.22776602,    1.        ]), 0.001], array(-122.78697142872564)),\n",
       " ([array([ 1.,  1.]), 0.01], array(-2.048288202990528e+45)),\n",
       " ([array([ 316.22776602,   10.        ]), 0.02], array(nan)),\n",
       " ([array([   1.,  100.]), 0.005], array(-127.03124347465777)),\n",
       " ([array([  3.16227766,  31.6227766 ]), 0.01], array(-3.879875247817619e+79))]"
      ]
     },
     "execution_count": 10,
     "metadata": {},
     "output_type": "execute_result"
    }
   ],
   "source": []
  },
  {
   "cell_type": "code",
   "execution_count": 11,
   "metadata": {
    "collapsed": false
   },
   "outputs": [
    {
     "name": "stdout",
     "output_type": "stream",
     "text": [
      "[  1.00000000e+05   1.00000000e+00]\n",
      "[ 100.  100.]\n",
      "[ 100.  100.]\n",
      "[   1.  100.]\n",
      "[  1.  10.]\n"
     ]
    }
   ],
   "source": [
    "for i in bests:\n",
    "    print np.array(i.best_values[0])**2"
   ]
  },
  {
   "cell_type": "code",
   "execution_count": 12,
   "metadata": {
    "collapsed": false
   },
   "outputs": [
    {
     "data": {
      "image/png": "[encoded data removed]",
      "text/plain": [
       "<matplotlib.figure.Figure at 0x7f47241e5410>"
      ]
     },
     "metadata": {},
     "output_type": "display_data"
    }
   ],
   "source": [
    "plt.matshow(matrix)\n",
    "for i in bests:\n",
    "    i = i.best_values[0]**2\n",
    "    i = np.log10(i)\n",
    "    \n",
    "    plt.scatter(i[0],i[1], c='w')"
   ]
  }
 ],
 "metadata": {
  "kernelspec": {
   "display_name": "Python 2",
   "language": "python",
   "name": "python2"
  },
  "language_info": {
   "codemirror_mode": {
    "name": "ipython",
    "version": 2
   },
   "file_extension": ".py",
   "mimetype": "text/x-python",
   "name": "python",
   "nbconvert_exporter": "python",
   "pygments_lexer": "ipython2",
   "version": "2.7.6"
  }
 },
 "nbformat": 4,
 "nbformat_minor": 0
}
