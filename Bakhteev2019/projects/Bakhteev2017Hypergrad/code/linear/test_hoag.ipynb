{
 "cells": [
  {
   "cell_type": "code",
   "execution_count": 1,
   "metadata": {
    "collapsed": false
   },
   "outputs": [],
   "source": [
    "import numpy as np\n",
    "import sys\n",
    "sys.path.append('../../')\n",
    "sys.path.append('../../pyfos/')\n",
    "from pyfos.models.feedforward import build_feedforward\n",
    "from pyfos.generic.optimizer import gd_optimizer\n",
    "from pyfos.generic.regularizers import gaus_prior\n",
    "from functools import partial \n",
    "from pyfos.tc.simple import  simple_tc\n",
    "from pyfos.tc.cv import  cv_tc\n",
    "from pyfos.hyperoptimizers.hoag_optimize import hoag_optimize\n",
    "import theano\n",
    "%matplotlib inline\n",
    "import matplotlib.pylab as plt\n",
    "import random"
   ]
  },
  {
   "cell_type": "code",
   "execution_count": 2,
   "metadata": {
    "collapsed": false
   },
   "outputs": [],
   "source": [
    "matrix = np.load('../../../data/matrix.npy')\n",
    "X, Y = np.load('../../../data/linearx.npy'), np.load('../../../data/lineary.npy')\n",
    "X_train = X[:100]\n",
    "Y_train = Y[:100]\n",
    "X_test = X[100:]\n",
    "Y_test = Y[100:]\n",
    "lr = theano.shared(10**(-3))\n",
    "alphas = theano.shared(np.array([1.0, 1.0]))\n",
    "\n",
    "optimizer = partial(gd_optimizer, learning_rate=lr)\n",
    "model_build = partial(build_feedforward, structure = [2,1], nonlinearity=lambda x:x, log_alphas=alphas, bias=False)\n",
    "\n"
   ]
  },
  {
   "cell_type": "code",
   "execution_count": 3,
   "metadata": {
    "collapsed": false
   },
   "outputs": [
    {
     "name": "stdout",
     "output_type": "stream",
     "text": [
      "[ 7.81062019  6.95761614]\n"
     ]
    }
   ],
   "source": [
    "def choicer():\n",
    "    a1 = np.random.uniform(low=0.0, high=10.0)\n",
    "    a2 = np.random.uniform(low=0.0, high=10.0)\n",
    "    a1 = np.sqrt(10**(a1))\n",
    "    a2 = np.sqrt(10**(a2))\n",
    "    return np.log([a1,a2])\n",
    "print choicer()    "
   ]
  },
  {
   "cell_type": "code",
   "execution_count": null,
   "metadata": {
    "collapsed": false
   },
   "outputs": [],
   "source": []
  },
  {
   "cell_type": "code",
   "execution_count": 4,
   "metadata": {
    "collapsed": false
   },
   "outputs": [
    {
     "name": "stdout",
     "output_type": "stream",
     "text": [
      "calbirate: alpha\n",
      "[array([ 0.,  0.]), 0.01]\n",
      "trial  0\n",
      "iteration 0, internal loss=-1188.69425148\n",
      "validation score:  -153.982766169\n",
      "internal optimization\n",
      "-1 0.000197218547521\n",
      "0.991966162405 0.000195634125739\n",
      "hypergrads [[ -2.85882683 -23.34521375]]\n",
      "trial  1\n",
      "iteration 0, internal loss=-1201.79627178\n",
      "validation score:  -152.89769928\n",
      "internal optimization\n",
      "-1 0.000301437831485\n",
      "0.992221702861 0.000299093158462\n",
      "hypergrads [[ 0.77109732  1.        ]]\n",
      "trial  2\n",
      "iteration 0, internal loss=-1200.91072312\n",
      "validation score:  -152.145071749\n",
      "internal optimization\n",
      "-1 0.000289557900018\n",
      "0.992205149103 0.000287300839361\n",
      "hypergrads [[ 0.50612353  1.        ]]\n",
      "trial  3\n",
      "iteration 0, internal loss=-1200.15766135\n",
      "validation score:  -151.554558349\n",
      "internal optimization\n",
      "-1 0.000276519473626\n",
      "0.992184722481 0.0002743583972\n",
      "hypergrads [[ 0.18284707  0.99999999]]\n",
      "trial  4\n",
      "iteration 0, internal loss=-1199.56623783\n",
      "validation score:  -151.045085879\n",
      "internal optimization\n",
      "-1 0.000268024629828\n",
      "0.992174651361 0.000265927243656\n",
      "hypergrads [[ 0.02017747  0.99999996]]\n",
      "trial  5\n",
      "iteration 0, internal loss=-1199.05614911\n",
      "validation score:  -150.544985763\n",
      "internal optimization\n",
      "-1 0.000263343222725\n",
      "0.992173873512 0.000261282265354\n",
      "hypergrads [[  3.62321642e-04   9.99999901e-01]]\n",
      "trial  6\n",
      "iteration 0, internal loss=-1198.555968\n",
      "validation score:  -150.044985933\n",
      "internal optimization\n",
      "-1 0.000259228450466\n",
      "0.992174362645 0.000257199822621\n",
      "hypergrads [[ -9.48657141e-08   9.99999730e-01]]\n",
      "trial  7\n",
      "iteration 0, internal loss=-1198.05596818\n",
      "validation score:  -149.544986299\n",
      "internal optimization\n",
      "-1 0.000255187137798\n",
      "0.992174874225 0.000253190266348\n",
      "hypergrads [[ -3.02290890e-06   9.99999267e-01]]\n",
      "trial  8\n",
      "iteration 0, internal loss=-1197.55597006\n",
      "validation score:  -149.044987295\n",
      "internal optimization\n",
      "-1 0.000251209158575\n",
      "0.992175385011 0.000249243543628\n",
      "hypergrads [[ -3.02148867e-06   9.99998008e-01]]\n",
      "trial  9\n",
      "iteration 0, internal loss=-1197.05597257\n",
      "validation score:  -148.544990002\n",
      "internal optimization\n",
      "-1 0.000247293442974\n",
      "0.992175894815 0.000245358593065\n",
      "hypergrads [[ -2.99669359e-06   9.99994585e-01]]\n",
      "[array([ 10.36163292,  10.36163292]), 0.01]\n",
      "trial  0\n",
      "iteration 0, internal loss=-1278.53482549\n",
      "validation score:  -160.40455917\n",
      "internal optimization\n",
      "-1 7.30950266982e-05\n",
      "0.991502987085 7.24739373123e-05\n",
      "hypergrads [[ 1.          0.99999997]]\n",
      "trial  1\n",
      "iteration 0, internal loss=-1277.53482551\n",
      "validation score:  -159.404559209\n",
      "internal optimization\n",
      "-1 7.18581334665e-05\n",
      "0.99150321301 7.1247570213e-05\n",
      "hypergrads [[ 0.99999999  0.99999993]]\n",
      "trial  2\n",
      "iteration 0, internal loss=-1276.53482555\n",
      "validation score:  -158.404559316\n",
      "internal optimization\n",
      "-1 7.06422026467e-05\n",
      "0.991503437983 7.00419867909e-05\n",
      "hypergrads [[ 0.99999997  0.99999982]]\n",
      "trial  3\n",
      "iteration 0, internal loss=-1275.53482565\n",
      "validation score:  -157.404559607\n",
      "internal optimization\n",
      "-1 6.94468781247e-05\n",
      "0.991503662006 6.88568339755e-05\n",
      "hypergrads [[ 0.99999992  0.9999995 ]]\n",
      "trial  4\n",
      "iteration 0, internal loss=-1274.53482594\n",
      "validation score:  -156.404560399\n",
      "internal optimization\n",
      "-1 6.82718095549e-05\n",
      "0.991503885079 6.76917644151e-05\n",
      "hypergrads [[ 0.99999978  0.99999863]]\n",
      "trial  5\n",
      "iteration 0, internal loss=-1273.53482674\n",
      "validation score:  -155.404562552\n",
      "internal optimization\n",
      "-1 6.71166517646e-05\n",
      "0.991504107196 6.65464358859e-05\n",
      "hypergrads [[ 0.99999941  0.99999629]]\n",
      "trial  6\n",
      "iteration 0, internal loss=-1272.53482889\n",
      "validation score:  -154.404568402\n",
      "internal optimization\n",
      "-1 6.5981063327e-05\n",
      "0.991504328331 6.54205098766e-05\n",
      "hypergrads [[ 0.99999839  0.99998991]]\n",
      "trial  7\n",
      "iteration 0, internal loss=-1271.53483474\n",
      "validation score:  -153.404584306\n",
      "internal optimization\n",
      "-1 6.48647028842e-05\n",
      "0.99150454841 6.4313647941e-05\n",
      "hypergrads [[ 0.99999561  0.99997258]]\n",
      "trial  8\n",
      "iteration 0, internal loss=-1270.53485064\n",
      "validation score:  -152.404627535\n",
      "internal optimization\n",
      "-1 6.37672194071e-05\n",
      "0.991504767223 6.32255020347e-05\n",
      "hypergrads [[ 0.99998808  0.99992546]]\n",
      "trial  9\n",
      "iteration 0, internal loss=-1269.53489387\n",
      "validation score:  -151.404745038\n",
      "internal optimization\n",
      "-1 6.2688226097e-05\n",
      "0.99150498419 6.21556886252e-05\n",
      "hypergrads [[ 0.9999676  0.9997974]]\n",
      "final [0.5, 0.0]\n"
     ]
    }
   ],
   "source": [
    "hyp_lr_range = [0.5, 0.0] \n",
    "print 'calbirate: alpha'\n",
    "found = False\n",
    "for h in [  [np.array([0.0,0.0]), 10**(-2)],  \n",
    "             [np.array([np.log(np.sqrt(10**9)), np.log(np.sqrt(10**9))]), 10**(-2)]]:\n",
    "    \n",
    "    print h\n",
    "    while True:\n",
    "\n",
    "            \n",
    "            lr.set_value(h[1])\n",
    "            alphas.set_value(h[0])\n",
    "\n",
    "\n",
    "\n",
    "            score = hoag_optimize(partial(cv_tc, k =4,  batch_size=75), model_build, optimizer, 10, 75, 10,  X_train, Y_train, \n",
    "    [alphas], lr = [hyp_lr_range[0]], verbose=100,  internal_optimize_learning_rate=10**(-5),).history[-1][1]\n",
    "            if lr.eval()>1.0 or np.max(abs(alphas.eval()))>12 or  np.isnan(score) or np.isinf(score):\n",
    "                print 'BAD', lr.eval(), alphas.eval()\n",
    "                hyp_lr_range[0] = hyp_lr_range[0]/10\n",
    "            else:\n",
    "                \n",
    "                break\n",
    "            \n",
    "print 'final', hyp_lr_range            \n",
    "        \n",
    "        \n",
    "        \n"
   ]
  },
  {
   "cell_type": "code",
   "execution_count": 5,
   "metadata": {
    "collapsed": false
   },
   "outputs": [
    {
     "name": "stdout",
     "output_type": "stream",
     "text": [
      "attemp\n",
      "[ 1.14622018  9.59782708]\n",
      "final [ 0.68903371  1.60906858] 0.01\n",
      "attemp\n",
      "[ 7.6573968  6.3901876]\n",
      "final [ 0.689007    1.60897716] 0.01\n",
      "attemp\n",
      "[ 3.67315985  3.32897567]\n",
      "final [ 0.68951499  1.60909506] 0.01\n",
      "attemp\n",
      "[ 5.57156076  5.51175887]\n",
      "final [ 0.68884553  1.6089745 ] 0.01\n",
      "attemp\n",
      "[ 7.80335463  5.32517889]\n",
      "final [ 0.68813098  1.60879289] 0.01\n",
      "attemp\n",
      "[  0.37100609  10.15639912]\n",
      "final [ 0.68904953  1.60896421] 0.01\n",
      "attemp\n",
      "[ 7.5189545   3.41853374]\n",
      "final [ 0.68901763  1.60898354] 0.01\n",
      "attemp\n",
      "[ 4.27950745  0.01983864]\n",
      "final [ 0.68863199  1.60899854] 0.01\n",
      "attemp\n",
      "[ 7.96440975  3.2015409 ]\n",
      "final [ 0.68916994  1.60905089] 0.01\n",
      "attemp\n",
      "[ 3.34736995  6.1842033 ]\n",
      "final [ 0.68891619  1.60899368] 0.01\n",
      "attemp\n",
      "[  1.28986693  10.84841244]\n",
      "final [ 0.68919447  1.60910988] 0.01\n",
      "attemp\n",
      "[ 3.5024003   1.95240097]\n",
      "final [ 0.68864885  1.6089946 ] 0.01\n",
      "attemp\n",
      "[ 10.67214035   8.63051779]\n",
      "final [ 0.68917658  1.60899139] 0.01\n",
      "attemp\n",
      "[ 5.49652313  2.43133105]\n",
      "final [ 0.68909114  1.60902296] 0.01\n",
      "attemp\n",
      "[ 1.25441192  4.21692791]\n",
      "final [ 0.6889676   1.60895252] 0.01\n",
      "attemp\n",
      "[ 0.87884563  8.7202748 ]\n",
      "final [ 0.68847525  1.60896889] 0.01\n",
      "attemp\n",
      "[ 4.99423644  2.45321158]\n",
      "final [ 0.68914011  1.60902339] 0.01\n",
      "attemp\n",
      "[ 6.64764815  7.37486041]\n",
      "final [ 0.68886315  1.60902479] 0.01\n",
      "attemp\n",
      "[ 2.34492792  1.28027488]\n",
      "final [ 0.68792249  1.60889744] 0.01\n",
      "attemp\n",
      "[ 2.708986    3.14787015]\n",
      "final [ 0.68848845  1.60896445] 0.01\n",
      "attemp\n",
      "[ 9.42721942  6.95225068]\n",
      "final [ 0.68804042  1.60884503] 0.01\n",
      "attemp\n",
      "[ 10.6035436   3.6084948]\n",
      "final [ 0.68879343  1.60887978] 0.01\n",
      "attemp\n",
      "[ 1.73618601  7.09115476]\n",
      "final [ 0.68921039  1.60902397] 0.01\n",
      "attemp\n",
      "[ 4.8629649  3.1176977]\n",
      "final [ 0.68831379  1.60890543] 0.01\n",
      "attemp\n",
      "[ 11.35417716   7.07496513]\n",
      "final [ 0.68874045  1.60899029] 0.01\n",
      "attemp\n",
      "[ 8.85340167  7.36493562]\n",
      "final [ 0.68890747  1.60881992] 0.01\n",
      "attemp\n",
      "[  2.64029915  10.57974371]\n",
      "final [ 0.68914329  1.60899879] 0.01\n",
      "attemp\n",
      "[ 8.49088465  9.53778898]\n",
      "final [ 0.68906991  1.60893706] 0.01\n",
      "attemp\n",
      "[ 5.40687054  1.51612668]\n",
      "final [ 0.68897147  1.60881788] 0.01\n",
      "attemp\n",
      "[ 7.36383226  9.84197069]\n",
      "final [ 0.68867332  1.60880952] 0.01\n",
      "attemp\n",
      "[ 7.62142193  4.53536001]\n",
      "final [ 0.68885385  1.608907  ] 0.01\n",
      "attemp\n",
      "[ 5.42236848  0.33873169]\n",
      "final [ 0.68913868  1.60905289] 0.01\n",
      "attemp\n",
      "[  7.59697872  10.74443967]\n",
      "final [ 0.68845566  1.60891345] 0.01\n",
      "attemp\n",
      "[ 9.40215542  0.73270606]\n",
      "final [ 0.68898339  1.60893199] 0.01\n",
      "attemp\n",
      "[ 0.68679541  3.24698868]\n",
      "final [ 0.68907216  1.60901169] 0.01\n",
      "attemp\n",
      "[ 4.89329586  1.63740613]\n",
      "final [ 0.68898023  1.60893708] 0.01\n",
      "attemp\n",
      "[ 0.42411874  5.71749171]\n",
      "final [ 0.68922837  1.60896904] 0.01\n",
      "attemp\n",
      "[ 7.33946664  1.63976145]\n",
      "final [ 0.68936632  1.60897635] 0.01\n",
      "attemp\n",
      "[ 11.31501337   1.94474436]\n",
      "final [ 0.68839704  1.60887974] 0.01\n",
      "attemp\n",
      "[ 6.56588782  7.96248301]\n",
      "final [ 0.68900576  1.60907925] 0.01\n",
      "attemp\n",
      "[ 3.98468091  9.98032175]\n",
      "final [ 0.68934778  1.60892679] 0.01\n",
      "attemp\n",
      "[ 1.20200976  3.8171634 ]\n",
      "final [ 0.68897893  1.60904836] 0.01\n",
      "attemp\n",
      "[ 3.86754769  6.93939669]\n",
      "final [ 0.68825989  1.60900819] 0.01\n",
      "attemp\n",
      "[ 10.02573242   3.19100378]\n",
      "final [ 0.68857634  1.60903136] 0.01\n",
      "attemp\n",
      "[  2.21094916  11.12239778]\n",
      "final [ 0.68906563  1.6089677 ] 0.01\n",
      "attemp\n",
      "[ 5.21909012  0.80881044]\n",
      "final [ 0.68865612  1.6086946 ] 0.01\n",
      "attemp\n",
      "[ 8.09956867  1.944093  ]\n",
      "final [ 0.68847142  1.60890972] 0.01\n",
      "attemp\n",
      "[ 6.43134174  1.97005198]\n",
      "final [ 0.68875801  1.60908795] 0.01\n",
      "attemp\n",
      "[ 10.77510386   5.69920171]\n",
      "final [ 0.68905399  1.60910258] 0.01\n",
      "attemp\n",
      "[ 8.60724135  3.12444945]\n",
      "final [ 0.68926679  1.6090265 ] 0.01\n"
     ]
    }
   ],
   "source": [
    "bests = []\n",
    "bests = []\n",
    "for _ in xrange(50):\n",
    "    print 'attemp'\n",
    "    \n",
    "    alphas_value = choicer()\n",
    "    print alphas_value\n",
    "    lr.set_value(0.01)#by random search\n",
    "    alphas.set_value(alphas_value)\n",
    "\n",
    "    \n",
    "   \n",
    "    \n",
    "    bests.append(hoag_optimize(partial(cv_tc, k =4,  batch_size=75), model_build, optimizer, 50, 75, 10,  X_train, Y_train, \n",
    "    [alphas], lr = [0.5], verbose=-1, internal_optimize_learning_rate=10**(-5)))\n",
    "    print 'final', alphas.eval(), lr.eval()"
   ]
  },
  {
   "cell_type": "code",
   "execution_count": 6,
   "metadata": {
    "collapsed": false
   },
   "outputs": [
    {
     "data": {
      "image/png": "[encoded data removed]",
      "text/plain": [
       "<matplotlib.figure.Figure at 0x7f80bf51f790>"
      ]
     },
     "metadata": {},
     "output_type": "display_data"
    }
   ],
   "source": [
    "\n",
    "import cPickle\n",
    "#with open('results_cv_hoag.pckl','rb') as inp:\n",
    "#    bests = cPickle.load(inp)\n",
    "for b in bests:\n",
    "    history = []\n",
    "    for i in xrange(0, len(b.history)):\n",
    "        \n",
    "        best_value = max([h[1] for h in b.history[:i+1]])\n",
    "        \n",
    "        history.append(best_value)\n",
    "    plt.plot(history)\n",
    "#plt.ylim((-100, -80))\n",
    "plt.xlim((1,50))\n",
    "\n",
    "import cPickle\n",
    "with open('results_cv_hoag.pckl','wb') as out:\n",
    "    cPickle.dump(bests, out)\n"
   ]
  },
  {
   "cell_type": "code",
   "execution_count": 11,
   "metadata": {
    "collapsed": false
   },
   "outputs": [
    {
     "ename": "IndexError",
     "evalue": "tuple index out of range",
     "output_type": "error",
     "traceback": [
      "\u001b[1;31m---------------------------------------------------------------------------\u001b[0m",
      "\u001b[1;31mIndexError\u001b[0m                                Traceback (most recent call last)",
      "\u001b[1;32m<ipython-input-11-fec000b6544b>\u001b[0m in \u001b[0;36m<module>\u001b[1;34m()\u001b[0m\n\u001b[0;32m     15\u001b[0m     \u001b[1;32mfor\u001b[0m \u001b[0mm\u001b[0m \u001b[1;32min\u001b[0m \u001b[0mxrange\u001b[0m\u001b[1;33m(\u001b[0m\u001b[1;36m4\u001b[0m\u001b[1;33m)\u001b[0m\u001b[1;33m:\u001b[0m\u001b[1;33m\u001b[0m\u001b[0m\n\u001b[0;32m     16\u001b[0m         \u001b[1;31m#print b.history[best][2][m]\u001b[0m\u001b[1;33m\u001b[0m\u001b[1;33m\u001b[0m\u001b[0m\n\u001b[1;32m---> 17\u001b[1;33m         \u001b[0mmodels\u001b[0m\u001b[1;33m[\u001b[0m\u001b[0mm\u001b[0m\u001b[1;33m]\u001b[0m\u001b[1;33m.\u001b[0m\u001b[0mparams\u001b[0m\u001b[1;33m.\u001b[0m\u001b[0mset_value\u001b[0m\u001b[1;33m(\u001b[0m\u001b[0mb\u001b[0m\u001b[1;33m.\u001b[0m\u001b[0mhistory\u001b[0m\u001b[1;33m[\u001b[0m\u001b[0mbest\u001b[0m\u001b[1;33m]\u001b[0m\u001b[1;33m[\u001b[0m\u001b[1;36m2\u001b[0m\u001b[1;33m]\u001b[0m\u001b[1;33m[\u001b[0m\u001b[0mm\u001b[0m\u001b[1;33m]\u001b[0m\u001b[1;33m)\u001b[0m\u001b[1;33m\u001b[0m\u001b[0m\n\u001b[0m\u001b[0;32m     18\u001b[0m         \u001b[0mresult\u001b[0m\u001b[1;33m.\u001b[0m\u001b[0mappend\u001b[0m\u001b[1;33m(\u001b[0m\u001b[0mnp\u001b[0m\u001b[1;33m.\u001b[0m\u001b[0mmean\u001b[0m\u001b[1;33m(\u001b[0m\u001b[1;33m(\u001b[0m\u001b[0mpredicts\u001b[0m\u001b[1;33m[\u001b[0m\u001b[0mm\u001b[0m\u001b[1;33m]\u001b[0m\u001b[1;33m(\u001b[0m\u001b[0mX_test\u001b[0m\u001b[1;33m)\u001b[0m\u001b[1;33m[\u001b[0m\u001b[1;33m:\u001b[0m\u001b[1;33m,\u001b[0m\u001b[1;36m0\u001b[0m\u001b[1;33m]\u001b[0m\u001b[1;33m-\u001b[0m\u001b[0mY_test\u001b[0m\u001b[1;33m)\u001b[0m\u001b[1;33m**\u001b[0m\u001b[1;36m2\u001b[0m\u001b[1;33m)\u001b[0m\u001b[1;33m)\u001b[0m\u001b[1;33m\u001b[0m\u001b[0m\n\u001b[0;32m     19\u001b[0m         \u001b[1;32mprint\u001b[0m \u001b[0mresult\u001b[0m\u001b[1;33m[\u001b[0m\u001b[1;33m-\u001b[0m\u001b[1;36m1\u001b[0m\u001b[1;33m]\u001b[0m\u001b[1;33m\u001b[0m\u001b[0m\n",
      "\u001b[1;31mIndexError\u001b[0m: tuple index out of range"
     ]
    }
   ],
   "source": [
    "import theano.tensor as T\n",
    "X = T.matrix()\n",
    "result = []\n",
    "models = []\n",
    "predicts = []\n",
    "\n",
    "for m in xrange(4):\n",
    "    models.append(model_build(dataset_size=100))\n",
    "    predict = models[m].predict_var(X)\n",
    "    predicts.append(theano.function([X], predict))\n",
    "for b in bests:\n",
    "    scores = [b.history[i][1] for i in xrange(len(b.history))]\n",
    "    best = np.argmax(scores)\n",
    "    \n",
    "    for m in xrange(4):\n",
    "        #print b.history[best][2][m]\n",
    "        models[m].params.set_value(b.history[best][2][m])\n",
    "        result.append(np.mean((predicts[m](X_test)[:,0]-Y_test)**2))\n",
    "        print result[-1]\n",
    "    \"\"\"\n",
    "    bests.append( random_optimize(partial(cv_tc, k =4,  batch_size=75), model_build, optimizer, 50, 10, X_train, Y_train,  [alphas, lr] ,\n",
    "     [alpha_ranges, lr_ranges], verbose=100))\n",
    "    X = T.matrix()    \n",
    "    model = model_build(dataset_size=100)\n",
    "    \n",
    "    \n",
    "    \"\"\"\n",
    "\n",
    "print np.mean(result)\n",
    "print np.std(result)"
   ]
  },
  {
   "cell_type": "code",
   "execution_count": null,
   "metadata": {
    "collapsed": true
   },
   "outputs": [],
   "source": []
  },
  {
   "cell_type": "code",
   "execution_count": 8,
   "metadata": {
    "collapsed": false
   },
   "outputs": [
    {
     "name": "stdout",
     "output_type": "stream",
     "text": [
      "[array([-0.08618924,  0.07302104]), array(0.00537222563090441)]\n",
      "0.845032090759\n",
      "[array([-0.11002089,  0.01758332]), array(0.005550579267265482)]\n",
      "0.845271989877\n",
      "[array([-0.08656351,  0.03525381]), array(0.005229430710384838)]\n",
      "0.845044330333\n",
      "[array([-0.14659154,  0.08547611]), array(0.005252349082338278)]\n",
      "0.845831519337\n",
      "[array([-0.08937141,  0.00927595]), array(0.0056384881157805575)]\n",
      "0.845004327496\n",
      "[array([-0.08553674,  0.06774782]), array(0.005466402939404961)]\n",
      "0.845007862766\n",
      "[array([-0.12797675,  0.05814624]), array(0.005692692163875986)]\n",
      "0.845512133854\n",
      "[array([-0.09096783,  0.05599656]), array(0.005646202917547017)]\n",
      "0.845048543537\n",
      "[array([-0.07663557,  0.00206454]), array(0.005492577281170933)]\n",
      "0.844863140164\n",
      "[array([-0.02383022,  0.01895683]), array(0.01000018614027096)]\n",
      "0.844238832863\n",
      "0.845085477098\n",
      "0.000394735187971\n"
     ]
    }
   ],
   "source": [
    "import theano.tensor as T\n",
    "X = T.matrix()\n",
    "result = []\n",
    "for b in bests:\n",
    "    print b.best_values\n",
    "    alphas.set_value(b.best_values[0])\n",
    "    lr.set_value(b.best_values[1])\n",
    "    training_procedure = cv_tc( model_build, optimizer, X_train, Y_train, validation_part=0.0, batch_size=100 )\n",
    "    \n",
    "    for i in xrange(10):\n",
    "        training_procedure.do_train()\n",
    "    \n",
    "    for m in training_procedure.models:\n",
    "        predict = m.predict_var(X)\n",
    "        predict = theano.function([X], predict)\n",
    "    \n",
    "        result.append(np.mean((predict(X_test)[:,0]-Y_test)**2))\n",
    "        print result[-1]\n",
    "    \"\"\"\n",
    "    bests.append( random_optimize(partial(cv_tc, k =4,  batch_size=75), model_build, optimizer, 50, 10, X_train, Y_train,  [alphas, lr] ,\n",
    "     [alpha_ranges, lr_ranges], verbose=100))\n",
    "    X = T.matrix()    \n",
    "    model = model_build(dataset_size=100)\n",
    "    \n",
    "    \n",
    "    \"\"\"\n",
    "print np.mean(result)\n",
    "print np.std(result)"
   ]
  },
  {
   "cell_type": "code",
   "execution_count": 9,
   "metadata": {
    "collapsed": false
   },
   "outputs": [
    {
     "name": "stdout",
     "output_type": "stream",
     "text": [
      "-115.117619924\n"
     ]
    }
   ],
   "source": [
    "best_values = []\n",
    "for b in bests:\n",
    "    history = []\n",
    "    for i in xrange(0, len(b.history)):\n",
    "        \n",
    "        best_value = max([h[1] for h in b.history[:i+1]])\n",
    "        \n",
    "        history.append(best_value)\n",
    "        best_values.append(history[-1])\n",
    "print np.mean(best_values)"
   ]
  },
  {
   "cell_type": "code",
   "execution_count": 7,
   "metadata": {
    "collapsed": false
   },
   "outputs": [
    {
     "data": {
      "image/png": "[encoded data removed]",
      "text/plain": [
       "<matplotlib.figure.Figure at 0x7f7f54e8f550>"
      ]
     },
     "metadata": {},
     "output_type": "display_data"
    }
   ],
   "source": [
    "plt.matshow(matrix.T)\n",
    "for i in bests:\n",
    "    i = i.best_values[0]\n",
    "    i = np.log10(np.exp(i)**2)\n",
    "    if i[0]>10 or i[1] >10:\n",
    "        continue\n",
    "    \n",
    "    plt.scatter(i[0]+np.random.randn(1)*0.1,i[1]+np.random.randn(1)*0.1, c='w')"
   ]
  },
  {
   "cell_type": "code",
   "execution_count": 23,
   "metadata": {
    "collapsed": false
   },
   "outputs": [
    {
     "data": {
      "text/plain": [
       "array([ 6.85777626,  3.48233214])"
      ]
     },
     "execution_count": 23,
     "metadata": {},
     "output_type": "execute_result"
    }
   ],
   "source": [
    "bests[0].best_values[0]"
   ]
  },
  {
   "cell_type": "code",
   "execution_count": 6,
   "metadata": {
    "collapsed": false
   },
   "outputs": [
    {
     "ename": "UnboundLocalError",
     "evalue": "local variable 'X2' referenced before assignment",
     "output_type": "error",
     "traceback": [
      "\u001b[1;31m---------------------------------------------------------------------------\u001b[0m",
      "\u001b[1;31mUnboundLocalError\u001b[0m                         Traceback (most recent call last)",
      "\u001b[1;32m<ipython-input-6-96d5836345f3>\u001b[0m in \u001b[0;36m<module>\u001b[1;34m()\u001b[0m\n\u001b[1;32m----> 1\u001b[1;33m greed_optimize(partial(cv_tc, k =4,  batch_size=10), model_build, optimizer, 1000, X, Y,  [alphas, lr] ,\n\u001b[0m\u001b[0;32m      2\u001b[0m     )\n",
      "\u001b[1;32m/home/legin/svn074/Bakhteev2017Hypergrad/code/pyfos/hyperoptimizers/greed_optimize.py\u001b[0m in \u001b[0;36mgreed_optimize\u001b[1;34m(trainig_criterion, model_constructor, param_optimizer, train_iteration_num, X_data, Y_data, hyperparams, lr, verbose)\u001b[0m\n\u001b[0;32m     19\u001b[0m     \u001b[0mcosts\u001b[0m \u001b[1;33m=\u001b[0m \u001b[1;33m[\u001b[0m\u001b[1;33m]\u001b[0m\u001b[1;33m\u001b[0m\u001b[0m\n\u001b[0;32m     20\u001b[0m     \u001b[0mgivens\u001b[0m \u001b[1;33m=\u001b[0m \u001b[1;33m[\u001b[0m\u001b[1;33m]\u001b[0m\u001b[1;33m\u001b[0m\u001b[0m\n\u001b[1;32m---> 21\u001b[1;33m     \u001b[1;32mfor\u001b[0m \u001b[0mX\u001b[0m\u001b[1;33m,\u001b[0m\u001b[0mY\u001b[0m\u001b[1;33m,\u001b[0m \u001b[0mindex\u001b[0m\u001b[1;33m,\u001b[0m \u001b[0mX2\u001b[0m\u001b[1;33m,\u001b[0m \u001b[0mY2\u001b[0m\u001b[1;33m,\u001b[0m \u001b[0mindex2\u001b[0m\u001b[1;33m,\u001b[0m \u001b[0mmodel\u001b[0m \u001b[1;32min\u001b[0m \u001b[0mzip\u001b[0m\u001b[1;33m(\u001b[0m\u001b[0mXs\u001b[0m\u001b[1;33m,\u001b[0m \u001b[0mYs\u001b[0m\u001b[1;33m,\u001b[0m \u001b[0mindices\u001b[0m\u001b[1;33m,\u001b[0m \u001b[0mX2\u001b[0m\u001b[1;33m,\u001b[0m \u001b[0mY2\u001b[0m\u001b[1;33m,\u001b[0m \u001b[0mindices2\u001b[0m\u001b[1;33m,\u001b[0m \u001b[0mmodels\u001b[0m \u001b[1;33m)\u001b[0m\u001b[1;33m:\u001b[0m\u001b[1;33m\u001b[0m\u001b[0m\n\u001b[0m\u001b[0;32m     22\u001b[0m         \u001b[0mtrain_cost\u001b[0m \u001b[1;33m=\u001b[0m \u001b[0mmodel\u001b[0m\u001b[1;33m.\u001b[0m\u001b[0mcost\u001b[0m\u001b[1;33m(\u001b[0m\u001b[0mX\u001b[0m\u001b[1;33m,\u001b[0m \u001b[0mY\u001b[0m\u001b[1;33m)\u001b[0m\u001b[1;33m\u001b[0m\u001b[0m\n\u001b[0;32m     23\u001b[0m         \u001b[0mupdates\u001b[0m \u001b[1;33m=\u001b[0m \u001b[0mparam_optimizer\u001b[0m\u001b[1;33m(\u001b[0m\u001b[1;33m-\u001b[0m\u001b[0mcost\u001b[0m\u001b[1;33m,\u001b[0m \u001b[0mmodel\u001b[0m\u001b[1;33m.\u001b[0m\u001b[0mparams\u001b[0m\u001b[1;33m)\u001b[0m\u001b[1;33m\u001b[0m\u001b[0m\n",
      "\u001b[1;31mUnboundLocalError\u001b[0m: local variable 'X2' referenced before assignment"
     ]
    }
   ],
   "source": []
  },
  {
   "cell_type": "code",
   "execution_count": 10,
   "metadata": {
    "collapsed": false
   },
   "outputs": [
    {
     "data": {
      "text/plain": [
       "[([array([  31.6227766 ,  316.22776602]), 0.001], array(-127.64285224474986)),\n",
       " ([array([ 10.        ,   3.16227766]), 0.01], array(-162.5087255392545)),\n",
       " ([array([ 31.6227766 ,   3.16227766]), 0.01], array(-2.7627426873481633e+42)),\n",
       " ([array([  10.,  100.]), 0.005], array(-124.3719052719263)),\n",
       " ([array([  3.16227766,  31.6227766 ]), 0.01], array(-1.2198974168241432e+41)),\n",
       " ([array([ 316.22776602,    1.        ]), 0.001], array(-122.78697142872564)),\n",
       " ([array([ 1.,  1.]), 0.01], array(-2.048288202990528e+45)),\n",
       " ([array([ 316.22776602,   10.        ]), 0.02], array(nan)),\n",
       " ([array([   1.,  100.]), 0.005], array(-127.03124347465777)),\n",
       " ([array([  3.16227766,  31.6227766 ]), 0.01], array(-3.879875247817619e+79))]"
      ]
     },
     "execution_count": 10,
     "metadata": {},
     "output_type": "execute_result"
    }
   ],
   "source": []
  },
  {
   "cell_type": "code",
   "execution_count": 11,
   "metadata": {
    "collapsed": false
   },
   "outputs": [
    {
     "name": "stdout",
     "output_type": "stream",
     "text": [
      "[  1.00000000e+05   1.00000000e+00]\n",
      "[ 100.  100.]\n",
      "[ 100.  100.]\n",
      "[   1.  100.]\n",
      "[  1.  10.]\n"
     ]
    }
   ],
   "source": [
    "for i in bests:\n",
    "    print np.array(i.best_values[0])**2"
   ]
  },
  {
   "cell_type": "code",
   "execution_count": 12,
   "metadata": {
    "collapsed": false
   },
   "outputs": [
    {
     "data": {
      "image/png": "[encoded data removed]",
      "text/plain": [
       "<matplotlib.figure.Figure at 0x7f47241e5410>"
      ]
     },
     "metadata": {},
     "output_type": "display_data"
    }
   ],
   "source": [
    "plt.matshow(matrix)\n",
    "for i in bests:\n",
    "    i = i.best_values[0]**2\n",
    "    i = np.log10(i)\n",
    "    \n",
    "    plt.scatter(i[0],i[1], c='w')"
   ]
  }
 ],
 "metadata": {
  "kernelspec": {
   "display_name": "Python 2",
   "language": "python",
   "name": "python2"
  },
  "language_info": {
   "codemirror_mode": {
    "name": "ipython",
    "version": 2
   },
   "file_extension": ".py",
   "mimetype": "text/x-python",
   "name": "python",
   "nbconvert_exporter": "python",
   "pygments_lexer": "ipython2",
   "version": "2.7.6"
  }
 },
 "nbformat": 4,
 "nbformat_minor": 0
}
