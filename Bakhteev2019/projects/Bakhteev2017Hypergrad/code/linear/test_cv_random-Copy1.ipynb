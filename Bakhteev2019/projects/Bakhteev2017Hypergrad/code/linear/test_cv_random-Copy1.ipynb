{
 "cells": [
  {
   "cell_type": "code",
   "execution_count": 1,
   "metadata": {
    "collapsed": false
   },
   "outputs": [],
   "source": [
    "import numpy as np\n",
    "import sys\n",
    "sys.path.append('../../')\n",
    "sys.path.append('../../pyfos/')\n",
    "from pyfos.models.feedforward import build_feedforward\n",
    "from pyfos.generic.optimizer import gd_optimizer\n",
    "from pyfos.generic.regularizers import gaus_prior\n",
    "from functools import partial \n",
    "from pyfos.tc.simple import  simple_tc\n",
    "from pyfos.tc.cv import  cv_tc\n",
    "from pyfos.hyperoptimizers.random_search import random_optimize\n",
    "from pyfos.hyperoptimizers.no_optimize import no_optimize\n",
    "import theano\n",
    "%matplotlib inline\n",
    "import matplotlib.pylab as plt\n",
    "import random"
   ]
  },
  {
   "cell_type": "code",
   "execution_count": 4,
   "metadata": {
    "collapsed": false
   },
   "outputs": [],
   "source": [
    "matrix = np.load('../../../data/matrix.npy')\n",
    "X, Y = np.load('../../../data/linearx.npy'), np.load('../../../data/lineary.npy')\n",
    "X_train = X[:100]\n",
    "Y_train = Y[:100]\n",
    "X_test = X[100:]\n",
    "Y_test = Y[100:]\n",
    "lr = theano.shared(1.0)\n",
    "alphas = theano.shared(np.array([1.0, 1.0]))\n",
    "optimizer = partial(gd_optimizer, learning_rate=lr)\n",
    "model_build = partial(build_feedforward,  structure = [2,1], nonlinearity=lambda x:x, log_alphas =alphas, bias=False)\n",
    "\n"
   ]
  },
  {
   "cell_type": "code",
   "execution_count": 5,
   "metadata": {
    "collapsed": false
   },
   "outputs": [
    {
     "name": "stdout",
     "output_type": "stream",
     "text": [
      "[array([ 0.,  0.]), array([ 0.        ,  1.15129255]), array([ 0.        ,  2.30258509]), array([ 0.        ,  3.45387764]), array([ 0.        ,  4.60517019]), array([ 0.        ,  5.75646273]), array([ 0.        ,  6.90775528]), array([ 0.        ,  8.05904783]), array([ 0.        ,  9.21034037]), array([  0.        ,  10.36163292]), array([ 1.15129255,  0.        ]), array([ 1.15129255,  1.15129255]), array([ 1.15129255,  2.30258509]), array([ 1.15129255,  3.45387764]), array([ 1.15129255,  4.60517019]), array([ 1.15129255,  5.75646273]), array([ 1.15129255,  6.90775528]), array([ 1.15129255,  8.05904783]), array([ 1.15129255,  9.21034037]), array([  1.15129255,  10.36163292]), array([ 2.30258509,  0.        ]), array([ 2.30258509,  1.15129255]), array([ 2.30258509,  2.30258509]), array([ 2.30258509,  3.45387764]), array([ 2.30258509,  4.60517019]), array([ 2.30258509,  5.75646273]), array([ 2.30258509,  6.90775528]), array([ 2.30258509,  8.05904783]), array([ 2.30258509,  9.21034037]), array([  2.30258509,  10.36163292]), array([ 3.45387764,  0.        ]), array([ 3.45387764,  1.15129255]), array([ 3.45387764,  2.30258509]), array([ 3.45387764,  3.45387764]), array([ 3.45387764,  4.60517019]), array([ 3.45387764,  5.75646273]), array([ 3.45387764,  6.90775528]), array([ 3.45387764,  8.05904783]), array([ 3.45387764,  9.21034037]), array([  3.45387764,  10.36163292]), array([ 4.60517019,  0.        ]), array([ 4.60517019,  1.15129255]), array([ 4.60517019,  2.30258509]), array([ 4.60517019,  3.45387764]), array([ 4.60517019,  4.60517019]), array([ 4.60517019,  5.75646273]), array([ 4.60517019,  6.90775528]), array([ 4.60517019,  8.05904783]), array([ 4.60517019,  9.21034037]), array([  4.60517019,  10.36163292]), array([ 5.75646273,  0.        ]), array([ 5.75646273,  1.15129255]), array([ 5.75646273,  2.30258509]), array([ 5.75646273,  3.45387764]), array([ 5.75646273,  4.60517019]), array([ 5.75646273,  5.75646273]), array([ 5.75646273,  6.90775528]), array([ 5.75646273,  8.05904783]), array([ 5.75646273,  9.21034037]), array([  5.75646273,  10.36163292]), array([ 6.90775528,  0.        ]), array([ 6.90775528,  1.15129255]), array([ 6.90775528,  2.30258509]), array([ 6.90775528,  3.45387764]), array([ 6.90775528,  4.60517019]), array([ 6.90775528,  5.75646273]), array([ 6.90775528,  6.90775528]), array([ 6.90775528,  8.05904783]), array([ 6.90775528,  9.21034037]), array([  6.90775528,  10.36163292]), array([ 8.05904783,  0.        ]), array([ 8.05904783,  1.15129255]), array([ 8.05904783,  2.30258509]), array([ 8.05904783,  3.45387764]), array([ 8.05904783,  4.60517019]), array([ 8.05904783,  5.75646273]), array([ 8.05904783,  6.90775528]), array([ 8.05904783,  8.05904783]), array([ 8.05904783,  9.21034037]), array([  8.05904783,  10.36163292]), array([ 9.21034037,  0.        ]), array([ 9.21034037,  1.15129255]), array([ 9.21034037,  2.30258509]), array([ 9.21034037,  3.45387764]), array([ 9.21034037,  4.60517019]), array([ 9.21034037,  5.75646273]), array([ 9.21034037,  6.90775528]), array([ 9.21034037,  8.05904783]), array([ 9.21034037,  9.21034037]), array([  9.21034037,  10.36163292]), array([ 10.36163292,   0.        ]), array([ 10.36163292,   1.15129255]), array([ 10.36163292,   2.30258509]), array([ 10.36163292,   3.45387764]), array([ 10.36163292,   4.60517019]), array([ 10.36163292,   5.75646273]), array([ 10.36163292,   6.90775528]), array([ 10.36163292,   8.05904783]), array([ 10.36163292,   9.21034037]), array([ 10.36163292,  10.36163292])]\n"
     ]
    }
   ],
   "source": [
    "alpha_ranges = []\n",
    "for i in xrange(10):\n",
    "    for j in xrange(10):\n",
    "        a1 = np.sqrt(10**(i))\n",
    "        a2 = np.sqrt(10**(j))\n",
    "        alpha_ranges.append(np.log(np.array([a1,a2])))\n",
    "    \n",
    "print alpha_ranges    "
   ]
  },
  {
   "cell_type": "code",
   "execution_count": null,
   "metadata": {
    "collapsed": false,
    "scrolled": true
   },
   "outputs": [
    {
     "name": "stdout",
     "output_type": "stream",
     "text": [
      "attemp\n",
      "-319.040453574\n",
      "attemp\n",
      "-88.2631033413\n",
      "attemp\n",
      "-81.866884593\n",
      "attemp\n",
      "-96.7743367964\n",
      "attemp\n",
      "-85.9832457202\n",
      "attemp\n",
      "-81.0625700925\n",
      "attemp\n",
      "-80.7316513473\n",
      "attemp\n",
      "-5010.33304606\n",
      "attemp\n",
      "-273.898043272\n",
      "attemp\n",
      "-125.789979479\n",
      "attemp\n",
      "-96.7685070303\n",
      "attemp\n",
      "-84.8169315598\n",
      "attemp\n",
      "-131.348539636\n",
      "attemp\n",
      "-79.5773973427\n",
      "attemp\n",
      "-143.263117578\n",
      "attemp\n",
      "-82.6009033416\n",
      "attemp\n",
      "-78.6006758568\n",
      "attemp\n",
      "-277.188811855\n",
      "attemp\n",
      "-81.6092950087\n",
      "attemp\n",
      "-79.9489692444\n",
      "attemp\n",
      "-319.199894363\n",
      "attemp\n",
      "-89.4159488621\n",
      "attemp\n",
      "-88.2620126921\n",
      "attemp\n",
      "-87.1166557095\n",
      "attemp\n",
      "-87.5412834469\n",
      "attemp\n",
      "-87.5041403444\n",
      "attemp\n",
      "-81.3896784734\n",
      "attemp\n",
      "-129.051717137\n",
      "attemp\n",
      "-79.3447684686\n",
      "attemp\n",
      "-83.0042421202\n",
      "attemp\n",
      "-84.8226353482\n",
      "attemp\n",
      "-81.5545545642\n",
      "attemp\n",
      "-272.528048076\n",
      "attemp\n",
      "-275.479851834\n",
      "attemp\n",
      "-84.8313065454\n",
      "attemp\n",
      "-5009.97937818\n",
      "attemp\n",
      "-87.1106359956\n",
      "attemp\n",
      "-5009.86109818\n",
      "attemp\n",
      "-272.870416739\n",
      "attemp\n"
     ]
    }
   ],
   "source": [
    "bests = []\n",
    "lr_ranges =   [10**(-2)]#[10**(-2),  0.5*10**(-2), 10**(-3), 0.5*10**(-3)]\n",
    "lr.set_value(0.01)\n",
    "for trial in range(50):\n",
    "    print 'attemp'\n",
    "    bests.append( random_optimize(partial(cv_tc, k =4,  batch_size=75), model_build, optimizer, 50, 10, X_train, Y_train,  [alphas] ,\n",
    "     [alpha_ranges], verbose=-1))\n",
    "    print bests[-1].history[-1][-1]"
   ]
  },
  {
   "cell_type": "code",
   "execution_count": null,
   "metadata": {
    "collapsed": false
   },
   "outputs": [],
   "source": [
    "\n",
    "import cPickle\n",
    "#with open('results_cv_rand.pckl','rb') as inp:\n",
    "#    bests = cPickle.load(inp)\n",
    "\n",
    "for b in bests:\n",
    "    history = []\n",
    "    for i in xrange(0, len(b.history)):\n",
    "        \n",
    "        best_value = max([h[1] for h in b.history[:i+1]])\n",
    "        \n",
    "        history.append(best_value)\n",
    "    plt.plot(history)\n",
    "plt.ylim((-100, -80))\n",
    "plt.xlim((1,50))\n",
    "\n",
    "import cPickle\n",
    "with open('results_cv_rand.pckl','wb') as out:\n",
    "    cPickle.dump(bests, out)\n"
   ]
  },
  {
   "cell_type": "code",
   "execution_count": 12,
   "metadata": {
    "collapsed": false
   },
   "outputs": [
    {
     "data": {
      "text/plain": [
       "([array([ 5.75646273,  1.15129255]), 0.01], array(-inf))"
      ]
     },
     "execution_count": 12,
     "metadata": {},
     "output_type": "execute_result"
    }
   ],
   "source": [
    "bests[0].history[1]"
   ]
  },
  {
   "cell_type": "code",
   "execution_count": 6,
   "metadata": {
    "collapsed": false
   },
   "outputs": [
    {
     "name": "stdout",
     "output_type": "stream",
     "text": [
      "9.43914336962e-05\n",
      "0.000124289005293\n",
      "0.00129238139516\n",
      "0.000242562662603\n",
      "0.000779013165161\n",
      "0.0102724095201\n",
      "0.000206747922337\n",
      "0.000140740432021\n",
      "0.000132832862326\n",
      "8.03570899432e-06\n",
      "0.00749791590336\n",
      "6.75131708431e-05\n",
      "0.003461156779\n",
      "0.000129756949236\n",
      "0.000222773236192\n",
      "0.000242858305185\n",
      "7.31068395923e-06\n",
      "0.000446081971565\n",
      "2.10039527387e-05\n",
      "0.00498557348802\n",
      "0.000127393299536\n",
      "0.000344975987004\n",
      "0.00193295197259\n",
      "1.12403631093e-05\n",
      "0.00110372549492\n",
      "0.000169369711448\n",
      "8.88501579515e-05\n",
      "0.000371158334277\n",
      "5.25537631743e-05\n",
      "0.000169072496902\n",
      "6.99270861379e-05\n",
      "0.000118547148409\n",
      "0.00031077408314\n",
      "0.000360231067999\n",
      "0.00288808340749\n",
      "0.00124557541155\n",
      "0.0080222197081\n",
      "0.000376121747349\n",
      "0.000469794144926\n",
      "0.000297591329386\n",
      "0.00025797182711\n",
      "0.00567665490985\n",
      "2.50256902362e-05\n",
      "2.5725705823e-05\n",
      "3.9389787181e-05\n",
      "0.000166544706471\n",
      "0.000305865928779\n",
      "5.53252217421e-05\n",
      "0.000103489182896\n",
      "0.000183979775623\n",
      "0.000195866374435\n",
      "0.000208717300477\n",
      "2.41616115724e-05\n",
      "0.000922038736434\n",
      "0.000177551325219\n",
      "0.00052912656389\n",
      "0.000980365436934\n",
      "0.000392123433262\n",
      "0.000854405144585\n",
      "0.000125633289021\n",
      "0.0084750998913\n",
      "6.0865953532e-05\n",
      "2.47195201233e-05\n",
      "0.0219657832574\n",
      "4.51565572406e-05\n",
      "6.77217789663e-05\n",
      "0.00120027534512\n",
      "0.000341222200108\n",
      "8.28003001137e-05\n",
      "0.000549224347555\n",
      "0.00832597885439\n",
      "0.00187017232281\n",
      "0.00168977599448\n",
      "3.42599818764e-05\n",
      "0.000351331773181\n",
      "0.000863379008847\n",
      "3.773667364e-05\n",
      "2.51521629832e-05\n",
      "0.00479838694651\n",
      "1.07432667782e-05\n",
      "0.0130772213067\n",
      "0.000126185404682\n",
      "2.16785069426e-05\n",
      "0.000137885913645\n",
      "6.37559355887e-05\n",
      "2.74079693371e-05\n",
      "1.90408925581e-05\n",
      "0.000326320814701\n",
      "1.70845560038e-05\n",
      "0.0228499910101\n",
      "0.000176445411013\n",
      "8.39231508052e-05\n",
      "1.47892605331e-05\n",
      "0.000194927729238\n",
      "0.00125547543296\n",
      "0.00372906354441\n",
      "2.19683887134e-05\n",
      "0.00167026769434\n",
      "0.000105543204654\n",
      "0.000123607894831\n",
      "0.000605414293974\n",
      "6.01478433419e-05\n",
      "0.00115249607299\n",
      "8.23619941897e-05\n",
      "9.38518240975e-05\n",
      "0.00277399316189\n",
      "0.000153371759708\n",
      "4.5681880216e-06\n",
      "0.000123320105335\n",
      "1.0778295855e-05\n",
      "5.30587532614e-06\n",
      "0.00063274342395\n",
      "5.84731535167e-06\n",
      "0.000168065141339\n",
      "0.00146987632443\n",
      "0.00476572591548\n",
      "3.23905929221e-05\n",
      "0.0262438633737\n",
      "0.00212527316203\n",
      "0.00275525219534\n",
      "2.13297618402e-05\n",
      "0.00199988756079\n",
      "0.000260362863841\n",
      "1.12266231015e-05\n",
      "0.000271348438173\n",
      "0.0143831745657\n",
      "0.00112286194462\n",
      "8.9602670202e-05\n",
      "0.00100774960502\n",
      "0.000186375494929\n",
      "7.28526218113e-05\n",
      "1.78302943317e-06\n",
      "7.93760412038e-06\n",
      "0.00206809221017\n",
      "6.14242173641e-05\n",
      "0.0164493702629\n",
      "2.40674584057e-05\n",
      "0.000514272033379\n",
      "0.00232177317489\n",
      "0.000168234804593\n",
      "4.39629787099e-05\n",
      "0.00034700691144\n",
      "9.14152946724e-05\n",
      "0.000425076484167\n",
      "0.000565105756944\n",
      "0.000453078052759\n",
      "0.000168182570361\n",
      "0.0279508083721\n",
      "5.57923860772e-05\n",
      "9.11167474988e-05\n",
      "0.000151926977031\n",
      "7.32719263751e-05\n",
      "0.00382240558629\n",
      "0.00157591449238\n",
      "5.83441871446e-05\n",
      "0.000364801114324\n",
      "6.06025668379e-05\n",
      "0.00209037118424\n",
      "0.00099121695083\n",
      "0.000527575218507\n",
      "6.51765999646e-05\n",
      "9.81020084718e-05\n",
      "7.65670762083e-05\n",
      "0.000704570923519\n",
      "2.78463121498e-05\n",
      "0.00581071146549\n",
      "8.68342312852e-05\n",
      "0.00114972683496\n",
      "0.000479560476716\n",
      "2.05161972749e-05\n",
      "0.00292198089205\n",
      "2.3017978106e-05\n",
      "1.96447643846e-05\n",
      "0.000197040131181\n",
      "0.00047046512942\n",
      "0.000526950949515\n",
      "1.23250646758e-05\n",
      "0.000226050550827\n",
      "3.17766479925e-05\n",
      "2.54584886886e-05\n",
      "0.000110868001675\n",
      "8.96157166113e-05\n",
      "0.00058165419702\n",
      "4.95098482861e-05\n",
      "2.69233930305e-05\n",
      "0.00029423121532\n",
      "0.000111767179433\n",
      "0.000144472637014\n",
      "0.00117162619506\n",
      "0.000550564748599\n",
      "0.000707609378483\n",
      "2.81993504044e-05\n",
      "2.06246408371e-05\n",
      "8.28812904393e-05\n",
      "0.000126102329418\n",
      "0.000143104004125\n",
      "0.00347395424254\n",
      "1.04987176349e-05\n",
      "8.06925771789e-05\n",
      "0.000186139729788\n",
      "0.00150099774526\n",
      "0.00407938234164\n"
     ]
    }
   ],
   "source": [
    "import theano.tensor as T\n",
    "X = T.matrix()\n",
    "result = []\n",
    "models = []\n",
    "predicts = []\n",
    "\n",
    "for m in xrange(4):\n",
    "    models.append(model_build(dataset_size=100))\n",
    "    predict = models[m].predict_var(X)\n",
    "    predicts.append(theano.function([X], predict))\n",
    "for b in bests:\n",
    "    scores = [b.history[i][1] for i in xrange(len(b.history))]\n",
    "    best = np.argmax(scores)\n",
    "    \n",
    "    for m in xrange(4):\n",
    "        #print b.history[best][2][m]\n",
    "        models[m].params.set_value(b.history[best][2][m])\n",
    "        result.append(np.mean((predicts[m](X_test)[:,0]-Y_test)**2))\n",
    "        print result[-1]\n",
    "    \"\"\"\n",
    "    bests.append( random_optimize(partial(cv_tc, k =4,  batch_size=75), model_build, optimizer, 50, 10, X_train, Y_train,  [alphas, lr] ,\n",
    "     [alpha_ranges, lr_ranges], verbose=100))\n",
    "    X = T.matrix()    \n",
    "    model = model_build(dataset_size=100)\n",
    "    \n",
    "    \n",
    "    \"\"\"\n",
    "\n",
    "print np.mean(result)\n",
    "print np.std(result)"
   ]
  },
  {
   "cell_type": "code",
   "execution_count": 11,
   "metadata": {
    "collapsed": false
   },
   "outputs": [
    {
     "name": "stdout",
     "output_type": "stream",
     "text": [
      "-116.59428108\n"
     ]
    }
   ],
   "source": [
    "best_values = []\n",
    "for b in bests:\n",
    "    history = []\n",
    "    for i in xrange(0, len(b.history)):\n",
    "        \n",
    "        best_value = max([h[1] for h in b.history[:i+1]])\n",
    "        \n",
    "        history.append(best_value)\n",
    "        best_values.append(history[-1])\n",
    "print np.mean(best_values)"
   ]
  },
  {
   "cell_type": "code",
   "execution_count": 10,
   "metadata": {
    "collapsed": false
   },
   "outputs": [
    {
     "data": {
      "text/plain": [
       "[([array([  31.6227766 ,  316.22776602]), 0.001], array(-127.64285224474986)),\n",
       " ([array([ 10.        ,   3.16227766]), 0.01], array(-162.5087255392545)),\n",
       " ([array([ 31.6227766 ,   3.16227766]), 0.01], array(-2.7627426873481633e+42)),\n",
       " ([array([  10.,  100.]), 0.005], array(-124.3719052719263)),\n",
       " ([array([  3.16227766,  31.6227766 ]), 0.01], array(-1.2198974168241432e+41)),\n",
       " ([array([ 316.22776602,    1.        ]), 0.001], array(-122.78697142872564)),\n",
       " ([array([ 1.,  1.]), 0.01], array(-2.048288202990528e+45)),\n",
       " ([array([ 316.22776602,   10.        ]), 0.02], array(nan)),\n",
       " ([array([   1.,  100.]), 0.005], array(-127.03124347465777)),\n",
       " ([array([  3.16227766,  31.6227766 ]), 0.01], array(-3.879875247817619e+79))]"
      ]
     },
     "execution_count": 10,
     "metadata": {},
     "output_type": "execute_result"
    }
   ],
   "source": []
  },
  {
   "cell_type": "code",
   "execution_count": 33,
   "metadata": {
    "collapsed": false
   },
   "outputs": [
    {
     "name": "stdout",
     "output_type": "stream",
     "text": [
      "[ 1.  1.]\n",
      "[ 1.  1.]\n",
      "[ 10.   1.]\n",
      "[ 1.  1.]\n",
      "[ 1.  1.]\n"
     ]
    }
   ],
   "source": [
    "for i in bests:\n",
    "    print np.array(i.best_values[0])**2"
   ]
  },
  {
   "cell_type": "code",
   "execution_count": 7,
   "metadata": {
    "collapsed": false
   },
   "outputs": [
    {
     "data": {
      "image/png": "[encoded data removed]",
      "text/plain": [
       "<matplotlib.figure.Figure at 0x7f6dbaefdd90>"
      ]
     },
     "metadata": {},
     "output_type": "display_data"
    }
   ],
   "source": [
    "plt.matshow(matrix.T)\n",
    "for i in bests:\n",
    "    i = i.best_values[0]\n",
    "    i = np.log10(np.exp(2*i))\n",
    "    \n",
    "    plt.scatter(i[0]+np.random.randn(1)*0.1,i[1]+np.random.randn(1)*0.1, c='w')"
   ]
  },
  {
   "cell_type": "code",
   "execution_count": 7,
   "metadata": {
    "collapsed": false
   },
   "outputs": [],
   "source": [
    "model = model_build(dataset_size=100)"
   ]
  },
  {
   "cell_type": "code",
   "execution_count": 9,
   "metadata": {
    "collapsed": false
   },
   "outputs": [],
   "source": [
    "import theano.tensor as T"
   ]
  },
  {
   "cell_type": "code",
   "execution_count": 28,
   "metadata": {
    "collapsed": true
   },
   "outputs": [],
   "source": [
    "X,Y = T.matrix(), T.vector()"
   ]
  },
  {
   "cell_type": "code",
   "execution_count": 29,
   "metadata": {
    "collapsed": true
   },
   "outputs": [],
   "source": [
    "cost = model.cost(X,Y)"
   ]
  },
  {
   "cell_type": "code",
   "execution_count": 35,
   "metadata": {
    "collapsed": false
   },
   "outputs": [
    {
     "name": "stdout",
     "output_type": "stream",
     "text": [
      "Elemwise{add,no_inplace}.0\n"
     ]
    }
   ],
   "source": [
    "f = theano.function([X,Y], cost)\n",
    "print cost\n",
    "f2 = theano.function([X,Y], T.grad(cost, model.params))\n",
    "model.params.set_value([ 102.5926679 ,    0.23016751])"
   ]
  },
  {
   "cell_type": "code",
   "execution_count": 36,
   "metadata": {
    "collapsed": false
   },
   "outputs": [
    {
     "data": {
      "text/plain": [
       "array([ -1.02592668e+08,  -2.30167510e+05])"
      ]
     },
     "execution_count": 36,
     "metadata": {},
     "output_type": "execute_result"
    }
   ],
   "source": [
    "#f(np.random.randn(100,2), np.random.randn(100))\n",
    "\n",
    "f2(np.random.randn(100,2), np.random.randn(100))"
   ]
  }
 ],
 "metadata": {
  "kernelspec": {
   "display_name": "Python 2",
   "language": "python",
   "name": "python2"
  },
  "language_info": {
   "codemirror_mode": {
    "name": "ipython",
    "version": 2
   },
   "file_extension": ".py",
   "mimetype": "text/x-python",
   "name": "python",
   "nbconvert_exporter": "python",
   "pygments_lexer": "ipython2",
   "version": "2.7.6"
  }
 },
 "nbformat": 4,
 "nbformat_minor": 0
}
