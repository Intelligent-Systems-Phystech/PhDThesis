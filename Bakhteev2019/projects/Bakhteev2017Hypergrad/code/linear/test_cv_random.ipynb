{
 "cells": [
  {
   "cell_type": "code",
   "execution_count": 1,
   "metadata": {
    "collapsed": false
   },
   "outputs": [],
   "source": [
    "import numpy as np\n",
    "import sys\n",
    "sys.path.append('../../')\n",
    "sys.path.append('../../pyfos/')\n",
    "from pyfos.models.feedforward import build_feedforward\n",
    "from pyfos.generic.optimizer import gd_optimizer\n",
    "from pyfos.generic.regularizers import gaus_prior\n",
    "from functools import partial \n",
    "from pyfos.tc.simple import  simple_tc\n",
    "from pyfos.tc.cv import  cv_tc\n",
    "from pyfos.hyperoptimizers.random_search import random_optimize\n",
    "from pyfos.hyperoptimizers.no_optimize import no_optimize\n",
    "import theano\n",
    "%matplotlib inline\n",
    "import matplotlib.pylab as plt\n",
    "import random"
   ]
  },
  {
   "cell_type": "code",
   "execution_count": 2,
   "metadata": {
    "collapsed": false
   },
   "outputs": [],
   "source": [
    "matrix = np.load('../../../data/matrix.npy')\n",
    "X, Y = np.load('../../../data/linearx.npy'), np.load('../../../data/lineary.npy')\n",
    "X_train = X[:100]\n",
    "Y_train = Y[:100]\n",
    "X_test = X[100:]\n",
    "Y_test = Y[100:]\n",
    "lr = theano.shared(1.0)\n",
    "alphas = theano.shared(np.array([1.0, 1.0]))\n",
    "optimizer = partial(gd_optimizer, learning_rate=lr)\n",
    "model_build = partial(build_feedforward,  structure = [2,1], nonlinearity=lambda x:x, log_alphas =alphas, bias=False)\n",
    "\n"
   ]
  },
  {
   "cell_type": "code",
   "execution_count": 3,
   "metadata": {
    "collapsed": false
   },
   "outputs": [
    {
     "name": "stdout",
     "output_type": "stream",
     "text": [
      "[ 4.4167856   5.75108093]\n"
     ]
    }
   ],
   "source": [
    "def choicer():\n",
    "    a1 = np.random.uniform(low=0.0, high=10.0)\n",
    "    a2 = np.random.uniform(low=0.0, high=10.0)\n",
    "    a1 = np.sqrt(10**(a1))\n",
    "    a2 = np.sqrt(10**(a2))\n",
    "    return np.log([a1,a2])\n",
    "print choicer()    "
   ]
  },
  {
   "cell_type": "code",
   "execution_count": 4,
   "metadata": {
    "collapsed": false,
    "scrolled": true
   },
   "outputs": [
    {
     "name": "stdout",
     "output_type": "stream",
     "text": [
      "attemp\n",
      "hyperparams values: [  9.21239987  10.84761298]\n",
      "trial 0 iteration 0, internal loss=-1357.06659361 time=0.00470089912415\n",
      "score -137.843468314 vs best -inf\n",
      "hyperparams values: [ 10.34228418   8.25684931]\n",
      "trial 1 iteration 0, internal loss=-1355.60571425 time=0.00137782096863\n",
      "score -137.843468314 vs best -137.843468314\n",
      "hyperparams values: [ 6.41625678  4.90802037]\n",
      "trial 2 iteration 0, internal loss=-1348.33085792 time=0.00157499313354\n",
      "score -137.843468317 vs best -137.843468314\n",
      "hyperparams values: [ 5.38095076  4.83567485]\n",
      "trial 3 iteration 0, internal loss=-1347.22320637 time=0.00151014328003\n",
      "score -137.843468325 vs best -137.843468314\n",
      "hyperparams values: [ 4.72557514  1.37719194]\n",
      "trial 4 iteration 0, internal loss=-1343.10934784 time=0.00143599510193\n",
      "score -137.844051995 vs best -137.843468314\n",
      "hyperparams values: [ 7.71586932  0.9135584 ]\n",
      "trial 5 iteration 0, internal loss=-1345.63600848 time=0.00257992744446\n",
      "score -137.847181997 vs best -137.843468314\n",
      "hyperparams values: [ 0.62339457  9.31443506]\n",
      "trial 6 iteration 0, internal loss=-1346.94441039 time=0.00102305412292\n",
      "score -137.846253928 vs best -137.843468314\n",
      "hyperparams values: [ 7.16080869  3.63084534]\n",
      "trial 7 iteration 0, internal loss=-1347.79823479 time=0.00167393684387\n",
      "score -137.843468405 vs best -137.843468314\n",
      "hyperparams values: [ 7.71883183  5.48877909]\n",
      "trial 8 iteration 0, internal loss=-1350.21419167 time=0.0024049282074\n",
      "score -137.843468315 vs best -137.843468314\n",
      "hyperparams values: [ 4.33430538  1.53164621]\n",
      "trial 9 iteration 0, internal loss=-1342.87253235 time=0.00141501426697\n",
      "score -137.843783514 vs best -137.843468314\n",
      "hyperparams values: [ 6.51977101  0.41510495]\n",
      "trial 10 iteration 0, internal loss=-1343.94145672 time=0.00146913528442\n",
      "score -137.870547838 vs best -137.843468314\n",
      "hyperparams values: [ 8.529086    9.91935093]\n",
      "trial 11 iteration 0, internal loss=-1355.4550177 time=0.0021800994873\n",
      "score -137.843468314 vs best -137.843468314\n",
      "hyperparams values: [ 2.10247325  2.87048715]\n",
      "trial 12 iteration 0, internal loss=-1341.97954117 time=0.00174403190613\n",
      "score -137.843483142 vs best -137.843468314\n",
      "hyperparams values: [ 9.98452934  1.50795768]\n",
      "trial 13 iteration 0, internal loss=-1348.49906779 time=0.00156283378601\n",
      "score -137.843814661 vs best -137.843468314\n",
      "hyperparams values: [ 4.17846095  3.14186044]\n",
      "trial 14 iteration 0, internal loss=-1344.32690215 time=0.00113606452942\n",
      "score -137.843468961 vs best -137.843468314\n",
      "hyperparams values: [ 8.72245029  9.77531571]\n",
      "trial 15 iteration 0, internal loss=-1355.50434676 time=0.00146889686584\n",
      "score -137.843468314 vs best -137.843468314\n",
      "hyperparams values: [ 11.29913733   9.03725892]\n",
      "trial 16 iteration 0, internal loss=-1357.34297701 time=0.00187802314758\n",
      "score -137.843468314 vs best -137.843468314\n",
      "hyperparams values: [ 8.90367124  5.61447607]\n",
      "trial 17 iteration 0, internal loss=-1351.52472807 time=0.00184893608093\n",
      "score -137.843468315 vs best -137.843468314\n",
      "hyperparams values: [ 0.26149654  2.99933615]\n",
      "trial 18 iteration 0, internal loss=-1340.26741345 time=0.00157809257507\n",
      "score -137.854960758 vs best -137.843468314\n",
      "hyperparams values: [ 10.28071724   7.51155841]\n",
      "trial 19 iteration 0, internal loss=-1354.79885642 time=0.00140595436096\n",
      "score -137.843468314 vs best -137.843468314\n",
      "hyperparams values: [ 9.66267411  6.91878164]\n",
      "trial 20 iteration 0, internal loss=-1353.58803651 time=0.00130200386047\n",
      "score -137.843468314 vs best -137.843468314\n",
      "hyperparams values: [ 3.02431305  1.87916492]\n",
      "trial 21 iteration 0, internal loss=-1341.91005873 time=0.00150489807129\n",
      "score -137.843548406 vs best -137.843468314\n",
      "hyperparams values: [ 8.72049922  2.13814239]\n",
      "trial 22 iteration 0, internal loss=-1347.86522237 time=0.00132608413696\n",
      "score -137.843496454 vs best -137.843468314\n",
      "hyperparams values: [ 6.3459365   3.62929297]\n",
      "trial 23 iteration 0, internal loss=-1346.98181024 time=0.00405621528625\n",
      "score -137.843468406 vs best -137.843468314\n",
      "hyperparams values: [ 7.77884926  2.36991359]\n",
      "trial 24 iteration 0, internal loss=-1347.1553436 time=0.00327682495117\n",
      "score -137.843479539 vs best -137.843468314\n",
      "hyperparams values: [ 0.74747303  8.51748311]\n",
      "trial 25 iteration 0, internal loss=-1346.2715369 time=0.00269103050232\n",
      "score -137.845186823 vs best -137.843468314\n",
      "hyperparams values: [  9.95024453  11.25701391]\n",
      "trial 26 iteration 0, internal loss=-1358.2138392 time=0.00166392326355\n",
      "score -137.843468314 vs best -137.843468314\n",
      "hyperparams values: [  2.48167568  10.68218216]\n",
      "trial 27 iteration 0, internal loss=-1350.1704386 time=0.000873804092407\n",
      "score -137.843472658 vs best -137.843468314\n",
      "hyperparams values: [ 9.93996517  4.47044005]\n",
      "trial 28 iteration 0, internal loss=-1351.41698597 time=0.0019850730896\n",
      "score -137.84346832 vs best -137.843468314\n",
      "hyperparams values: [ 2.6754899   4.09740063]\n",
      "trial 29 iteration 0, internal loss=-1343.77947129 time=0.00137710571289\n",
      "score -137.843470936 vs best -137.843468314\n",
      "hyperparams values: [ 10.02536722   1.03897376]\n",
      "trial 30 iteration 0, internal loss=-1348.07092175 time=0.00175786018372\n",
      "score -137.845719639 vs best -137.843468314\n",
      "hyperparams values: [ 4.88636038  4.56791684]\n",
      "trial 31 iteration 0, internal loss=-1346.46085797 time=0.00144791603088\n",
      "score -137.843468341 vs best -137.843468314\n",
      "hyperparams values: [  2.38815707  10.47341706]\n",
      "trial 32 iteration 0, internal loss=-1349.86815489 time=0.00138998031616\n",
      "score -137.843473946 vs best -137.843468314\n",
      "hyperparams values: [ 7.49607285  6.05980816]\n",
      "trial 33 iteration 0, internal loss=-1350.56246177 time=0.00124502182007\n",
      "score -137.843468315 vs best -137.843468314\n",
      "hyperparams values: [ 2.19700915  6.96545374]\n",
      "trial 34 iteration 0, internal loss=-1346.16904366 time=0.00172901153564\n",
      "score -137.84347815 vs best -137.843468314\n",
      "hyperparams values: [  9.3679961   10.98906345]\n",
      "trial 35 iteration 0, internal loss=-1357.36364031 time=0.00241303443909\n",
      "score -137.843468314 vs best -137.843468314\n",
      "hyperparams values: [ 2.38657954  6.90158739]\n",
      "trial 36 iteration 0, internal loss=-1346.29474769 time=0.00144410133362\n",
      "score -137.843473971 vs best -137.843468314\n",
      "hyperparams values: [ 6.48261509  2.5151942 ]\n",
      "trial 37 iteration 0, internal loss=-1346.00439004 time=0.00124311447144\n",
      "score -137.843474638 vs best -137.843468314\n",
      "hyperparams values: [ 0.73701156  0.47605979]\n",
      "trial 38 iteration 0, internal loss=-1338.2196521 time=0.00134897232056\n",
      "score -137.86672542 vs best -137.843468314\n",
      "hyperparams values: [ 6.29284814  1.43526533]\n",
      "trial 39 iteration 0, internal loss=-1344.73469423 time=0.00201106071472\n",
      "score -137.843931216 vs best -137.843468314\n",
      "hyperparams values: [ 1.95981045  0.0838036 ]\n",
      "trial 40 iteration 0, internal loss=-1339.0501948 time=0.00159192085266\n",
      "score -137.94445808 vs best -137.843468314\n",
      "hyperparams values: [ 3.09264384  9.09716746]\n",
      "trial 41 iteration 0, internal loss=-1349.19639207 time=0.00224304199219\n",
      "score -137.843469263 vs best -137.843468314\n",
      "hyperparams values: [ 3.51562589  9.79943906]\n",
      "trial 42 iteration 0, internal loss=-1350.32164571 time=0.00126194953918\n",
      "score -137.843468687 vs best -137.843468314\n",
      "hyperparams values: [ 10.09630221   2.56302302]\n",
      "trial 43 iteration 0, internal loss=-1349.665906 time=0.00168704986572\n",
      "score -137.843473551 vs best -137.843468314\n",
      "hyperparams values: [ 8.13275095  4.73248542]\n",
      "trial 44 iteration 0, internal loss=-1349.87181713 time=0.00160908699036\n",
      "score -137.843468317 vs best -137.843468314\n",
      "hyperparams values: [ 2.02004719  2.95769944]\n",
      "trial 45 iteration 0, internal loss=-1341.98432739 time=0.00147104263306\n",
      "score -137.843486579 vs best -137.843468314\n",
      "hyperparams values: [ 2.82232599  0.25020453]\n",
      "trial 46 iteration 0, internal loss=-1340.07911128 time=0.00132894515991\n",
      "score -137.895637572 vs best -137.843468314\n",
      "hyperparams values: [ 0.58771964  2.00714368]\n",
      "trial 47 iteration 0, internal loss=-1339.60144408 time=0.0012629032135\n",
      "score -137.846731529 vs best -137.843468314\n",
      "hyperparams values: [ 11.23572851   0.72138216]\n",
      "trial 48 iteration 0, internal loss=-1348.96369143 time=0.00159406661987\n",
      "score -137.851461744 vs best -137.843468314\n",
      "hyperparams values: [ 9.67805685  9.7658753 ]\n",
      "trial 49 iteration 0, internal loss=-1356.45051292 time=0.00155210494995\n",
      "score -137.843468314 vs best -137.843468314\n",
      "-137.843468314\n"
     ]
    }
   ],
   "source": [
    "bests = []\n",
    "lr_ranges =   [10**(-2)]#[10**(-2),  0.5*10**(-2), 10**(-3), 0.5*10**(-3)]\n",
    "lr.set_value(0.01)\n",
    "for trial in range(1):\n",
    "    print 'attemp'\n",
    "    bests.append( random_optimize(partial(cv_tc, k =4,  batch_size=75), model_build, optimizer, 50, 10, X_train, Y_train,  [alphas] ,\n",
    "     [choicer], verbose=999))\n",
    "    print bests[-1].history[-1][-1]"
   ]
  },
  {
   "cell_type": "code",
   "execution_count": 5,
   "metadata": {
    "collapsed": false
   },
   "outputs": [
    {
     "data": {
      "image/png": "[encoded data removed]",
      "text/plain": [
       "<matplotlib.figure.Figure at 0x7f89640ec250>"
      ]
     },
     "metadata": {},
     "output_type": "display_data"
    }
   ],
   "source": [
    "\n",
    "import cPickle\n",
    "#with open('results_cv_rand.pckl','rb') as inp:\n",
    "#    bests = cPickle.load(inp)\n",
    "\n",
    "for b in bests:\n",
    "    history = []\n",
    "    for i in xrange(0, len(b.history)):\n",
    "        \n",
    "        best_value = max([h[1] for h in b.history[:i+1]])\n",
    "        \n",
    "        history.append(best_value)\n",
    "    plt.plot(history)\n",
    "#plt.ylim((-100, -80))\n",
    "plt.xlim((1,50))\n",
    "\n",
    "import cPickle\n",
    "with open('results_cv_rand.pckl','wb') as out:\n",
    "    cPickle.dump(bests, out)\n"
   ]
  },
  {
   "cell_type": "code",
   "execution_count": 12,
   "metadata": {
    "collapsed": false
   },
   "outputs": [
    {
     "data": {
      "text/plain": [
       "([array([ 5.75646273,  1.15129255]), 0.01], array(-inf))"
      ]
     },
     "execution_count": 12,
     "metadata": {},
     "output_type": "execute_result"
    }
   ],
   "source": [
    "bests[0].history[1]"
   ]
  },
  {
   "cell_type": "code",
   "execution_count": 6,
   "metadata": {
    "collapsed": false
   },
   "outputs": [
    {
     "name": "stdout",
     "output_type": "stream",
     "text": [
      "9.43914336962e-05\n",
      "0.000124289005293\n",
      "0.00129238139516\n",
      "0.000242562662603\n",
      "0.000779013165161\n",
      "0.0102724095201\n",
      "0.000206747922337\n",
      "0.000140740432021\n",
      "0.000132832862326\n",
      "8.03570899432e-06\n",
      "0.00749791590336\n",
      "6.75131708431e-05\n",
      "0.003461156779\n",
      "0.000129756949236\n",
      "0.000222773236192\n",
      "0.000242858305185\n",
      "7.31068395923e-06\n",
      "0.000446081971565\n",
      "2.10039527387e-05\n",
      "0.00498557348802\n",
      "0.000127393299536\n",
      "0.000344975987004\n",
      "0.00193295197259\n",
      "1.12403631093e-05\n",
      "0.00110372549492\n",
      "0.000169369711448\n",
      "8.88501579515e-05\n",
      "0.000371158334277\n",
      "5.25537631743e-05\n",
      "0.000169072496902\n",
      "6.99270861379e-05\n",
      "0.000118547148409\n",
      "0.00031077408314\n",
      "0.000360231067999\n",
      "0.00288808340749\n",
      "0.00124557541155\n",
      "0.0080222197081\n",
      "0.000376121747349\n",
      "0.000469794144926\n",
      "0.000297591329386\n",
      "0.00025797182711\n",
      "0.00567665490985\n",
      "2.50256902362e-05\n",
      "2.5725705823e-05\n",
      "3.9389787181e-05\n",
      "0.000166544706471\n",
      "0.000305865928779\n",
      "5.53252217421e-05\n",
      "0.000103489182896\n",
      "0.000183979775623\n",
      "0.000195866374435\n",
      "0.000208717300477\n",
      "2.41616115724e-05\n",
      "0.000922038736434\n",
      "0.000177551325219\n",
      "0.00052912656389\n",
      "0.000980365436934\n",
      "0.000392123433262\n",
      "0.000854405144585\n",
      "0.000125633289021\n",
      "0.0084750998913\n",
      "6.0865953532e-05\n",
      "2.47195201233e-05\n",
      "0.0219657832574\n",
      "4.51565572406e-05\n",
      "6.77217789663e-05\n",
      "0.00120027534512\n",
      "0.000341222200108\n",
      "8.28003001137e-05\n",
      "0.000549224347555\n",
      "0.00832597885439\n",
      "0.00187017232281\n",
      "0.00168977599448\n",
      "3.42599818764e-05\n",
      "0.000351331773181\n",
      "0.000863379008847\n",
      "3.773667364e-05\n",
      "2.51521629832e-05\n",
      "0.00479838694651\n",
      "1.07432667782e-05\n",
      "0.0130772213067\n",
      "0.000126185404682\n",
      "2.16785069426e-05\n",
      "0.000137885913645\n",
      "6.37559355887e-05\n",
      "2.74079693371e-05\n",
      "1.90408925581e-05\n",
      "0.000326320814701\n",
      "1.70845560038e-05\n",
      "0.0228499910101\n",
      "0.000176445411013\n",
      "8.39231508052e-05\n",
      "1.47892605331e-05\n",
      "0.000194927729238\n",
      "0.00125547543296\n",
      "0.00372906354441\n",
      "2.19683887134e-05\n",
      "0.00167026769434\n",
      "0.000105543204654\n",
      "0.000123607894831\n",
      "0.000605414293974\n",
      "6.01478433419e-05\n",
      "0.00115249607299\n",
      "8.23619941897e-05\n",
      "9.38518240975e-05\n",
      "0.00277399316189\n",
      "0.000153371759708\n",
      "4.5681880216e-06\n",
      "0.000123320105335\n",
      "1.0778295855e-05\n",
      "5.30587532614e-06\n",
      "0.00063274342395\n",
      "5.84731535167e-06\n",
      "0.000168065141339\n",
      "0.00146987632443\n",
      "0.00476572591548\n",
      "3.23905929221e-05\n",
      "0.0262438633737\n",
      "0.00212527316203\n",
      "0.00275525219534\n",
      "2.13297618402e-05\n",
      "0.00199988756079\n",
      "0.000260362863841\n",
      "1.12266231015e-05\n",
      "0.000271348438173\n",
      "0.0143831745657\n",
      "0.00112286194462\n",
      "8.9602670202e-05\n",
      "0.00100774960502\n",
      "0.000186375494929\n",
      "7.28526218113e-05\n",
      "1.78302943317e-06\n",
      "7.93760412038e-06\n",
      "0.00206809221017\n",
      "6.14242173641e-05\n",
      "0.0164493702629\n",
      "2.40674584057e-05\n",
      "0.000514272033379\n",
      "0.00232177317489\n",
      "0.000168234804593\n",
      "4.39629787099e-05\n",
      "0.00034700691144\n",
      "9.14152946724e-05\n",
      "0.000425076484167\n",
      "0.000565105756944\n",
      "0.000453078052759\n",
      "0.000168182570361\n",
      "0.0279508083721\n",
      "5.57923860772e-05\n",
      "9.11167474988e-05\n",
      "0.000151926977031\n",
      "7.32719263751e-05\n",
      "0.00382240558629\n",
      "0.00157591449238\n",
      "5.83441871446e-05\n",
      "0.000364801114324\n",
      "6.06025668379e-05\n",
      "0.00209037118424\n",
      "0.00099121695083\n",
      "0.000527575218507\n",
      "6.51765999646e-05\n",
      "9.81020084718e-05\n",
      "7.65670762083e-05\n",
      "0.000704570923519\n",
      "2.78463121498e-05\n",
      "0.00581071146549\n",
      "8.68342312852e-05\n",
      "0.00114972683496\n",
      "0.000479560476716\n",
      "2.05161972749e-05\n",
      "0.00292198089205\n",
      "2.3017978106e-05\n",
      "1.96447643846e-05\n",
      "0.000197040131181\n",
      "0.00047046512942\n",
      "0.000526950949515\n",
      "1.23250646758e-05\n",
      "0.000226050550827\n",
      "3.17766479925e-05\n",
      "2.54584886886e-05\n",
      "0.000110868001675\n",
      "8.96157166113e-05\n",
      "0.00058165419702\n",
      "4.95098482861e-05\n",
      "2.69233930305e-05\n",
      "0.00029423121532\n",
      "0.000111767179433\n",
      "0.000144472637014\n",
      "0.00117162619506\n",
      "0.000550564748599\n",
      "0.000707609378483\n",
      "2.81993504044e-05\n",
      "2.06246408371e-05\n",
      "8.28812904393e-05\n",
      "0.000126102329418\n",
      "0.000143104004125\n",
      "0.00347395424254\n",
      "1.04987176349e-05\n",
      "8.06925771789e-05\n",
      "0.000186139729788\n",
      "0.00150099774526\n",
      "0.00407938234164\n"
     ]
    }
   ],
   "source": [
    "import theano.tensor as T\n",
    "X = T.matrix()\n",
    "result = []\n",
    "models = []\n",
    "predicts = []\n",
    "\n",
    "for m in xrange(4):\n",
    "    models.append(model_build(dataset_size=100))\n",
    "    predict = models[m].predict_var(X)\n",
    "    predicts.append(theano.function([X], predict))\n",
    "for b in bests:\n",
    "    scores = [b.history[i][1] for i in xrange(len(b.history))]\n",
    "    best = np.argmax(scores)\n",
    "    \n",
    "    for m in xrange(4):\n",
    "        #print b.history[best][2][m]\n",
    "        models[m].params.set_value(b.history[best][2][m])\n",
    "        result.append(np.mean((predicts[m](X_test)[:,0]-Y_test)**2))\n",
    "        print result[-1]\n",
    "    \"\"\"\n",
    "    bests.append( random_optimize(partial(cv_tc, k =4,  batch_size=75), model_build, optimizer, 50, 10, X_train, Y_train,  [alphas, lr] ,\n",
    "     [alpha_ranges, lr_ranges], verbose=100))\n",
    "    X = T.matrix()    \n",
    "    model = model_build(dataset_size=100)\n",
    "    \n",
    "    \n",
    "    \"\"\"\n",
    "\n",
    "print np.mean(result)\n",
    "print np.std(result)"
   ]
  },
  {
   "cell_type": "code",
   "execution_count": 11,
   "metadata": {
    "collapsed": false
   },
   "outputs": [
    {
     "name": "stdout",
     "output_type": "stream",
     "text": [
      "-116.59428108\n"
     ]
    }
   ],
   "source": [
    "best_values = []\n",
    "for b in bests:\n",
    "    history = []\n",
    "    for i in xrange(0, len(b.history)):\n",
    "        \n",
    "        best_value = max([h[1] for h in b.history[:i+1]])\n",
    "        \n",
    "        history.append(best_value)\n",
    "        best_values.append(history[-1])\n",
    "print np.mean(best_values)"
   ]
  },
  {
   "cell_type": "code",
   "execution_count": 10,
   "metadata": {
    "collapsed": false
   },
   "outputs": [
    {
     "data": {
      "text/plain": [
       "[([array([  31.6227766 ,  316.22776602]), 0.001], array(-127.64285224474986)),\n",
       " ([array([ 10.        ,   3.16227766]), 0.01], array(-162.5087255392545)),\n",
       " ([array([ 31.6227766 ,   3.16227766]), 0.01], array(-2.7627426873481633e+42)),\n",
       " ([array([  10.,  100.]), 0.005], array(-124.3719052719263)),\n",
       " ([array([  3.16227766,  31.6227766 ]), 0.01], array(-1.2198974168241432e+41)),\n",
       " ([array([ 316.22776602,    1.        ]), 0.001], array(-122.78697142872564)),\n",
       " ([array([ 1.,  1.]), 0.01], array(-2.048288202990528e+45)),\n",
       " ([array([ 316.22776602,   10.        ]), 0.02], array(nan)),\n",
       " ([array([   1.,  100.]), 0.005], array(-127.03124347465777)),\n",
       " ([array([  3.16227766,  31.6227766 ]), 0.01], array(-3.879875247817619e+79))]"
      ]
     },
     "execution_count": 10,
     "metadata": {},
     "output_type": "execute_result"
    }
   ],
   "source": []
  },
  {
   "cell_type": "code",
   "execution_count": 33,
   "metadata": {
    "collapsed": false
   },
   "outputs": [
    {
     "name": "stdout",
     "output_type": "stream",
     "text": [
      "[ 1.  1.]\n",
      "[ 1.  1.]\n",
      "[ 10.   1.]\n",
      "[ 1.  1.]\n",
      "[ 1.  1.]\n"
     ]
    }
   ],
   "source": [
    "for i in bests:\n",
    "    print np.array(i.best_values[0])**2"
   ]
  },
  {
   "cell_type": "code",
   "execution_count": 7,
   "metadata": {
    "collapsed": false
   },
   "outputs": [
    {
     "data": {
      "image/png": "[encoded data removed]",
      "text/plain": [
       "<matplotlib.figure.Figure at 0x7f6dbaefdd90>"
      ]
     },
     "metadata": {},
     "output_type": "display_data"
    }
   ],
   "source": [
    "plt.matshow(matrix.T)\n",
    "for i in bests:\n",
    "    i = i.best_values[0]\n",
    "    i = np.log10(np.exp(2*i))\n",
    "    \n",
    "    plt.scatter(i[0]+np.random.randn(1)*0.1,i[1]+np.random.randn(1)*0.1, c='w')"
   ]
  },
  {
   "cell_type": "code",
   "execution_count": 7,
   "metadata": {
    "collapsed": false
   },
   "outputs": [],
   "source": [
    "model = model_build(dataset_size=100)"
   ]
  },
  {
   "cell_type": "code",
   "execution_count": 9,
   "metadata": {
    "collapsed": false
   },
   "outputs": [],
   "source": [
    "import theano.tensor as T"
   ]
  },
  {
   "cell_type": "code",
   "execution_count": 28,
   "metadata": {
    "collapsed": true
   },
   "outputs": [],
   "source": [
    "X,Y = T.matrix(), T.vector()"
   ]
  },
  {
   "cell_type": "code",
   "execution_count": 29,
   "metadata": {
    "collapsed": true
   },
   "outputs": [],
   "source": [
    "cost = model.cost(X,Y)"
   ]
  },
  {
   "cell_type": "code",
   "execution_count": 35,
   "metadata": {
    "collapsed": false
   },
   "outputs": [
    {
     "name": "stdout",
     "output_type": "stream",
     "text": [
      "Elemwise{add,no_inplace}.0\n"
     ]
    }
   ],
   "source": [
    "f = theano.function([X,Y], cost)\n",
    "print cost\n",
    "f2 = theano.function([X,Y], T.grad(cost, model.params))\n",
    "model.params.set_value([ 102.5926679 ,    0.23016751])"
   ]
  },
  {
   "cell_type": "code",
   "execution_count": 36,
   "metadata": {
    "collapsed": false
   },
   "outputs": [
    {
     "data": {
      "text/plain": [
       "array([ -1.02592668e+08,  -2.30167510e+05])"
      ]
     },
     "execution_count": 36,
     "metadata": {},
     "output_type": "execute_result"
    }
   ],
   "source": [
    "#f(np.random.randn(100,2), np.random.randn(100))\n",
    "\n",
    "f2(np.random.randn(100,2), np.random.randn(100))"
   ]
  }
 ],
 "metadata": {
  "kernelspec": {
   "display_name": "Python 2",
   "language": "python",
   "name": "python2"
  },
  "language_info": {
   "codemirror_mode": {
    "name": "ipython",
    "version": 2
   },
   "file_extension": ".py",
   "mimetype": "text/x-python",
   "name": "python",
   "nbconvert_exporter": "python",
   "pygments_lexer": "ipython2",
   "version": "2.7.6"
  }
 },
 "nbformat": 4,
 "nbformat_minor": 0
}
